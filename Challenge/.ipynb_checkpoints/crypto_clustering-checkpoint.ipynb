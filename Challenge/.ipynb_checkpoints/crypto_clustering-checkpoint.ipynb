{
 "cells": [
  {
   "cell_type": "markdown",
   "metadata": {},
   "source": [
    "# Clustering Crypto"
   ]
  },
  {
   "cell_type": "code",
   "execution_count": 42,
   "metadata": {},
   "outputs": [],
   "source": [
    "# Initial imports\n",
    "import pandas as pd\n",
    "import hvplot.pandas\n",
    "from path import Path\n",
    "import plotly.express as px\n",
    "from sklearn.preprocessing import StandardScaler, MinMaxScaler\n",
    "from sklearn.decomposition import PCA\n",
    "from sklearn.cluster import KMeans\n"
   ]
  },
  {
   "cell_type": "markdown",
   "metadata": {},
   "source": [
    "### Deliverable 1: Preprocessing the Data for PCA"
   ]
  },
  {
   "cell_type": "code",
   "execution_count": 43,
   "metadata": {},
   "outputs": [
    {
     "data": {
      "text/html": [
       "<div>\n",
       "<style scoped>\n",
       "    .dataframe tbody tr th:only-of-type {\n",
       "        vertical-align: middle;\n",
       "    }\n",
       "\n",
       "    .dataframe tbody tr th {\n",
       "        vertical-align: top;\n",
       "    }\n",
       "\n",
       "    .dataframe thead th {\n",
       "        text-align: right;\n",
       "    }\n",
       "</style>\n",
       "<table border=\"1\" class=\"dataframe\">\n",
       "  <thead>\n",
       "    <tr style=\"text-align: right;\">\n",
       "      <th></th>\n",
       "      <th>CoinName</th>\n",
       "      <th>Algorithm</th>\n",
       "      <th>IsTrading</th>\n",
       "      <th>ProofType</th>\n",
       "      <th>TotalCoinsMined</th>\n",
       "      <th>TotalCoinSupply</th>\n",
       "    </tr>\n",
       "  </thead>\n",
       "  <tbody>\n",
       "    <tr>\n",
       "      <th>42</th>\n",
       "      <td>42 Coin</td>\n",
       "      <td>Scrypt</td>\n",
       "      <td>True</td>\n",
       "      <td>PoW/PoS</td>\n",
       "      <td>4.199995e+01</td>\n",
       "      <td>42</td>\n",
       "    </tr>\n",
       "    <tr>\n",
       "      <th>365</th>\n",
       "      <td>365Coin</td>\n",
       "      <td>X11</td>\n",
       "      <td>True</td>\n",
       "      <td>PoW/PoS</td>\n",
       "      <td>NaN</td>\n",
       "      <td>2300000000</td>\n",
       "    </tr>\n",
       "    <tr>\n",
       "      <th>404</th>\n",
       "      <td>404Coin</td>\n",
       "      <td>Scrypt</td>\n",
       "      <td>True</td>\n",
       "      <td>PoW/PoS</td>\n",
       "      <td>1.055185e+09</td>\n",
       "      <td>532000000</td>\n",
       "    </tr>\n",
       "    <tr>\n",
       "      <th>611</th>\n",
       "      <td>SixEleven</td>\n",
       "      <td>SHA-256</td>\n",
       "      <td>True</td>\n",
       "      <td>PoW</td>\n",
       "      <td>NaN</td>\n",
       "      <td>611000</td>\n",
       "    </tr>\n",
       "    <tr>\n",
       "      <th>808</th>\n",
       "      <td>808</td>\n",
       "      <td>SHA-256</td>\n",
       "      <td>True</td>\n",
       "      <td>PoW/PoS</td>\n",
       "      <td>0.000000e+00</td>\n",
       "      <td>0</td>\n",
       "    </tr>\n",
       "    <tr>\n",
       "      <th>...</th>\n",
       "      <td>...</td>\n",
       "      <td>...</td>\n",
       "      <td>...</td>\n",
       "      <td>...</td>\n",
       "      <td>...</td>\n",
       "      <td>...</td>\n",
       "    </tr>\n",
       "    <tr>\n",
       "      <th>XBC</th>\n",
       "      <td>BitcoinPlus</td>\n",
       "      <td>Scrypt</td>\n",
       "      <td>True</td>\n",
       "      <td>PoS</td>\n",
       "      <td>1.283270e+05</td>\n",
       "      <td>1000000</td>\n",
       "    </tr>\n",
       "    <tr>\n",
       "      <th>DVTC</th>\n",
       "      <td>DivotyCoin</td>\n",
       "      <td>Scrypt</td>\n",
       "      <td>False</td>\n",
       "      <td>PoW/PoS</td>\n",
       "      <td>2.149121e+07</td>\n",
       "      <td>100000000</td>\n",
       "    </tr>\n",
       "    <tr>\n",
       "      <th>GIOT</th>\n",
       "      <td>Giotto Coin</td>\n",
       "      <td>Scrypt</td>\n",
       "      <td>False</td>\n",
       "      <td>PoW/PoS</td>\n",
       "      <td>NaN</td>\n",
       "      <td>233100000</td>\n",
       "    </tr>\n",
       "    <tr>\n",
       "      <th>OPSC</th>\n",
       "      <td>OpenSourceCoin</td>\n",
       "      <td>SHA-256</td>\n",
       "      <td>False</td>\n",
       "      <td>PoW/PoS</td>\n",
       "      <td>NaN</td>\n",
       "      <td>21000000</td>\n",
       "    </tr>\n",
       "    <tr>\n",
       "      <th>PUNK</th>\n",
       "      <td>SteamPunk</td>\n",
       "      <td>PoS</td>\n",
       "      <td>False</td>\n",
       "      <td>PoS</td>\n",
       "      <td>NaN</td>\n",
       "      <td>40000000</td>\n",
       "    </tr>\n",
       "  </tbody>\n",
       "</table>\n",
       "<p>1252 rows × 6 columns</p>\n",
       "</div>"
      ],
      "text/plain": [
       "            CoinName Algorithm  IsTrading ProofType  TotalCoinsMined  \\\n",
       "42           42 Coin    Scrypt       True   PoW/PoS     4.199995e+01   \n",
       "365          365Coin       X11       True   PoW/PoS              NaN   \n",
       "404          404Coin    Scrypt       True   PoW/PoS     1.055185e+09   \n",
       "611        SixEleven   SHA-256       True       PoW              NaN   \n",
       "808              808   SHA-256       True   PoW/PoS     0.000000e+00   \n",
       "...              ...       ...        ...       ...              ...   \n",
       "XBC      BitcoinPlus    Scrypt       True       PoS     1.283270e+05   \n",
       "DVTC      DivotyCoin    Scrypt      False   PoW/PoS     2.149121e+07   \n",
       "GIOT     Giotto Coin    Scrypt      False   PoW/PoS              NaN   \n",
       "OPSC  OpenSourceCoin   SHA-256      False   PoW/PoS              NaN   \n",
       "PUNK       SteamPunk       PoS      False       PoS              NaN   \n",
       "\n",
       "     TotalCoinSupply  \n",
       "42                42  \n",
       "365       2300000000  \n",
       "404        532000000  \n",
       "611           611000  \n",
       "808                0  \n",
       "...              ...  \n",
       "XBC          1000000  \n",
       "DVTC       100000000  \n",
       "GIOT       233100000  \n",
       "OPSC        21000000  \n",
       "PUNK        40000000  \n",
       "\n",
       "[1252 rows x 6 columns]"
      ]
     },
     "execution_count": 43,
     "metadata": {},
     "output_type": "execute_result"
    }
   ],
   "source": [
    "# Load the crypto_data.csv dataset.\n",
    "file_path = \"./crypto_data.csv\"\n",
    "crypto_df = pd.read_csv(file_path, index_col=0)\n",
    "crypto_df"
   ]
  },
  {
   "cell_type": "code",
   "execution_count": 44,
   "metadata": {},
   "outputs": [
    {
     "data": {
      "text/html": [
       "<div>\n",
       "<style scoped>\n",
       "    .dataframe tbody tr th:only-of-type {\n",
       "        vertical-align: middle;\n",
       "    }\n",
       "\n",
       "    .dataframe tbody tr th {\n",
       "        vertical-align: top;\n",
       "    }\n",
       "\n",
       "    .dataframe thead th {\n",
       "        text-align: right;\n",
       "    }\n",
       "</style>\n",
       "<table border=\"1\" class=\"dataframe\">\n",
       "  <thead>\n",
       "    <tr style=\"text-align: right;\">\n",
       "      <th></th>\n",
       "      <th>CoinName</th>\n",
       "      <th>Algorithm</th>\n",
       "      <th>IsTrading</th>\n",
       "      <th>ProofType</th>\n",
       "      <th>TotalCoinsMined</th>\n",
       "      <th>TotalCoinSupply</th>\n",
       "    </tr>\n",
       "  </thead>\n",
       "  <tbody>\n",
       "    <tr>\n",
       "      <th>42</th>\n",
       "      <td>42 Coin</td>\n",
       "      <td>Scrypt</td>\n",
       "      <td>True</td>\n",
       "      <td>PoW/PoS</td>\n",
       "      <td>4.199995e+01</td>\n",
       "      <td>42</td>\n",
       "    </tr>\n",
       "    <tr>\n",
       "      <th>365</th>\n",
       "      <td>365Coin</td>\n",
       "      <td>X11</td>\n",
       "      <td>True</td>\n",
       "      <td>PoW/PoS</td>\n",
       "      <td>NaN</td>\n",
       "      <td>2300000000</td>\n",
       "    </tr>\n",
       "    <tr>\n",
       "      <th>404</th>\n",
       "      <td>404Coin</td>\n",
       "      <td>Scrypt</td>\n",
       "      <td>True</td>\n",
       "      <td>PoW/PoS</td>\n",
       "      <td>1.055185e+09</td>\n",
       "      <td>532000000</td>\n",
       "    </tr>\n",
       "    <tr>\n",
       "      <th>611</th>\n",
       "      <td>SixEleven</td>\n",
       "      <td>SHA-256</td>\n",
       "      <td>True</td>\n",
       "      <td>PoW</td>\n",
       "      <td>NaN</td>\n",
       "      <td>611000</td>\n",
       "    </tr>\n",
       "    <tr>\n",
       "      <th>808</th>\n",
       "      <td>808</td>\n",
       "      <td>SHA-256</td>\n",
       "      <td>True</td>\n",
       "      <td>PoW/PoS</td>\n",
       "      <td>0.000000e+00</td>\n",
       "      <td>0</td>\n",
       "    </tr>\n",
       "    <tr>\n",
       "      <th>...</th>\n",
       "      <td>...</td>\n",
       "      <td>...</td>\n",
       "      <td>...</td>\n",
       "      <td>...</td>\n",
       "      <td>...</td>\n",
       "      <td>...</td>\n",
       "    </tr>\n",
       "    <tr>\n",
       "      <th>SERO</th>\n",
       "      <td>Super Zero</td>\n",
       "      <td>Ethash</td>\n",
       "      <td>True</td>\n",
       "      <td>PoW</td>\n",
       "      <td>NaN</td>\n",
       "      <td>1000000000</td>\n",
       "    </tr>\n",
       "    <tr>\n",
       "      <th>UOS</th>\n",
       "      <td>UOS</td>\n",
       "      <td>SHA-256</td>\n",
       "      <td>True</td>\n",
       "      <td>DPoI</td>\n",
       "      <td>NaN</td>\n",
       "      <td>1000000000</td>\n",
       "    </tr>\n",
       "    <tr>\n",
       "      <th>BDX</th>\n",
       "      <td>Beldex</td>\n",
       "      <td>CryptoNight</td>\n",
       "      <td>True</td>\n",
       "      <td>PoW</td>\n",
       "      <td>9.802226e+08</td>\n",
       "      <td>1400222610</td>\n",
       "    </tr>\n",
       "    <tr>\n",
       "      <th>ZEN</th>\n",
       "      <td>Horizen</td>\n",
       "      <td>Equihash</td>\n",
       "      <td>True</td>\n",
       "      <td>PoW</td>\n",
       "      <td>7.296538e+06</td>\n",
       "      <td>21000000</td>\n",
       "    </tr>\n",
       "    <tr>\n",
       "      <th>XBC</th>\n",
       "      <td>BitcoinPlus</td>\n",
       "      <td>Scrypt</td>\n",
       "      <td>True</td>\n",
       "      <td>PoS</td>\n",
       "      <td>1.283270e+05</td>\n",
       "      <td>1000000</td>\n",
       "    </tr>\n",
       "  </tbody>\n",
       "</table>\n",
       "<p>1144 rows × 6 columns</p>\n",
       "</div>"
      ],
      "text/plain": [
       "         CoinName    Algorithm  IsTrading ProofType  TotalCoinsMined  \\\n",
       "42        42 Coin       Scrypt       True   PoW/PoS     4.199995e+01   \n",
       "365       365Coin          X11       True   PoW/PoS              NaN   \n",
       "404       404Coin       Scrypt       True   PoW/PoS     1.055185e+09   \n",
       "611     SixEleven      SHA-256       True       PoW              NaN   \n",
       "808           808      SHA-256       True   PoW/PoS     0.000000e+00   \n",
       "...           ...          ...        ...       ...              ...   \n",
       "SERO   Super Zero       Ethash       True       PoW              NaN   \n",
       "UOS           UOS      SHA-256       True      DPoI              NaN   \n",
       "BDX        Beldex  CryptoNight       True       PoW     9.802226e+08   \n",
       "ZEN       Horizen     Equihash       True       PoW     7.296538e+06   \n",
       "XBC   BitcoinPlus       Scrypt       True       PoS     1.283270e+05   \n",
       "\n",
       "     TotalCoinSupply  \n",
       "42                42  \n",
       "365       2300000000  \n",
       "404        532000000  \n",
       "611           611000  \n",
       "808                0  \n",
       "...              ...  \n",
       "SERO      1000000000  \n",
       "UOS       1000000000  \n",
       "BDX       1400222610  \n",
       "ZEN         21000000  \n",
       "XBC          1000000  \n",
       "\n",
       "[1144 rows x 6 columns]"
      ]
     },
     "execution_count": 44,
     "metadata": {},
     "output_type": "execute_result"
    }
   ],
   "source": [
    "# Keep all the cryptocurrencies that are being traded.\n",
    "crypto_df = crypto_df.loc[crypto_df.IsTrading, :]\n",
    "crypto_df.shape[0:]\n",
    "crypto_df"
   ]
  },
  {
   "cell_type": "code",
   "execution_count": 45,
   "metadata": {},
   "outputs": [
    {
     "name": "stderr",
     "output_type": "stream",
     "text": [
      "C:\\Users\\Chris\\anaconda3\\envs\\mlenv\\lib\\site-packages\\pandas\\core\\frame.py:4913: SettingWithCopyWarning:\n",
      "\n",
      "\n",
      "A value is trying to be set on a copy of a slice from a DataFrame\n",
      "\n",
      "See the caveats in the documentation: https://pandas.pydata.org/pandas-docs/stable/user_guide/indexing.html#returning-a-view-versus-a-copy\n",
      "\n"
     ]
    },
    {
     "data": {
      "text/html": [
       "<div>\n",
       "<style scoped>\n",
       "    .dataframe tbody tr th:only-of-type {\n",
       "        vertical-align: middle;\n",
       "    }\n",
       "\n",
       "    .dataframe tbody tr th {\n",
       "        vertical-align: top;\n",
       "    }\n",
       "\n",
       "    .dataframe thead th {\n",
       "        text-align: right;\n",
       "    }\n",
       "</style>\n",
       "<table border=\"1\" class=\"dataframe\">\n",
       "  <thead>\n",
       "    <tr style=\"text-align: right;\">\n",
       "      <th></th>\n",
       "      <th>CoinName</th>\n",
       "      <th>Algorithm</th>\n",
       "      <th>ProofType</th>\n",
       "      <th>TotalCoinsMined</th>\n",
       "      <th>TotalCoinSupply</th>\n",
       "    </tr>\n",
       "  </thead>\n",
       "  <tbody>\n",
       "    <tr>\n",
       "      <th>42</th>\n",
       "      <td>42 Coin</td>\n",
       "      <td>Scrypt</td>\n",
       "      <td>PoW/PoS</td>\n",
       "      <td>4.199995e+01</td>\n",
       "      <td>42</td>\n",
       "    </tr>\n",
       "    <tr>\n",
       "      <th>365</th>\n",
       "      <td>365Coin</td>\n",
       "      <td>X11</td>\n",
       "      <td>PoW/PoS</td>\n",
       "      <td>NaN</td>\n",
       "      <td>2300000000</td>\n",
       "    </tr>\n",
       "    <tr>\n",
       "      <th>404</th>\n",
       "      <td>404Coin</td>\n",
       "      <td>Scrypt</td>\n",
       "      <td>PoW/PoS</td>\n",
       "      <td>1.055185e+09</td>\n",
       "      <td>532000000</td>\n",
       "    </tr>\n",
       "    <tr>\n",
       "      <th>611</th>\n",
       "      <td>SixEleven</td>\n",
       "      <td>SHA-256</td>\n",
       "      <td>PoW</td>\n",
       "      <td>NaN</td>\n",
       "      <td>611000</td>\n",
       "    </tr>\n",
       "    <tr>\n",
       "      <th>808</th>\n",
       "      <td>808</td>\n",
       "      <td>SHA-256</td>\n",
       "      <td>PoW/PoS</td>\n",
       "      <td>0.000000e+00</td>\n",
       "      <td>0</td>\n",
       "    </tr>\n",
       "    <tr>\n",
       "      <th>...</th>\n",
       "      <td>...</td>\n",
       "      <td>...</td>\n",
       "      <td>...</td>\n",
       "      <td>...</td>\n",
       "      <td>...</td>\n",
       "    </tr>\n",
       "    <tr>\n",
       "      <th>SERO</th>\n",
       "      <td>Super Zero</td>\n",
       "      <td>Ethash</td>\n",
       "      <td>PoW</td>\n",
       "      <td>NaN</td>\n",
       "      <td>1000000000</td>\n",
       "    </tr>\n",
       "    <tr>\n",
       "      <th>UOS</th>\n",
       "      <td>UOS</td>\n",
       "      <td>SHA-256</td>\n",
       "      <td>DPoI</td>\n",
       "      <td>NaN</td>\n",
       "      <td>1000000000</td>\n",
       "    </tr>\n",
       "    <tr>\n",
       "      <th>BDX</th>\n",
       "      <td>Beldex</td>\n",
       "      <td>CryptoNight</td>\n",
       "      <td>PoW</td>\n",
       "      <td>9.802226e+08</td>\n",
       "      <td>1400222610</td>\n",
       "    </tr>\n",
       "    <tr>\n",
       "      <th>ZEN</th>\n",
       "      <td>Horizen</td>\n",
       "      <td>Equihash</td>\n",
       "      <td>PoW</td>\n",
       "      <td>7.296538e+06</td>\n",
       "      <td>21000000</td>\n",
       "    </tr>\n",
       "    <tr>\n",
       "      <th>XBC</th>\n",
       "      <td>BitcoinPlus</td>\n",
       "      <td>Scrypt</td>\n",
       "      <td>PoS</td>\n",
       "      <td>1.283270e+05</td>\n",
       "      <td>1000000</td>\n",
       "    </tr>\n",
       "  </tbody>\n",
       "</table>\n",
       "<p>1144 rows × 5 columns</p>\n",
       "</div>"
      ],
      "text/plain": [
       "         CoinName    Algorithm ProofType  TotalCoinsMined TotalCoinSupply\n",
       "42        42 Coin       Scrypt   PoW/PoS     4.199995e+01              42\n",
       "365       365Coin          X11   PoW/PoS              NaN      2300000000\n",
       "404       404Coin       Scrypt   PoW/PoS     1.055185e+09       532000000\n",
       "611     SixEleven      SHA-256       PoW              NaN          611000\n",
       "808           808      SHA-256   PoW/PoS     0.000000e+00               0\n",
       "...           ...          ...       ...              ...             ...\n",
       "SERO   Super Zero       Ethash       PoW              NaN      1000000000\n",
       "UOS           UOS      SHA-256      DPoI              NaN      1000000000\n",
       "BDX        Beldex  CryptoNight       PoW     9.802226e+08      1400222610\n",
       "ZEN       Horizen     Equihash       PoW     7.296538e+06        21000000\n",
       "XBC   BitcoinPlus       Scrypt       PoS     1.283270e+05         1000000\n",
       "\n",
       "[1144 rows x 5 columns]"
      ]
     },
     "execution_count": 45,
     "metadata": {},
     "output_type": "execute_result"
    }
   ],
   "source": [
    "# Remove the \"IsTrading\" column. \n",
    "# df_shopping.drop(columns=[\"CustomerID\"], inplace=True)\n",
    "# df_shopping\n",
    "\n",
    "crypto_df.drop(columns=[\"IsTrading\"], inplace=True)\n",
    "crypto_df"
   ]
  },
  {
   "cell_type": "code",
   "execution_count": 46,
   "metadata": {},
   "outputs": [
    {
     "name": "stdout",
     "output_type": "stream",
     "text": [
      "Column CoinName has 0 null values\n",
      "Column Algorithm has 0 null values\n",
      "Column ProofType has 0 null values\n",
      "Column TotalCoinsMined has 459 null values\n",
      "Column TotalCoinSupply has 0 null values\n"
     ]
    }
   ],
   "source": [
    "# Remove rows that have at least 1 null value.\n",
    "for column in crypto_df.columns:\n",
    "    print(f\"Column {column} has {crypto_df[column].isnull().sum()} null values\")"
   ]
  },
  {
   "cell_type": "code",
   "execution_count": 47,
   "metadata": {},
   "outputs": [
    {
     "data": {
      "text/html": [
       "<div>\n",
       "<style scoped>\n",
       "    .dataframe tbody tr th:only-of-type {\n",
       "        vertical-align: middle;\n",
       "    }\n",
       "\n",
       "    .dataframe tbody tr th {\n",
       "        vertical-align: top;\n",
       "    }\n",
       "\n",
       "    .dataframe thead th {\n",
       "        text-align: right;\n",
       "    }\n",
       "</style>\n",
       "<table border=\"1\" class=\"dataframe\">\n",
       "  <thead>\n",
       "    <tr style=\"text-align: right;\">\n",
       "      <th></th>\n",
       "      <th>CoinName</th>\n",
       "      <th>Algorithm</th>\n",
       "      <th>ProofType</th>\n",
       "      <th>TotalCoinsMined</th>\n",
       "      <th>TotalCoinSupply</th>\n",
       "    </tr>\n",
       "  </thead>\n",
       "  <tbody>\n",
       "    <tr>\n",
       "      <th>42</th>\n",
       "      <td>42 Coin</td>\n",
       "      <td>Scrypt</td>\n",
       "      <td>PoW/PoS</td>\n",
       "      <td>4.199995e+01</td>\n",
       "      <td>42</td>\n",
       "    </tr>\n",
       "    <tr>\n",
       "      <th>404</th>\n",
       "      <td>404Coin</td>\n",
       "      <td>Scrypt</td>\n",
       "      <td>PoW/PoS</td>\n",
       "      <td>1.055185e+09</td>\n",
       "      <td>532000000</td>\n",
       "    </tr>\n",
       "    <tr>\n",
       "      <th>808</th>\n",
       "      <td>808</td>\n",
       "      <td>SHA-256</td>\n",
       "      <td>PoW/PoS</td>\n",
       "      <td>0.000000e+00</td>\n",
       "      <td>0</td>\n",
       "    </tr>\n",
       "    <tr>\n",
       "      <th>1337</th>\n",
       "      <td>EliteCoin</td>\n",
       "      <td>X13</td>\n",
       "      <td>PoW/PoS</td>\n",
       "      <td>2.927942e+10</td>\n",
       "      <td>314159265359</td>\n",
       "    </tr>\n",
       "    <tr>\n",
       "      <th>BTC</th>\n",
       "      <td>Bitcoin</td>\n",
       "      <td>SHA-256</td>\n",
       "      <td>PoW</td>\n",
       "      <td>1.792718e+07</td>\n",
       "      <td>21000000</td>\n",
       "    </tr>\n",
       "    <tr>\n",
       "      <th>...</th>\n",
       "      <td>...</td>\n",
       "      <td>...</td>\n",
       "      <td>...</td>\n",
       "      <td>...</td>\n",
       "      <td>...</td>\n",
       "    </tr>\n",
       "    <tr>\n",
       "      <th>ZEPH</th>\n",
       "      <td>ZEPHYR</td>\n",
       "      <td>SHA-256</td>\n",
       "      <td>DPoS</td>\n",
       "      <td>2.000000e+09</td>\n",
       "      <td>2000000000</td>\n",
       "    </tr>\n",
       "    <tr>\n",
       "      <th>GAP</th>\n",
       "      <td>Gapcoin</td>\n",
       "      <td>Scrypt</td>\n",
       "      <td>PoW/PoS</td>\n",
       "      <td>1.493105e+07</td>\n",
       "      <td>250000000</td>\n",
       "    </tr>\n",
       "    <tr>\n",
       "      <th>BDX</th>\n",
       "      <td>Beldex</td>\n",
       "      <td>CryptoNight</td>\n",
       "      <td>PoW</td>\n",
       "      <td>9.802226e+08</td>\n",
       "      <td>1400222610</td>\n",
       "    </tr>\n",
       "    <tr>\n",
       "      <th>ZEN</th>\n",
       "      <td>Horizen</td>\n",
       "      <td>Equihash</td>\n",
       "      <td>PoW</td>\n",
       "      <td>7.296538e+06</td>\n",
       "      <td>21000000</td>\n",
       "    </tr>\n",
       "    <tr>\n",
       "      <th>XBC</th>\n",
       "      <td>BitcoinPlus</td>\n",
       "      <td>Scrypt</td>\n",
       "      <td>PoS</td>\n",
       "      <td>1.283270e+05</td>\n",
       "      <td>1000000</td>\n",
       "    </tr>\n",
       "  </tbody>\n",
       "</table>\n",
       "<p>685 rows × 5 columns</p>\n",
       "</div>"
      ],
      "text/plain": [
       "         CoinName    Algorithm ProofType  TotalCoinsMined TotalCoinSupply\n",
       "42        42 Coin       Scrypt   PoW/PoS     4.199995e+01              42\n",
       "404       404Coin       Scrypt   PoW/PoS     1.055185e+09       532000000\n",
       "808           808      SHA-256   PoW/PoS     0.000000e+00               0\n",
       "1337    EliteCoin          X13   PoW/PoS     2.927942e+10    314159265359\n",
       "BTC       Bitcoin      SHA-256       PoW     1.792718e+07        21000000\n",
       "...           ...          ...       ...              ...             ...\n",
       "ZEPH       ZEPHYR      SHA-256      DPoS     2.000000e+09      2000000000\n",
       "GAP       Gapcoin       Scrypt   PoW/PoS     1.493105e+07       250000000\n",
       "BDX        Beldex  CryptoNight       PoW     9.802226e+08      1400222610\n",
       "ZEN       Horizen     Equihash       PoW     7.296538e+06        21000000\n",
       "XBC   BitcoinPlus       Scrypt       PoS     1.283270e+05         1000000\n",
       "\n",
       "[685 rows x 5 columns]"
      ]
     },
     "execution_count": 47,
     "metadata": {},
     "output_type": "execute_result"
    }
   ],
   "source": [
    "# Drop null rows\n",
    "crypto_df=crypto_df.dropna()\n",
    "crypto_df"
   ]
  },
  {
   "cell_type": "code",
   "execution_count": 48,
   "metadata": {},
   "outputs": [
    {
     "data": {
      "text/plain": [
       "(532, 5)"
      ]
     },
     "execution_count": 48,
     "metadata": {},
     "output_type": "execute_result"
    }
   ],
   "source": [
    "# Keep the rows where coins are mined.\n",
    "crypto_df = crypto_df[crypto_df[\"TotalCoinsMined\"] > 0]\n",
    "crypto_df.shape[0:]"
   ]
  },
  {
   "cell_type": "code",
   "execution_count": 49,
   "metadata": {},
   "outputs": [
    {
     "data": {
      "text/html": [
       "<div>\n",
       "<style scoped>\n",
       "    .dataframe tbody tr th:only-of-type {\n",
       "        vertical-align: middle;\n",
       "    }\n",
       "\n",
       "    .dataframe tbody tr th {\n",
       "        vertical-align: top;\n",
       "    }\n",
       "\n",
       "    .dataframe thead th {\n",
       "        text-align: right;\n",
       "    }\n",
       "</style>\n",
       "<table border=\"1\" class=\"dataframe\">\n",
       "  <thead>\n",
       "    <tr style=\"text-align: right;\">\n",
       "      <th></th>\n",
       "      <th>CoinName</th>\n",
       "    </tr>\n",
       "  </thead>\n",
       "  <tbody>\n",
       "    <tr>\n",
       "      <th>42</th>\n",
       "      <td>42 Coin</td>\n",
       "    </tr>\n",
       "    <tr>\n",
       "      <th>404</th>\n",
       "      <td>404Coin</td>\n",
       "    </tr>\n",
       "    <tr>\n",
       "      <th>1337</th>\n",
       "      <td>EliteCoin</td>\n",
       "    </tr>\n",
       "    <tr>\n",
       "      <th>BTC</th>\n",
       "      <td>Bitcoin</td>\n",
       "    </tr>\n",
       "    <tr>\n",
       "      <th>ETH</th>\n",
       "      <td>Ethereum</td>\n",
       "    </tr>\n",
       "    <tr>\n",
       "      <th>...</th>\n",
       "      <td>...</td>\n",
       "    </tr>\n",
       "    <tr>\n",
       "      <th>ZEPH</th>\n",
       "      <td>ZEPHYR</td>\n",
       "    </tr>\n",
       "    <tr>\n",
       "      <th>GAP</th>\n",
       "      <td>Gapcoin</td>\n",
       "    </tr>\n",
       "    <tr>\n",
       "      <th>BDX</th>\n",
       "      <td>Beldex</td>\n",
       "    </tr>\n",
       "    <tr>\n",
       "      <th>ZEN</th>\n",
       "      <td>Horizen</td>\n",
       "    </tr>\n",
       "    <tr>\n",
       "      <th>XBC</th>\n",
       "      <td>BitcoinPlus</td>\n",
       "    </tr>\n",
       "  </tbody>\n",
       "</table>\n",
       "<p>532 rows × 1 columns</p>\n",
       "</div>"
      ],
      "text/plain": [
       "         CoinName\n",
       "42        42 Coin\n",
       "404       404Coin\n",
       "1337    EliteCoin\n",
       "BTC       Bitcoin\n",
       "ETH      Ethereum\n",
       "...           ...\n",
       "ZEPH       ZEPHYR\n",
       "GAP       Gapcoin\n",
       "BDX        Beldex\n",
       "ZEN       Horizen\n",
       "XBC   BitcoinPlus\n",
       "\n",
       "[532 rows x 1 columns]"
      ]
     },
     "execution_count": 49,
     "metadata": {},
     "output_type": "execute_result"
    }
   ],
   "source": [
    "# Create a new DataFrame that holds only the cryptocurrencies names.\n",
    "crypto_type_df = pd.DataFrame(crypto_df[\"CoinName\"])\n",
    "crypto_type_df.shape[0:]\n",
    "crypto_type_df"
   ]
  },
  {
   "cell_type": "code",
   "execution_count": 50,
   "metadata": {},
   "outputs": [
    {
     "name": "stderr",
     "output_type": "stream",
     "text": [
      "C:\\Users\\Chris\\anaconda3\\envs\\mlenv\\lib\\site-packages\\pandas\\core\\frame.py:4913: SettingWithCopyWarning:\n",
      "\n",
      "\n",
      "A value is trying to be set on a copy of a slice from a DataFrame\n",
      "\n",
      "See the caveats in the documentation: https://pandas.pydata.org/pandas-docs/stable/user_guide/indexing.html#returning-a-view-versus-a-copy\n",
      "\n"
     ]
    },
    {
     "data": {
      "text/html": [
       "<div>\n",
       "<style scoped>\n",
       "    .dataframe tbody tr th:only-of-type {\n",
       "        vertical-align: middle;\n",
       "    }\n",
       "\n",
       "    .dataframe tbody tr th {\n",
       "        vertical-align: top;\n",
       "    }\n",
       "\n",
       "    .dataframe thead th {\n",
       "        text-align: right;\n",
       "    }\n",
       "</style>\n",
       "<table border=\"1\" class=\"dataframe\">\n",
       "  <thead>\n",
       "    <tr style=\"text-align: right;\">\n",
       "      <th></th>\n",
       "      <th>Algorithm</th>\n",
       "      <th>ProofType</th>\n",
       "      <th>TotalCoinsMined</th>\n",
       "      <th>TotalCoinSupply</th>\n",
       "    </tr>\n",
       "  </thead>\n",
       "  <tbody>\n",
       "    <tr>\n",
       "      <th>42</th>\n",
       "      <td>Scrypt</td>\n",
       "      <td>PoW/PoS</td>\n",
       "      <td>4.199995e+01</td>\n",
       "      <td>42</td>\n",
       "    </tr>\n",
       "    <tr>\n",
       "      <th>404</th>\n",
       "      <td>Scrypt</td>\n",
       "      <td>PoW/PoS</td>\n",
       "      <td>1.055185e+09</td>\n",
       "      <td>532000000</td>\n",
       "    </tr>\n",
       "    <tr>\n",
       "      <th>1337</th>\n",
       "      <td>X13</td>\n",
       "      <td>PoW/PoS</td>\n",
       "      <td>2.927942e+10</td>\n",
       "      <td>314159265359</td>\n",
       "    </tr>\n",
       "    <tr>\n",
       "      <th>BTC</th>\n",
       "      <td>SHA-256</td>\n",
       "      <td>PoW</td>\n",
       "      <td>1.792718e+07</td>\n",
       "      <td>21000000</td>\n",
       "    </tr>\n",
       "    <tr>\n",
       "      <th>ETH</th>\n",
       "      <td>Ethash</td>\n",
       "      <td>PoW</td>\n",
       "      <td>1.076842e+08</td>\n",
       "      <td>0</td>\n",
       "    </tr>\n",
       "    <tr>\n",
       "      <th>LTC</th>\n",
       "      <td>Scrypt</td>\n",
       "      <td>PoW</td>\n",
       "      <td>6.303924e+07</td>\n",
       "      <td>84000000</td>\n",
       "    </tr>\n",
       "    <tr>\n",
       "      <th>DASH</th>\n",
       "      <td>X11</td>\n",
       "      <td>PoW/PoS</td>\n",
       "      <td>9.031294e+06</td>\n",
       "      <td>22000000</td>\n",
       "    </tr>\n",
       "    <tr>\n",
       "      <th>XMR</th>\n",
       "      <td>CryptoNight-V7</td>\n",
       "      <td>PoW</td>\n",
       "      <td>1.720114e+07</td>\n",
       "      <td>0</td>\n",
       "    </tr>\n",
       "    <tr>\n",
       "      <th>ETC</th>\n",
       "      <td>Ethash</td>\n",
       "      <td>PoW</td>\n",
       "      <td>1.133597e+08</td>\n",
       "      <td>210000000</td>\n",
       "    </tr>\n",
       "    <tr>\n",
       "      <th>ZEC</th>\n",
       "      <td>Equihash</td>\n",
       "      <td>PoW</td>\n",
       "      <td>7.383056e+06</td>\n",
       "      <td>21000000</td>\n",
       "    </tr>\n",
       "  </tbody>\n",
       "</table>\n",
       "</div>"
      ],
      "text/plain": [
       "           Algorithm ProofType  TotalCoinsMined TotalCoinSupply\n",
       "42            Scrypt   PoW/PoS     4.199995e+01              42\n",
       "404           Scrypt   PoW/PoS     1.055185e+09       532000000\n",
       "1337             X13   PoW/PoS     2.927942e+10    314159265359\n",
       "BTC          SHA-256       PoW     1.792718e+07        21000000\n",
       "ETH           Ethash       PoW     1.076842e+08               0\n",
       "LTC           Scrypt       PoW     6.303924e+07        84000000\n",
       "DASH             X11   PoW/PoS     9.031294e+06        22000000\n",
       "XMR   CryptoNight-V7       PoW     1.720114e+07               0\n",
       "ETC           Ethash       PoW     1.133597e+08       210000000\n",
       "ZEC         Equihash       PoW     7.383056e+06        21000000"
      ]
     },
     "execution_count": 50,
     "metadata": {},
     "output_type": "execute_result"
    }
   ],
   "source": [
    "# Drop the 'CoinName' column since it's not going to be used on the clustering algorithm.\n",
    "crypto_df.drop(columns=[\"CoinName\"], inplace=True)\n",
    "crypto_df.head(10)"
   ]
  },
  {
   "cell_type": "code",
   "execution_count": 51,
   "metadata": {},
   "outputs": [],
   "source": [
    "#crypto_df.drop(columns=[\"Unnamed: 0\"], inplace=True)\n",
    "#crypto_df"
   ]
  },
  {
   "cell_type": "code",
   "execution_count": 52,
   "metadata": {},
   "outputs": [
    {
     "data": {
      "text/html": [
       "<div>\n",
       "<style scoped>\n",
       "    .dataframe tbody tr th:only-of-type {\n",
       "        vertical-align: middle;\n",
       "    }\n",
       "\n",
       "    .dataframe tbody tr th {\n",
       "        vertical-align: top;\n",
       "    }\n",
       "\n",
       "    .dataframe thead th {\n",
       "        text-align: right;\n",
       "    }\n",
       "</style>\n",
       "<table border=\"1\" class=\"dataframe\">\n",
       "  <thead>\n",
       "    <tr style=\"text-align: right;\">\n",
       "      <th></th>\n",
       "      <th>TotalCoinsMined</th>\n",
       "      <th>Algorithm_1GB AES Pattern Search</th>\n",
       "      <th>Algorithm_536</th>\n",
       "      <th>Algorithm_Argon2d</th>\n",
       "      <th>Algorithm_BLAKE256</th>\n",
       "      <th>Algorithm_Blake</th>\n",
       "      <th>Algorithm_Blake2S</th>\n",
       "      <th>Algorithm_Blake2b</th>\n",
       "      <th>Algorithm_C11</th>\n",
       "      <th>Algorithm_Cloverhash</th>\n",
       "      <th>...</th>\n",
       "      <th>TotalCoinSupply_91388946</th>\n",
       "      <th>TotalCoinSupply_92000000000</th>\n",
       "      <th>TotalCoinSupply_9354000</th>\n",
       "      <th>TotalCoinSupply_9507271</th>\n",
       "      <th>TotalCoinSupply_9736000</th>\n",
       "      <th>TotalCoinSupply_98000000</th>\n",
       "      <th>TotalCoinSupply_98100000000</th>\n",
       "      <th>TotalCoinSupply_990000000000</th>\n",
       "      <th>TotalCoinSupply_999481516</th>\n",
       "      <th>TotalCoinSupply_9999999</th>\n",
       "    </tr>\n",
       "  </thead>\n",
       "  <tbody>\n",
       "    <tr>\n",
       "      <th>42</th>\n",
       "      <td>4.199995e+01</td>\n",
       "      <td>0</td>\n",
       "      <td>0</td>\n",
       "      <td>0</td>\n",
       "      <td>0</td>\n",
       "      <td>0</td>\n",
       "      <td>0</td>\n",
       "      <td>0</td>\n",
       "      <td>0</td>\n",
       "      <td>0</td>\n",
       "      <td>...</td>\n",
       "      <td>0</td>\n",
       "      <td>0</td>\n",
       "      <td>0</td>\n",
       "      <td>0</td>\n",
       "      <td>0</td>\n",
       "      <td>0</td>\n",
       "      <td>0</td>\n",
       "      <td>0</td>\n",
       "      <td>0</td>\n",
       "      <td>0</td>\n",
       "    </tr>\n",
       "    <tr>\n",
       "      <th>404</th>\n",
       "      <td>1.055185e+09</td>\n",
       "      <td>0</td>\n",
       "      <td>0</td>\n",
       "      <td>0</td>\n",
       "      <td>0</td>\n",
       "      <td>0</td>\n",
       "      <td>0</td>\n",
       "      <td>0</td>\n",
       "      <td>0</td>\n",
       "      <td>0</td>\n",
       "      <td>...</td>\n",
       "      <td>0</td>\n",
       "      <td>0</td>\n",
       "      <td>0</td>\n",
       "      <td>0</td>\n",
       "      <td>0</td>\n",
       "      <td>0</td>\n",
       "      <td>0</td>\n",
       "      <td>0</td>\n",
       "      <td>0</td>\n",
       "      <td>0</td>\n",
       "    </tr>\n",
       "    <tr>\n",
       "      <th>1337</th>\n",
       "      <td>2.927942e+10</td>\n",
       "      <td>0</td>\n",
       "      <td>0</td>\n",
       "      <td>0</td>\n",
       "      <td>0</td>\n",
       "      <td>0</td>\n",
       "      <td>0</td>\n",
       "      <td>0</td>\n",
       "      <td>0</td>\n",
       "      <td>0</td>\n",
       "      <td>...</td>\n",
       "      <td>0</td>\n",
       "      <td>0</td>\n",
       "      <td>0</td>\n",
       "      <td>0</td>\n",
       "      <td>0</td>\n",
       "      <td>0</td>\n",
       "      <td>0</td>\n",
       "      <td>0</td>\n",
       "      <td>0</td>\n",
       "      <td>0</td>\n",
       "    </tr>\n",
       "    <tr>\n",
       "      <th>BTC</th>\n",
       "      <td>1.792718e+07</td>\n",
       "      <td>0</td>\n",
       "      <td>0</td>\n",
       "      <td>0</td>\n",
       "      <td>0</td>\n",
       "      <td>0</td>\n",
       "      <td>0</td>\n",
       "      <td>0</td>\n",
       "      <td>0</td>\n",
       "      <td>0</td>\n",
       "      <td>...</td>\n",
       "      <td>0</td>\n",
       "      <td>0</td>\n",
       "      <td>0</td>\n",
       "      <td>0</td>\n",
       "      <td>0</td>\n",
       "      <td>0</td>\n",
       "      <td>0</td>\n",
       "      <td>0</td>\n",
       "      <td>0</td>\n",
       "      <td>0</td>\n",
       "    </tr>\n",
       "    <tr>\n",
       "      <th>ETH</th>\n",
       "      <td>1.076842e+08</td>\n",
       "      <td>0</td>\n",
       "      <td>0</td>\n",
       "      <td>0</td>\n",
       "      <td>0</td>\n",
       "      <td>0</td>\n",
       "      <td>0</td>\n",
       "      <td>0</td>\n",
       "      <td>0</td>\n",
       "      <td>0</td>\n",
       "      <td>...</td>\n",
       "      <td>0</td>\n",
       "      <td>0</td>\n",
       "      <td>0</td>\n",
       "      <td>0</td>\n",
       "      <td>0</td>\n",
       "      <td>0</td>\n",
       "      <td>0</td>\n",
       "      <td>0</td>\n",
       "      <td>0</td>\n",
       "      <td>0</td>\n",
       "    </tr>\n",
       "  </tbody>\n",
       "</table>\n",
       "<p>5 rows × 377 columns</p>\n",
       "</div>"
      ],
      "text/plain": [
       "      TotalCoinsMined  Algorithm_1GB AES Pattern Search  Algorithm_536  \\\n",
       "42       4.199995e+01                                 0              0   \n",
       "404      1.055185e+09                                 0              0   \n",
       "1337     2.927942e+10                                 0              0   \n",
       "BTC      1.792718e+07                                 0              0   \n",
       "ETH      1.076842e+08                                 0              0   \n",
       "\n",
       "      Algorithm_Argon2d  Algorithm_BLAKE256  Algorithm_Blake  \\\n",
       "42                    0                   0                0   \n",
       "404                   0                   0                0   \n",
       "1337                  0                   0                0   \n",
       "BTC                   0                   0                0   \n",
       "ETH                   0                   0                0   \n",
       "\n",
       "      Algorithm_Blake2S  Algorithm_Blake2b  Algorithm_C11  \\\n",
       "42                    0                  0              0   \n",
       "404                   0                  0              0   \n",
       "1337                  0                  0              0   \n",
       "BTC                   0                  0              0   \n",
       "ETH                   0                  0              0   \n",
       "\n",
       "      Algorithm_Cloverhash  ...  TotalCoinSupply_91388946  \\\n",
       "42                       0  ...                         0   \n",
       "404                      0  ...                         0   \n",
       "1337                     0  ...                         0   \n",
       "BTC                      0  ...                         0   \n",
       "ETH                      0  ...                         0   \n",
       "\n",
       "      TotalCoinSupply_92000000000  TotalCoinSupply_9354000  \\\n",
       "42                              0                        0   \n",
       "404                             0                        0   \n",
       "1337                            0                        0   \n",
       "BTC                             0                        0   \n",
       "ETH                             0                        0   \n",
       "\n",
       "      TotalCoinSupply_9507271  TotalCoinSupply_9736000  \\\n",
       "42                          0                        0   \n",
       "404                         0                        0   \n",
       "1337                        0                        0   \n",
       "BTC                         0                        0   \n",
       "ETH                         0                        0   \n",
       "\n",
       "      TotalCoinSupply_98000000  TotalCoinSupply_98100000000  \\\n",
       "42                           0                            0   \n",
       "404                          0                            0   \n",
       "1337                         0                            0   \n",
       "BTC                          0                            0   \n",
       "ETH                          0                            0   \n",
       "\n",
       "      TotalCoinSupply_990000000000  TotalCoinSupply_999481516  \\\n",
       "42                               0                          0   \n",
       "404                              0                          0   \n",
       "1337                             0                          0   \n",
       "BTC                              0                          0   \n",
       "ETH                              0                          0   \n",
       "\n",
       "      TotalCoinSupply_9999999  \n",
       "42                          0  \n",
       "404                         0  \n",
       "1337                        0  \n",
       "BTC                         0  \n",
       "ETH                         0  \n",
       "\n",
       "[5 rows x 377 columns]"
      ]
     },
     "execution_count": 52,
     "metadata": {},
     "output_type": "execute_result"
    }
   ],
   "source": [
    "# Use get_dummies() to create variables for text features.\n",
    "X = pd.get_dummies(crypto_df)\n",
    "X.head()"
   ]
  },
  {
   "cell_type": "code",
   "execution_count": 53,
   "metadata": {},
   "outputs": [
    {
     "name": "stdout",
     "output_type": "stream",
     "text": [
      "[[-0.11710817 -0.0433963  -0.0433963  ... -0.0433963  -0.0433963\n",
      "  -0.0433963 ]\n",
      " [-0.09396955 -0.0433963  -0.0433963  ... -0.0433963  -0.0433963\n",
      "  -0.0433963 ]\n",
      " [ 0.52494561 -0.0433963  -0.0433963  ... -0.0433963  -0.0433963\n",
      "  -0.0433963 ]\n",
      " [-0.11671506 -0.0433963  -0.0433963  ... -0.0433963  -0.0433963\n",
      "  -0.0433963 ]\n",
      " [-0.11474682 -0.0433963  -0.0433963  ... -0.0433963  -0.0433963\n",
      "  -0.0433963 ]]\n"
     ]
    }
   ],
   "source": [
    "# Standardize the data with StandardScaler().\n",
    "scaled_df= StandardScaler().fit_transform(X)\n",
    "print(scaled_df[0:5])"
   ]
  },
  {
   "cell_type": "markdown",
   "metadata": {},
   "source": [
    "### Deliverable 2: Reducing Data Dimensions Using PCA"
   ]
  },
  {
   "cell_type": "code",
   "execution_count": 54,
   "metadata": {},
   "outputs": [
    {
     "name": "stdout",
     "output_type": "stream",
     "text": [
      "[[-0.32816861 -0.07953469  0.0625742 ]\n",
      " [-0.31423075 -0.07991406  0.05988596]\n",
      " [ 0.21683227 -0.10870739 -0.03207986]\n",
      " ...\n",
      " [-0.03027616 -0.28947237 -0.21329406]\n",
      " [-0.22545959 -0.23481432 -0.04480179]\n",
      " [-0.20326791 -0.0234778   0.00567095]]\n"
     ]
    }
   ],
   "source": [
    "# Using PCA to reduce dimension to three principal components.\n",
    "pca = PCA(n_components=3)\n",
    "crypto_pca= pca.fit_transform(scaled_df)\n",
    "print(crypto_pca)"
   ]
  },
  {
   "cell_type": "code",
   "execution_count": 55,
   "metadata": {},
   "outputs": [
    {
     "data": {
      "text/html": [
       "<div>\n",
       "<style scoped>\n",
       "    .dataframe tbody tr th:only-of-type {\n",
       "        vertical-align: middle;\n",
       "    }\n",
       "\n",
       "    .dataframe tbody tr th {\n",
       "        vertical-align: top;\n",
       "    }\n",
       "\n",
       "    .dataframe thead th {\n",
       "        text-align: right;\n",
       "    }\n",
       "</style>\n",
       "<table border=\"1\" class=\"dataframe\">\n",
       "  <thead>\n",
       "    <tr style=\"text-align: right;\">\n",
       "      <th></th>\n",
       "      <th>PC 1</th>\n",
       "      <th>PC 2</th>\n",
       "      <th>PC 3</th>\n",
       "    </tr>\n",
       "  </thead>\n",
       "  <tbody>\n",
       "    <tr>\n",
       "      <th>42</th>\n",
       "      <td>-0.328169</td>\n",
       "      <td>-0.079535</td>\n",
       "      <td>0.062574</td>\n",
       "    </tr>\n",
       "    <tr>\n",
       "      <th>404</th>\n",
       "      <td>-0.314231</td>\n",
       "      <td>-0.079914</td>\n",
       "      <td>0.059886</td>\n",
       "    </tr>\n",
       "    <tr>\n",
       "      <th>1337</th>\n",
       "      <td>0.216832</td>\n",
       "      <td>-0.108707</td>\n",
       "      <td>-0.032080</td>\n",
       "    </tr>\n",
       "    <tr>\n",
       "      <th>BTC</th>\n",
       "      <td>-0.223705</td>\n",
       "      <td>-0.230796</td>\n",
       "      <td>-0.001061</td>\n",
       "    </tr>\n",
       "    <tr>\n",
       "      <th>ETH</th>\n",
       "      <td>-0.102793</td>\n",
       "      <td>-0.171199</td>\n",
       "      <td>-0.116309</td>\n",
       "    </tr>\n",
       "    <tr>\n",
       "      <th>...</th>\n",
       "      <td>...</td>\n",
       "      <td>...</td>\n",
       "      <td>...</td>\n",
       "    </tr>\n",
       "    <tr>\n",
       "      <th>ZEPH</th>\n",
       "      <td>2.625942</td>\n",
       "      <td>-0.139951</td>\n",
       "      <td>-0.172815</td>\n",
       "    </tr>\n",
       "    <tr>\n",
       "      <th>GAP</th>\n",
       "      <td>-0.316104</td>\n",
       "      <td>-0.122603</td>\n",
       "      <td>0.042324</td>\n",
       "    </tr>\n",
       "    <tr>\n",
       "      <th>BDX</th>\n",
       "      <td>-0.030276</td>\n",
       "      <td>-0.289472</td>\n",
       "      <td>-0.213294</td>\n",
       "    </tr>\n",
       "    <tr>\n",
       "      <th>ZEN</th>\n",
       "      <td>-0.225460</td>\n",
       "      <td>-0.234814</td>\n",
       "      <td>-0.044802</td>\n",
       "    </tr>\n",
       "    <tr>\n",
       "      <th>XBC</th>\n",
       "      <td>-0.203268</td>\n",
       "      <td>-0.023478</td>\n",
       "      <td>0.005671</td>\n",
       "    </tr>\n",
       "  </tbody>\n",
       "</table>\n",
       "<p>532 rows × 3 columns</p>\n",
       "</div>"
      ],
      "text/plain": [
       "          PC 1      PC 2      PC 3\n",
       "42   -0.328169 -0.079535  0.062574\n",
       "404  -0.314231 -0.079914  0.059886\n",
       "1337  0.216832 -0.108707 -0.032080\n",
       "BTC  -0.223705 -0.230796 -0.001061\n",
       "ETH  -0.102793 -0.171199 -0.116309\n",
       "...        ...       ...       ...\n",
       "ZEPH  2.625942 -0.139951 -0.172815\n",
       "GAP  -0.316104 -0.122603  0.042324\n",
       "BDX  -0.030276 -0.289472 -0.213294\n",
       "ZEN  -0.225460 -0.234814 -0.044802\n",
       "XBC  -0.203268 -0.023478  0.005671\n",
       "\n",
       "[532 rows x 3 columns]"
      ]
     },
     "execution_count": 55,
     "metadata": {},
     "output_type": "execute_result"
    }
   ],
   "source": [
    "# Create a DataFrame with the three principal components.\n",
    "df_crypto_pca=pd.DataFrame(\n",
    "    data=crypto_pca, columns=[\"PC 1\", \"PC 2\", \"PC 3\"], index =crypto_df.index\n",
    ")\n",
    "df_crypto_pca\n"
   ]
  },
  {
   "cell_type": "markdown",
   "metadata": {},
   "source": [
    "### Deliverable 3: Clustering Crytocurrencies Using K-Means\n",
    "\n",
    "#### Finding the Best Value for `k` Using the Elbow Curve"
   ]
  },
  {
   "cell_type": "code",
   "execution_count": 56,
   "metadata": {},
   "outputs": [
    {
     "name": "stderr",
     "output_type": "stream",
     "text": [
      "C:\\Users\\Chris\\anaconda3\\envs\\mlenv\\lib\\site-packages\\sklearn\\cluster\\_kmeans.py:1037: UserWarning:\n",
      "\n",
      "KMeans is known to have a memory leak on Windows with MKL, when there are less chunks than available threads. You can avoid it by setting the environment variable OMP_NUM_THREADS=3.\n",
      "\n"
     ]
    },
    {
     "data": {},
     "metadata": {},
     "output_type": "display_data"
    },
    {
     "data": {
      "application/vnd.holoviews_exec.v0+json": "",
      "text/html": [
       "<div id='1448'>\n",
       "  <div class=\"bk-root\" id=\"de92efea-52c6-49ec-9cf9-9deee547a2b5\" data-root-id=\"1448\"></div>\n",
       "</div>\n",
       "<script type=\"application/javascript\">(function(root) {\n",
       "  function embed_document(root) {\n",
       "    var docs_json = {\"92b0d9d5-441e-4147-a854-bcdacd71d552\":{\"defs\":[{\"extends\":null,\"module\":null,\"name\":\"ReactiveHTML1\",\"overrides\":[],\"properties\":[]},{\"extends\":null,\"module\":null,\"name\":\"FlexBox1\",\"overrides\":[],\"properties\":[{\"default\":\"flex-start\",\"kind\":null,\"name\":\"align_content\"},{\"default\":\"flex-start\",\"kind\":null,\"name\":\"align_items\"},{\"default\":\"row\",\"kind\":null,\"name\":\"flex_direction\"},{\"default\":\"wrap\",\"kind\":null,\"name\":\"flex_wrap\"},{\"default\":\"flex-start\",\"kind\":null,\"name\":\"justify_content\"}]},{\"extends\":null,\"module\":null,\"name\":\"GridStack1\",\"overrides\":[],\"properties\":[{\"default\":\"warn\",\"kind\":null,\"name\":\"mode\"},{\"default\":null,\"kind\":null,\"name\":\"ncols\"},{\"default\":null,\"kind\":null,\"name\":\"nrows\"},{\"default\":true,\"kind\":null,\"name\":\"allow_resize\"},{\"default\":true,\"kind\":null,\"name\":\"allow_drag\"},{\"default\":[],\"kind\":null,\"name\":\"state\"}]},{\"extends\":null,\"module\":null,\"name\":\"click1\",\"overrides\":[],\"properties\":[{\"default\":\"\",\"kind\":null,\"name\":\"terminal_output\"},{\"default\":\"\",\"kind\":null,\"name\":\"debug_name\"},{\"default\":0,\"kind\":null,\"name\":\"clears\"}]},{\"extends\":null,\"module\":null,\"name\":\"NotificationAreaBase1\",\"overrides\":[],\"properties\":[{\"default\":\"bottom-right\",\"kind\":null,\"name\":\"position\"},{\"default\":0,\"kind\":null,\"name\":\"_clear\"}]},{\"extends\":null,\"module\":null,\"name\":\"NotificationArea1\",\"overrides\":[],\"properties\":[{\"default\":[],\"kind\":null,\"name\":\"notifications\"},{\"default\":\"bottom-right\",\"kind\":null,\"name\":\"position\"},{\"default\":0,\"kind\":null,\"name\":\"_clear\"},{\"default\":[{\"background\":\"#ffc107\",\"icon\":{\"className\":\"fas fa-exclamation-triangle\",\"color\":\"white\",\"tagName\":\"i\"},\"type\":\"warning\"},{\"background\":\"#007bff\",\"icon\":{\"className\":\"fas fa-info-circle\",\"color\":\"white\",\"tagName\":\"i\"},\"type\":\"info\"}],\"kind\":null,\"name\":\"types\"}]},{\"extends\":null,\"module\":null,\"name\":\"Notification\",\"overrides\":[],\"properties\":[{\"default\":null,\"kind\":null,\"name\":\"background\"},{\"default\":3000,\"kind\":null,\"name\":\"duration\"},{\"default\":null,\"kind\":null,\"name\":\"icon\"},{\"default\":\"\",\"kind\":null,\"name\":\"message\"},{\"default\":null,\"kind\":null,\"name\":\"notification_type\"},{\"default\":false,\"kind\":null,\"name\":\"_destroyed\"}]},{\"extends\":null,\"module\":null,\"name\":\"TemplateActions1\",\"overrides\":[],\"properties\":[{\"default\":0,\"kind\":null,\"name\":\"open_modal\"},{\"default\":0,\"kind\":null,\"name\":\"close_modal\"}]},{\"extends\":null,\"module\":null,\"name\":\"MaterialTemplateActions1\",\"overrides\":[],\"properties\":[{\"default\":0,\"kind\":null,\"name\":\"open_modal\"},{\"default\":0,\"kind\":null,\"name\":\"close_modal\"}]}],\"roots\":{\"references\":[{\"attributes\":{\"end\":5362.81247762408,\"reset_end\":5362.81247762408,\"reset_start\":-456.1111517755443,\"start\":-456.1111517755443,\"tags\":[[[\"inertia\",\"inertia\",null]]]},\"id\":\"1451\",\"type\":\"Range1d\"},{\"attributes\":{\"below\":[{\"id\":\"1462\"}],\"center\":[{\"id\":\"1465\"},{\"id\":\"1469\"}],\"height\":300,\"left\":[{\"id\":\"1466\"}],\"margin\":[5,5,5,5],\"min_border_bottom\":10,\"min_border_left\":10,\"min_border_right\":10,\"min_border_top\":10,\"renderers\":[{\"id\":\"1489\"}],\"sizing_mode\":\"fixed\",\"title\":{\"id\":\"1454\"},\"toolbar\":{\"id\":\"1476\"},\"width\":700,\"x_range\":{\"id\":\"1450\"},\"x_scale\":{\"id\":\"1458\"},\"y_range\":{\"id\":\"1451\"},\"y_scale\":{\"id\":\"1460\"}},\"id\":\"1453\",\"subtype\":\"Figure\",\"type\":\"Plot\"},{\"attributes\":{},\"id\":\"1484\",\"type\":\"Selection\"},{\"attributes\":{\"line_color\":\"#30a2da\",\"line_width\":2,\"x\":{\"field\":\"k\"},\"y\":{\"field\":\"inertia\"}},\"id\":\"1491\",\"type\":\"Line\"},{\"attributes\":{\"line_alpha\":0.2,\"line_color\":\"#30a2da\",\"line_width\":2,\"x\":{\"field\":\"k\"},\"y\":{\"field\":\"inertia\"}},\"id\":\"1488\",\"type\":\"Line\"},{\"attributes\":{\"tools\":[{\"id\":\"1452\"},{\"id\":\"1470\"},{\"id\":\"1471\"},{\"id\":\"1472\"},{\"id\":\"1473\"},{\"id\":\"1474\"}]},\"id\":\"1476\",\"type\":\"Toolbar\"},{\"attributes\":{\"bottom_units\":\"screen\",\"coordinates\":null,\"fill_alpha\":0.5,\"fill_color\":\"lightgrey\",\"group\":null,\"left_units\":\"screen\",\"level\":\"overlay\",\"line_alpha\":1.0,\"line_color\":\"black\",\"line_dash\":[4,4],\"line_width\":2,\"right_units\":\"screen\",\"syncable\":false,\"top_units\":\"screen\"},\"id\":\"1475\",\"type\":\"BoxAnnotation\"},{\"attributes\":{\"source\":{\"id\":\"1483\"}},\"id\":\"1490\",\"type\":\"CDSView\"},{\"attributes\":{},\"id\":\"1470\",\"type\":\"SaveTool\"},{\"attributes\":{},\"id\":\"1500\",\"type\":\"AllLabels\"},{\"attributes\":{\"margin\":[5,5,5,5],\"name\":\"HSpacer01362\",\"sizing_mode\":\"stretch_width\"},\"id\":\"1449\",\"type\":\"Spacer\"},{\"attributes\":{},\"id\":\"1471\",\"type\":\"PanTool\"},{\"attributes\":{},\"id\":\"1474\",\"type\":\"ResetTool\"},{\"attributes\":{},\"id\":\"1467\",\"type\":\"BasicTicker\"},{\"attributes\":{\"ticks\":[1,2,3,4,5,6,7,8,9,10]},\"id\":\"1492\",\"type\":\"FixedTicker\"},{\"attributes\":{\"line_color\":\"#30a2da\",\"line_width\":2,\"x\":{\"field\":\"k\"},\"y\":{\"field\":\"inertia\"}},\"id\":\"1486\",\"type\":\"Line\"},{\"attributes\":{},\"id\":\"1472\",\"type\":\"WheelZoomTool\"},{\"attributes\":{},\"id\":\"1495\",\"type\":\"AllLabels\"},{\"attributes\":{},\"id\":\"1507\",\"type\":\"UnionRenderers\"},{\"attributes\":{\"overlay\":{\"id\":\"1475\"}},\"id\":\"1473\",\"type\":\"BoxZoomTool\"},{\"attributes\":{},\"id\":\"1494\",\"type\":\"BasicTickFormatter\"},{\"attributes\":{\"margin\":[5,5,5,5],\"name\":\"HSpacer01363\",\"sizing_mode\":\"stretch_width\"},\"id\":\"1510\",\"type\":\"Spacer\"},{\"attributes\":{\"data\":{\"inertia\":{\"__ndarray__\":\"EsTz9OYNs0DLnnT9hpmqQBSdWiAjbZ5AvX+LEYsih0AgcOanwzl7QDoGx1RTKWtACtCEKlxOTkCTp2BBT29FQLxnUZoT1UBAnDp7I5XMPEA=\",\"dtype\":\"float64\",\"order\":\"little\",\"shape\":[10]},\"k\":[1,2,3,4,5,6,7,8,9,10]},\"selected\":{\"id\":\"1484\"},\"selection_policy\":{\"id\":\"1507\"}},\"id\":\"1483\",\"type\":\"ColumnDataSource\"},{\"attributes\":{\"coordinates\":null,\"data_source\":{\"id\":\"1483\"},\"glyph\":{\"id\":\"1486\"},\"group\":null,\"hover_glyph\":null,\"muted_glyph\":{\"id\":\"1488\"},\"nonselection_glyph\":{\"id\":\"1487\"},\"selection_glyph\":{\"id\":\"1491\"},\"view\":{\"id\":\"1490\"}},\"id\":\"1489\",\"type\":\"GlyphRenderer\"},{\"attributes\":{},\"id\":\"1458\",\"type\":\"LinearScale\"},{\"attributes\":{\"coordinates\":null,\"group\":null,\"text\":\"Elbow Curve\",\"text_color\":\"black\",\"text_font_size\":\"12pt\"},\"id\":\"1454\",\"type\":\"Title\"},{\"attributes\":{\"axis\":{\"id\":\"1462\"},\"coordinates\":null,\"grid_line_color\":null,\"group\":null,\"ticker\":null},\"id\":\"1465\",\"type\":\"Grid\"},{\"attributes\":{\"children\":[{\"id\":\"1449\"},{\"id\":\"1453\"},{\"id\":\"1510\"}],\"margin\":[0,0,0,0],\"name\":\"Row01358\",\"tags\":[\"embedded\"]},\"id\":\"1448\",\"type\":\"Row\"},{\"attributes\":{},\"id\":\"1460\",\"type\":\"LinearScale\"},{\"attributes\":{\"callback\":null,\"renderers\":[{\"id\":\"1489\"}],\"tags\":[\"hv_created\"],\"tooltips\":[[\"k\",\"@{k}\"],[\"inertia\",\"@{inertia}\"]]},\"id\":\"1452\",\"type\":\"HoverTool\"},{\"attributes\":{\"axis_label\":\"inertia\",\"coordinates\":null,\"formatter\":{\"id\":\"1499\"},\"group\":null,\"major_label_policy\":{\"id\":\"1500\"},\"ticker\":{\"id\":\"1467\"}},\"id\":\"1466\",\"type\":\"LinearAxis\"},{\"attributes\":{\"axis_label\":\"k\",\"coordinates\":null,\"formatter\":{\"id\":\"1494\"},\"group\":null,\"major_label_policy\":{\"id\":\"1495\"},\"ticker\":{\"id\":\"1492\"}},\"id\":\"1462\",\"type\":\"LinearAxis\"},{\"attributes\":{},\"id\":\"1499\",\"type\":\"BasicTickFormatter\"},{\"attributes\":{\"axis\":{\"id\":\"1466\"},\"coordinates\":null,\"dimension\":1,\"grid_line_color\":null,\"group\":null,\"ticker\":null},\"id\":\"1469\",\"type\":\"Grid\"},{\"attributes\":{\"line_alpha\":0.1,\"line_color\":\"#30a2da\",\"line_width\":2,\"x\":{\"field\":\"k\"},\"y\":{\"field\":\"inertia\"}},\"id\":\"1487\",\"type\":\"Line\"},{\"attributes\":{\"end\":10.0,\"reset_end\":10.0,\"reset_start\":1.0,\"start\":1.0,\"tags\":[[[\"k\",\"k\",null]]]},\"id\":\"1450\",\"type\":\"Range1d\"}],\"root_ids\":[\"1448\"]},\"title\":\"Bokeh Application\",\"version\":\"2.4.3\"}};\n",
       "    var render_items = [{\"docid\":\"92b0d9d5-441e-4147-a854-bcdacd71d552\",\"root_ids\":[\"1448\"],\"roots\":{\"1448\":\"de92efea-52c6-49ec-9cf9-9deee547a2b5\"}}];\n",
       "    root.Bokeh.embed.embed_items_notebook(docs_json, render_items);\n",
       "  }\n",
       "  if (root.Bokeh !== undefined && root.Bokeh.Panel !== undefined) {\n",
       "    embed_document(root);\n",
       "  } else {\n",
       "    var attempts = 0;\n",
       "    var timer = setInterval(function(root) {\n",
       "      if (root.Bokeh !== undefined && root.Bokeh.Panel !== undefined) {\n",
       "        clearInterval(timer);\n",
       "        embed_document(root);\n",
       "      } else if (document.readyState == \"complete\") {\n",
       "        attempts++;\n",
       "        if (attempts > 200) {\n",
       "          clearInterval(timer);\n",
       "          console.log(\"Bokeh: ERROR: Unable to run BokehJS code because BokehJS library is missing\");\n",
       "        }\n",
       "      }\n",
       "    }, 25, root)\n",
       "  }\n",
       "})(window);</script>"
      ],
      "text/plain": [
       ":Curve   [k]   (inertia)"
      ]
     },
     "execution_count": 56,
     "metadata": {
      "application/vnd.holoviews_exec.v0+json": {
       "id": "1448"
      }
     },
     "output_type": "execute_result"
    }
   ],
   "source": [
    "# Create an elbow curve to find the best value for K.\n",
    "# Find the best value for K\n",
    "inertia = []\n",
    "k = list(range(1, 11))\n",
    "\n",
    "# Calculate the inertia for the range of K values\n",
    "for i in k:\n",
    "    km = KMeans(n_clusters=i, random_state=0)\n",
    "    km.fit(df_crypto_pca)\n",
    "    inertia.append(km.inertia_)\n",
    "\n",
    "# Create the elbow curve\n",
    "elbow_data = {\"k\": k, \"inertia\": inertia}\n",
    "df_elbow = pd.DataFrame(elbow_data)\n",
    "df_elbow.hvplot.line(x=\"k\", y=\"inertia\", xticks=k, title=\"Elbow Curve\")\n"
   ]
  },
  {
   "cell_type": "markdown",
   "metadata": {},
   "source": [
    "Running K-Means with `k=4`"
   ]
  },
  {
   "cell_type": "code",
   "execution_count": 57,
   "metadata": {},
   "outputs": [
    {
     "data": {
      "text/plain": [
       "array([0, 0, 0, 0, 0, 0, 0, 0, 0, 0, 0, 0, 0, 0, 0, 0, 0, 0, 0, 0, 0, 0,\n",
       "       0, 0, 0, 0, 0, 0, 0, 0, 0, 0, 0, 0, 0, 0, 0, 0, 0, 0, 0, 0, 0, 0,\n",
       "       0, 0, 0, 0, 0, 0, 0, 0, 0, 0, 0, 0, 0, 0, 0, 0, 0, 0, 0, 0, 0, 0,\n",
       "       0, 0, 0, 0, 0, 0, 0, 0, 0, 0, 0, 0, 0, 0, 0, 0, 0, 0, 0, 0, 0, 0,\n",
       "       0, 0, 0, 0, 0, 0, 0, 0, 0, 0, 0, 0, 0, 0, 0, 0, 0, 0, 0, 0, 0, 0,\n",
       "       0, 0, 0, 0, 0, 0, 0, 0, 0, 0, 0, 0, 0, 0, 0, 0, 0, 0, 0, 0, 0, 0,\n",
       "       0, 0, 0, 0, 0, 0, 0, 0, 0, 0, 0, 0, 0, 0, 0, 0, 0, 0, 0, 0, 0, 0,\n",
       "       0, 0, 0, 0, 0, 0, 0, 0, 0, 0, 0, 0, 0, 0, 0, 0, 0, 0, 0, 0, 0, 0,\n",
       "       0, 0, 0, 0, 0, 0, 0, 0, 0, 0, 0, 0, 0, 0, 0, 0, 0, 0, 0, 0, 0, 0,\n",
       "       0, 0, 0, 0, 0, 0, 0, 0, 0, 0, 0, 0, 0, 0, 0, 0, 0, 0, 0, 0, 0, 0,\n",
       "       0, 0, 0, 0, 0, 0, 0, 0, 0, 0, 0, 0, 0, 0, 0, 0, 0, 0, 0, 0, 0, 0,\n",
       "       0, 0, 0, 0, 0, 0, 0, 0, 0, 0, 0, 0, 0, 0, 0, 0, 0, 0, 0, 0, 0, 0,\n",
       "       0, 0, 0, 0, 0, 0, 0, 0, 0, 0, 0, 0, 0, 0, 0, 0, 0, 0, 0, 0, 0, 0,\n",
       "       0, 0, 0, 0, 0, 0, 0, 0, 0, 0, 0, 0, 0, 0, 0, 0, 0, 0, 0, 0, 0, 0,\n",
       "       0, 0, 0, 0, 0, 0, 0, 0, 0, 0, 0, 0, 0, 0, 0, 0, 0, 0, 0, 0, 0, 0,\n",
       "       0, 0, 0, 0, 0, 0, 0, 0, 0, 0, 0, 0, 0, 0, 0, 0, 0, 0, 0, 0, 0, 0,\n",
       "       0, 0, 0, 0, 0, 0, 0, 0, 0, 0, 0, 0, 0, 0, 0, 0, 0, 0, 0, 0, 0, 0,\n",
       "       0, 0, 0, 0, 3, 1, 0, 0, 0, 0, 0, 0, 0, 0, 0, 0, 0, 0, 0, 0, 0, 0,\n",
       "       0, 0, 0, 0, 0, 0, 0, 0, 0, 0, 0, 0, 0, 0, 0, 0, 0, 0, 0, 0, 0, 0,\n",
       "       0, 0, 0, 0, 0, 0, 0, 0, 0, 0, 0, 0, 0, 0, 0, 0, 0, 0, 0, 0, 0, 0,\n",
       "       0, 0, 0, 0, 0, 0, 0, 0, 0, 0, 0, 0, 0, 0, 0, 0, 0, 0, 0, 0, 0, 0,\n",
       "       0, 0, 0, 0, 0, 0, 0, 0, 0, 0, 0, 0, 0, 0, 0, 0, 0, 0, 0, 0, 0, 0,\n",
       "       0, 0, 0, 0, 0, 0, 0, 0, 0, 0, 0, 0, 0, 0, 0, 0, 0, 0, 0, 0, 0, 0,\n",
       "       0, 0, 0, 0, 0, 0, 0, 0, 0, 0, 0, 0, 0, 0, 0, 0, 0, 0, 0, 2, 0, 0,\n",
       "       0, 0, 0, 0])"
      ]
     },
     "execution_count": 57,
     "metadata": {},
     "output_type": "execute_result"
    }
   ],
   "source": [
    "# Initialize the K-Means model.\n",
    "model = KMeans(n_clusters=4, random_state=0)\n",
    "\n",
    "# Fit the model\n",
    "model.fit(df_crypto_pca)\n",
    "\n",
    "# Predict clusters\n",
    "predictions = model.predict(df_crypto_pca)\n",
    "predictions"
   ]
  },
  {
   "cell_type": "code",
   "execution_count": 58,
   "metadata": {},
   "outputs": [
    {
     "name": "stdout",
     "output_type": "stream",
     "text": [
      "(532, 9)\n"
     ]
    },
    {
     "data": {
      "text/html": [
       "<div>\n",
       "<style scoped>\n",
       "    .dataframe tbody tr th:only-of-type {\n",
       "        vertical-align: middle;\n",
       "    }\n",
       "\n",
       "    .dataframe tbody tr th {\n",
       "        vertical-align: top;\n",
       "    }\n",
       "\n",
       "    .dataframe thead th {\n",
       "        text-align: right;\n",
       "    }\n",
       "</style>\n",
       "<table border=\"1\" class=\"dataframe\">\n",
       "  <thead>\n",
       "    <tr style=\"text-align: right;\">\n",
       "      <th></th>\n",
       "      <th>Algorithm</th>\n",
       "      <th>ProofType</th>\n",
       "      <th>TotalCoinsMined</th>\n",
       "      <th>TotalCoinSupply</th>\n",
       "      <th>PC 1</th>\n",
       "      <th>PC 2</th>\n",
       "      <th>PC 3</th>\n",
       "      <th>CoinName</th>\n",
       "      <th>Class</th>\n",
       "    </tr>\n",
       "  </thead>\n",
       "  <tbody>\n",
       "    <tr>\n",
       "      <th>42</th>\n",
       "      <td>Scrypt</td>\n",
       "      <td>PoW/PoS</td>\n",
       "      <td>4.199995e+01</td>\n",
       "      <td>42</td>\n",
       "      <td>-0.328169</td>\n",
       "      <td>-0.079535</td>\n",
       "      <td>0.062574</td>\n",
       "      <td>42 Coin</td>\n",
       "      <td>0</td>\n",
       "    </tr>\n",
       "    <tr>\n",
       "      <th>404</th>\n",
       "      <td>Scrypt</td>\n",
       "      <td>PoW/PoS</td>\n",
       "      <td>1.055185e+09</td>\n",
       "      <td>532000000</td>\n",
       "      <td>-0.314231</td>\n",
       "      <td>-0.079914</td>\n",
       "      <td>0.059886</td>\n",
       "      <td>404Coin</td>\n",
       "      <td>0</td>\n",
       "    </tr>\n",
       "    <tr>\n",
       "      <th>1337</th>\n",
       "      <td>X13</td>\n",
       "      <td>PoW/PoS</td>\n",
       "      <td>2.927942e+10</td>\n",
       "      <td>314159265359</td>\n",
       "      <td>0.216832</td>\n",
       "      <td>-0.108707</td>\n",
       "      <td>-0.032080</td>\n",
       "      <td>EliteCoin</td>\n",
       "      <td>0</td>\n",
       "    </tr>\n",
       "    <tr>\n",
       "      <th>BTC</th>\n",
       "      <td>SHA-256</td>\n",
       "      <td>PoW</td>\n",
       "      <td>1.792718e+07</td>\n",
       "      <td>21000000</td>\n",
       "      <td>-0.223705</td>\n",
       "      <td>-0.230796</td>\n",
       "      <td>-0.001061</td>\n",
       "      <td>Bitcoin</td>\n",
       "      <td>0</td>\n",
       "    </tr>\n",
       "    <tr>\n",
       "      <th>ETH</th>\n",
       "      <td>Ethash</td>\n",
       "      <td>PoW</td>\n",
       "      <td>1.076842e+08</td>\n",
       "      <td>0</td>\n",
       "      <td>-0.102793</td>\n",
       "      <td>-0.171199</td>\n",
       "      <td>-0.116309</td>\n",
       "      <td>Ethereum</td>\n",
       "      <td>0</td>\n",
       "    </tr>\n",
       "    <tr>\n",
       "      <th>LTC</th>\n",
       "      <td>Scrypt</td>\n",
       "      <td>PoW</td>\n",
       "      <td>6.303924e+07</td>\n",
       "      <td>84000000</td>\n",
       "      <td>-0.303070</td>\n",
       "      <td>-0.214962</td>\n",
       "      <td>-0.002844</td>\n",
       "      <td>Litecoin</td>\n",
       "      <td>0</td>\n",
       "    </tr>\n",
       "    <tr>\n",
       "      <th>DASH</th>\n",
       "      <td>X11</td>\n",
       "      <td>PoW/PoS</td>\n",
       "      <td>9.031294e+06</td>\n",
       "      <td>22000000</td>\n",
       "      <td>-0.318362</td>\n",
       "      <td>-0.079433</td>\n",
       "      <td>0.051790</td>\n",
       "      <td>Dash</td>\n",
       "      <td>0</td>\n",
       "    </tr>\n",
       "    <tr>\n",
       "      <th>XMR</th>\n",
       "      <td>CryptoNight-V7</td>\n",
       "      <td>PoW</td>\n",
       "      <td>1.720114e+07</td>\n",
       "      <td>0</td>\n",
       "      <td>-0.152368</td>\n",
       "      <td>-0.233638</td>\n",
       "      <td>-0.043614</td>\n",
       "      <td>Monero</td>\n",
       "      <td>0</td>\n",
       "    </tr>\n",
       "    <tr>\n",
       "      <th>ETC</th>\n",
       "      <td>Ethash</td>\n",
       "      <td>PoW</td>\n",
       "      <td>1.133597e+08</td>\n",
       "      <td>210000000</td>\n",
       "      <td>-0.247947</td>\n",
       "      <td>-0.174289</td>\n",
       "      <td>-0.132783</td>\n",
       "      <td>Ethereum Classic</td>\n",
       "      <td>0</td>\n",
       "    </tr>\n",
       "    <tr>\n",
       "      <th>ZEC</th>\n",
       "      <td>Equihash</td>\n",
       "      <td>PoW</td>\n",
       "      <td>7.383056e+06</td>\n",
       "      <td>21000000</td>\n",
       "      <td>-0.225459</td>\n",
       "      <td>-0.234814</td>\n",
       "      <td>-0.044802</td>\n",
       "      <td>ZCash</td>\n",
       "      <td>0</td>\n",
       "    </tr>\n",
       "  </tbody>\n",
       "</table>\n",
       "</div>"
      ],
      "text/plain": [
       "           Algorithm ProofType  TotalCoinsMined TotalCoinSupply      PC 1  \\\n",
       "42            Scrypt   PoW/PoS     4.199995e+01              42 -0.328169   \n",
       "404           Scrypt   PoW/PoS     1.055185e+09       532000000 -0.314231   \n",
       "1337             X13   PoW/PoS     2.927942e+10    314159265359  0.216832   \n",
       "BTC          SHA-256       PoW     1.792718e+07        21000000 -0.223705   \n",
       "ETH           Ethash       PoW     1.076842e+08               0 -0.102793   \n",
       "LTC           Scrypt       PoW     6.303924e+07        84000000 -0.303070   \n",
       "DASH             X11   PoW/PoS     9.031294e+06        22000000 -0.318362   \n",
       "XMR   CryptoNight-V7       PoW     1.720114e+07               0 -0.152368   \n",
       "ETC           Ethash       PoW     1.133597e+08       210000000 -0.247947   \n",
       "ZEC         Equihash       PoW     7.383056e+06        21000000 -0.225459   \n",
       "\n",
       "          PC 2      PC 3          CoinName  Class  \n",
       "42   -0.079535  0.062574           42 Coin      0  \n",
       "404  -0.079914  0.059886           404Coin      0  \n",
       "1337 -0.108707 -0.032080         EliteCoin      0  \n",
       "BTC  -0.230796 -0.001061           Bitcoin      0  \n",
       "ETH  -0.171199 -0.116309          Ethereum      0  \n",
       "LTC  -0.214962 -0.002844          Litecoin      0  \n",
       "DASH -0.079433  0.051790              Dash      0  \n",
       "XMR  -0.233638 -0.043614            Monero      0  \n",
       "ETC  -0.174289 -0.132783  Ethereum Classic      0  \n",
       "ZEC  -0.234814 -0.044802             ZCash      0  "
      ]
     },
     "execution_count": 58,
     "metadata": {},
     "output_type": "execute_result"
    }
   ],
   "source": [
    "# Create a new DataFrame including predicted clusters and cryptocurrencies features.\n",
    "# Concatentate the crypto_df and pcs_df DataFrames on the same columns.\n",
    "clustered_df = pd.concat([crypto_df, df_crypto_pca], axis=1, join='inner')\n",
    "\n",
    "#  Add a new column, \"CoinName\" to the clustered_df DataFrame that holds the names of the cryptocurrencies. \n",
    "clustered_df[\"CoinName\"] = crypto_type_df[\"CoinName\"]\n",
    "\n",
    "#  Add a new column, \"Class\" to the clustered_df DataFrame that holds the predictions.\n",
    "clustered_df[\"Class\"] = model.labels_\n",
    "\n",
    "# Print the shape of the clustered_df\n",
    "print(clustered_df.shape)\n",
    "clustered_df.head(10)"
   ]
  },
  {
   "cell_type": "markdown",
   "metadata": {},
   "source": [
    "### Deliverable 4: Visualizing Cryptocurrencies Results\n",
    "\n",
    "#### 3D-Scatter with Clusters"
   ]
  },
  {
   "cell_type": "code",
   "execution_count": 59,
   "metadata": {},
   "outputs": [
    {
     "data": {
      "application/vnd.plotly.v1+json": {
       "config": {
        "plotlyServerURL": "https://plot.ly"
       },
       "data": [
        {
         "customdata": [
          [
           "Scrypt"
          ],
          [
           "Scrypt"
          ],
          [
           "X13"
          ],
          [
           "SHA-256"
          ],
          [
           "Ethash"
          ],
          [
           "Scrypt"
          ],
          [
           "X11"
          ],
          [
           "CryptoNight-V7"
          ],
          [
           "Ethash"
          ],
          [
           "Equihash"
          ],
          [
           "SHA-512"
          ],
          [
           "Multiple"
          ],
          [
           "SHA-256"
          ],
          [
           "SHA-256"
          ],
          [
           "Scrypt"
          ],
          [
           "X15"
          ],
          [
           "X11"
          ],
          [
           "Scrypt"
          ],
          [
           "Scrypt"
          ],
          [
           "Scrypt"
          ],
          [
           "Multiple"
          ],
          [
           "Scrypt"
          ],
          [
           "SHA-256"
          ],
          [
           "Scrypt"
          ],
          [
           "Scrypt"
          ],
          [
           "Scrypt"
          ],
          [
           "Quark"
          ],
          [
           "Groestl"
          ],
          [
           "Scrypt"
          ],
          [
           "Scrypt"
          ],
          [
           "Scrypt"
          ],
          [
           "Scrypt"
          ],
          [
           "Scrypt"
          ],
          [
           "X11"
          ],
          [
           "Scrypt"
          ],
          [
           "Groestl"
          ],
          [
           "Multiple"
          ],
          [
           "SHA-256"
          ],
          [
           "Scrypt"
          ],
          [
           "Scrypt"
          ],
          [
           "Scrypt"
          ],
          [
           "Scrypt"
          ],
          [
           "PoS"
          ],
          [
           "Scrypt"
          ],
          [
           "Scrypt"
          ],
          [
           "NeoScrypt"
          ],
          [
           "Scrypt"
          ],
          [
           "Scrypt"
          ],
          [
           "Scrypt"
          ],
          [
           "Scrypt"
          ],
          [
           "X11"
          ],
          [
           "Scrypt"
          ],
          [
           "X11"
          ],
          [
           "SHA-256"
          ],
          [
           "Scrypt"
          ],
          [
           "Scrypt"
          ],
          [
           "Scrypt"
          ],
          [
           "SHA3"
          ],
          [
           "Scrypt"
          ],
          [
           "HybridScryptHash256"
          ],
          [
           "Scrypt"
          ],
          [
           "Scrypt"
          ],
          [
           "SHA-256"
          ],
          [
           "Scrypt"
          ],
          [
           "X13"
          ],
          [
           "Scrypt"
          ],
          [
           "SHA-256"
          ],
          [
           "Scrypt"
          ],
          [
           "X13"
          ],
          [
           "NeoScrypt"
          ],
          [
           "Scrypt"
          ],
          [
           "Scrypt"
          ],
          [
           "Scrypt"
          ],
          [
           "Scrypt"
          ],
          [
           "Scrypt"
          ],
          [
           "Scrypt"
          ],
          [
           "X11"
          ],
          [
           "X11"
          ],
          [
           "SHA-256"
          ],
          [
           "Multiple"
          ],
          [
           "SHA-256"
          ],
          [
           "PHI1612"
          ],
          [
           "X11"
          ],
          [
           "SHA-256"
          ],
          [
           "SHA-256"
          ],
          [
           "SHA-256"
          ],
          [
           "X11"
          ],
          [
           "Scrypt"
          ],
          [
           "Scrypt"
          ],
          [
           "Scrypt"
          ],
          [
           "Scrypt"
          ],
          [
           "Lyra2REv2"
          ],
          [
           "Scrypt"
          ],
          [
           "X11"
          ],
          [
           "Multiple"
          ],
          [
           "SHA-256"
          ],
          [
           "X13"
          ],
          [
           "Scrypt"
          ],
          [
           "CryptoNight"
          ],
          [
           "CryptoNight"
          ],
          [
           "Shabal256"
          ],
          [
           "Counterparty"
          ],
          [
           "Scrypt"
          ],
          [
           "SHA-256"
          ],
          [
           "Groestl"
          ],
          [
           "Scrypt"
          ],
          [
           "Scrypt"
          ],
          [
           "Scrypt"
          ],
          [
           "X13"
          ],
          [
           "Scrypt"
          ],
          [
           "Scrypt"
          ],
          [
           "Scrypt"
          ],
          [
           "Scrypt"
          ],
          [
           "X13"
          ],
          [
           "Scrypt"
          ],
          [
           "Stanford Folding"
          ],
          [
           "X11"
          ],
          [
           "Multiple"
          ],
          [
           "QuBit"
          ],
          [
           "Scrypt"
          ],
          [
           "Scrypt"
          ],
          [
           "Scrypt"
          ],
          [
           "M7 POW"
          ],
          [
           "Scrypt"
          ],
          [
           "SHA-256"
          ],
          [
           "Scrypt"
          ],
          [
           "X11"
          ],
          [
           "SHA3"
          ],
          [
           "X11"
          ],
          [
           "Lyra2RE"
          ],
          [
           "SHA-256"
          ],
          [
           "QUAIT"
          ],
          [
           "X11"
          ],
          [
           "X11"
          ],
          [
           "Scrypt"
          ],
          [
           "Scrypt"
          ],
          [
           "Scrypt"
          ],
          [
           "Ethash"
          ],
          [
           "X13"
          ],
          [
           "Blake2b"
          ],
          [
           "SHA-256"
          ],
          [
           "X15"
          ],
          [
           "X11"
          ],
          [
           "SHA-256"
          ],
          [
           "BLAKE256"
          ],
          [
           "Scrypt"
          ],
          [
           "1GB AES Pattern Search"
          ],
          [
           "SHA-256"
          ],
          [
           "X11"
          ],
          [
           "Scrypt"
          ],
          [
           "SHA-256"
          ],
          [
           "SHA-256"
          ],
          [
           "NIST5"
          ],
          [
           "Scrypt"
          ],
          [
           "Scrypt"
          ],
          [
           "X11"
          ],
          [
           "Dagger"
          ],
          [
           "Scrypt"
          ],
          [
           "X11GOST"
          ],
          [
           "X11"
          ],
          [
           "Scrypt"
          ],
          [
           "SHA-256"
          ],
          [
           "Scrypt"
          ],
          [
           "PoS"
          ],
          [
           "Scrypt"
          ],
          [
           "X11"
          ],
          [
           "X11"
          ],
          [
           "SHA-256"
          ],
          [
           "SHA-256"
          ],
          [
           "NIST5"
          ],
          [
           "X11"
          ],
          [
           "Scrypt"
          ],
          [
           "POS 3.0"
          ],
          [
           "Scrypt"
          ],
          [
           "Scrypt"
          ],
          [
           "Scrypt"
          ],
          [
           "X13"
          ],
          [
           "X11"
          ],
          [
           "X11"
          ],
          [
           "Equihash"
          ],
          [
           "X11"
          ],
          [
           "Scrypt"
          ],
          [
           "CryptoNight"
          ],
          [
           "SHA-256"
          ],
          [
           "SHA-256"
          ],
          [
           "X11"
          ],
          [
           "Scrypt"
          ],
          [
           "Multiple"
          ],
          [
           "Scrypt"
          ],
          [
           "Scrypt"
          ],
          [
           "Scrypt"
          ],
          [
           "SHA-256"
          ],
          [
           "Scrypt"
          ],
          [
           "Scrypt"
          ],
          [
           "SHA-256D"
          ],
          [
           "PoS"
          ],
          [
           "Scrypt"
          ],
          [
           "X11"
          ],
          [
           "Lyra2Z"
          ],
          [
           "PoS"
          ],
          [
           "X13"
          ],
          [
           "X14"
          ],
          [
           "PoS"
          ],
          [
           "SHA-256D"
          ],
          [
           "Ethash"
          ],
          [
           "Equihash"
          ],
          [
           "DPoS"
          ],
          [
           "X11"
          ],
          [
           "Scrypt"
          ],
          [
           "X11"
          ],
          [
           "X13"
          ],
          [
           "X11"
          ],
          [
           "PoS"
          ],
          [
           "Scrypt"
          ],
          [
           "Scrypt"
          ],
          [
           "X11"
          ],
          [
           "PoS"
          ],
          [
           "X11"
          ],
          [
           "SHA-256"
          ],
          [
           "Scrypt"
          ],
          [
           "X11"
          ],
          [
           "Scrypt"
          ],
          [
           "Scrypt"
          ],
          [
           "X11"
          ],
          [
           "CryptoNight"
          ],
          [
           "Scrypt"
          ],
          [
           "Scrypt"
          ],
          [
           "Scrypt"
          ],
          [
           "Scrypt"
          ],
          [
           "Quark"
          ],
          [
           "QuBit"
          ],
          [
           "Scrypt"
          ],
          [
           "CryptoNight"
          ],
          [
           "Lyra2RE"
          ],
          [
           "Scrypt"
          ],
          [
           "SHA-256"
          ],
          [
           "X11"
          ],
          [
           "Scrypt"
          ],
          [
           "X11"
          ],
          [
           "Scrypt"
          ],
          [
           "CryptoNight-V7"
          ],
          [
           "Scrypt"
          ],
          [
           "Scrypt"
          ],
          [
           "Scrypt"
          ],
          [
           "X13"
          ],
          [
           "X11"
          ],
          [
           "Equihash"
          ],
          [
           "Scrypt"
          ],
          [
           "Scrypt"
          ],
          [
           "Lyra2RE"
          ],
          [
           "Scrypt"
          ],
          [
           "Dagger-Hashimoto"
          ],
          [
           "X11"
          ],
          [
           "Blake2S"
          ],
          [
           "X11"
          ],
          [
           "Scrypt"
          ],
          [
           "PoS"
          ],
          [
           "X11"
          ],
          [
           "NIST5"
          ],
          [
           "PoS"
          ],
          [
           "X11"
          ],
          [
           "Scrypt"
          ],
          [
           "Scrypt"
          ],
          [
           "Scrypt"
          ],
          [
           "SHA-256"
          ],
          [
           "X11"
          ],
          [
           "Scrypt"
          ],
          [
           "Scrypt"
          ],
          [
           "SHA-256"
          ],
          [
           "PoS"
          ],
          [
           "Scrypt"
          ],
          [
           "X15"
          ],
          [
           "SHA-256"
          ],
          [
           "Scrypt"
          ],
          [
           "POS 3.0"
          ],
          [
           "CryptoNight-V7"
          ],
          [
           "536"
          ],
          [
           "Argon2d"
          ],
          [
           "Blake2b"
          ],
          [
           "Cloverhash"
          ],
          [
           "CryptoNight"
          ],
          [
           "NIST5"
          ],
          [
           "X11"
          ],
          [
           "NIST5"
          ],
          [
           "Skein"
          ],
          [
           "Scrypt"
          ],
          [
           "X13"
          ],
          [
           "Scrypt"
          ],
          [
           "X11"
          ],
          [
           "X11"
          ],
          [
           "Scrypt"
          ],
          [
           "CryptoNight"
          ],
          [
           "X13"
          ],
          [
           "Time Travel"
          ],
          [
           "Scrypt"
          ],
          [
           "Keccak"
          ],
          [
           "SkunkHash v2 Raptor"
          ],
          [
           "X11"
          ],
          [
           "Skein"
          ],
          [
           "SHA-256"
          ],
          [
           "X11"
          ],
          [
           "Scrypt"
          ],
          [
           "VeChainThor Authority"
          ],
          [
           "Scrypt"
          ],
          [
           "PoS"
          ],
          [
           "Scrypt"
          ],
          [
           "Scrypt"
          ],
          [
           "Scrypt"
          ],
          [
           "Scrypt"
          ],
          [
           "Scrypt"
          ],
          [
           "Scrypt"
          ],
          [
           "Scrypt"
          ],
          [
           "CryptoNight"
          ],
          [
           "SHA-512"
          ],
          [
           "Ouroboros"
          ],
          [
           "X11"
          ],
          [
           "Equihash"
          ],
          [
           "NeoScrypt"
          ],
          [
           "X11"
          ],
          [
           "Scrypt"
          ],
          [
           "NeoScrypt"
          ],
          [
           "Lyra2REv2"
          ],
          [
           "Equihash"
          ],
          [
           "Scrypt"
          ],
          [
           "SHA-256"
          ],
          [
           "NIST5"
          ],
          [
           "PHI1612"
          ],
          [
           "Dagger"
          ],
          [
           "Scrypt"
          ],
          [
           "Quark"
          ],
          [
           "Scrypt"
          ],
          [
           "POS 2.0"
          ],
          [
           "Scrypt"
          ],
          [
           "SHA-256"
          ],
          [
           "X11"
          ],
          [
           "NeoScrypt"
          ],
          [
           "Ethash"
          ],
          [
           "NeoScrypt"
          ],
          [
           "X11"
          ],
          [
           "DPoS"
          ],
          [
           "NIST5"
          ],
          [
           "X13"
          ],
          [
           "Multiple"
          ],
          [
           "Scrypt"
          ],
          [
           "CryptoNight"
          ],
          [
           "CryptoNight"
          ],
          [
           "Ethash"
          ],
          [
           "NIST5"
          ],
          [
           "Quark"
          ],
          [
           "X11"
          ],
          [
           "CryptoNight-V7"
          ],
          [
           "Scrypt"
          ],
          [
           "Scrypt"
          ],
          [
           "Scrypt"
          ],
          [
           "X11"
          ],
          [
           "BLAKE256"
          ],
          [
           "X11"
          ],
          [
           "NeoScrypt"
          ],
          [
           "Quark"
          ],
          [
           "NeoScrypt"
          ],
          [
           "Scrypt"
          ],
          [
           "Scrypt"
          ],
          [
           "Scrypt"
          ],
          [
           "X11"
          ],
          [
           "X11"
          ],
          [
           "SHA-256"
          ],
          [
           "C11"
          ],
          [
           "POS 3.0"
          ],
          [
           "Ethash"
          ],
          [
           "Scrypt"
          ],
          [
           "CryptoNight"
          ],
          [
           "SkunkHash"
          ],
          [
           "Scrypt"
          ],
          [
           "CryptoNight"
          ],
          [
           "Scrypt"
          ],
          [
           "Dagger"
          ],
          [
           "Lyra2REv2"
          ],
          [
           "X13"
          ],
          [
           "Scrypt"
          ],
          [
           "Scrypt"
          ],
          [
           "X11"
          ],
          [
           "C11"
          ],
          [
           "Proof-of-Authority"
          ],
          [
           "X11"
          ],
          [
           "XEVAN"
          ],
          [
           "Scrypt"
          ],
          [
           "VBFT"
          ],
          [
           "Ethash"
          ],
          [
           "CryptoNight"
          ],
          [
           "Scrypt"
          ],
          [
           "IMesh"
          ],
          [
           "NIST5"
          ],
          [
           "Scrypt"
          ],
          [
           "Scrypt"
          ],
          [
           "Equihash"
          ],
          [
           "Scrypt"
          ],
          [
           "Lyra2Z"
          ],
          [
           "Green Protocol"
          ],
          [
           "PoS"
          ],
          [
           "Scrypt"
          ],
          [
           "Semux BFT consensus"
          ],
          [
           "X11"
          ],
          [
           "Quark"
          ],
          [
           "PoS"
          ],
          [
           "CryptoNight"
          ],
          [
           "X16R"
          ],
          [
           "Scrypt"
          ],
          [
           "NIST5"
          ],
          [
           "Lyra2RE"
          ],
          [
           "XEVAN"
          ],
          [
           "Tribus"
          ],
          [
           "Scrypt"
          ],
          [
           "Lyra2Z"
          ],
          [
           "CryptoNight"
          ],
          [
           "CryptoNight Heavy"
          ],
          [
           "CryptoNight"
          ],
          [
           "Scrypt"
          ],
          [
           "Scrypt"
          ],
          [
           "Jump Consistent Hash"
          ],
          [
           "SHA-256D"
          ],
          [
           "CryptoNight"
          ],
          [
           "Scrypt"
          ],
          [
           "X15"
          ],
          [
           "Scrypt"
          ],
          [
           "Quark"
          ],
          [
           "SHA-256"
          ],
          [
           "DPoS"
          ],
          [
           "X16R"
          ],
          [
           "HMQ1725"
          ],
          [
           "X11"
          ],
          [
           "X16R"
          ],
          [
           "Quark"
          ],
          [
           "Quark"
          ],
          [
           "Scrypt"
          ],
          [
           "Lyra2REv2"
          ],
          [
           "Quark"
          ],
          [
           "Scrypt"
          ],
          [
           "Scrypt"
          ],
          [
           "CryptoNight-V7"
          ],
          [
           "Cryptonight-GPU"
          ],
          [
           "XEVAN"
          ],
          [
           "CryptoNight Heavy"
          ],
          [
           "X11"
          ],
          [
           "X11"
          ],
          [
           "Scrypt"
          ],
          [
           "PoS"
          ],
          [
           "SHA-256"
          ],
          [
           "Keccak"
          ],
          [
           "X11"
          ],
          [
           "X11"
          ],
          [
           "Scrypt"
          ],
          [
           "SHA-512"
          ],
          [
           "X16R"
          ],
          [
           "ECC 256K1"
          ],
          [
           "Equihash"
          ],
          [
           "XEVAN"
          ],
          [
           "Lyra2Z"
          ],
          [
           "SHA-256"
          ],
          [
           "XEVAN"
          ],
          [
           "X11"
          ],
          [
           "CryptoNight"
          ],
          [
           "Quark"
          ],
          [
           "Blake"
          ],
          [
           "Blake"
          ],
          [
           "Equihash"
          ],
          [
           "Exosis"
          ],
          [
           "Scrypt"
          ],
          [
           "Scrypt"
          ],
          [
           "Equihash"
          ],
          [
           "Quark"
          ],
          [
           "Equihash"
          ],
          [
           "Quark"
          ],
          [
           "Scrypt"
          ],
          [
           "QuBit"
          ],
          [
           "X11"
          ],
          [
           "Scrypt"
          ],
          [
           "XEVAN"
          ],
          [
           "SHA-256D"
          ],
          [
           "X11"
          ],
          [
           "SHA-256"
          ],
          [
           "X13"
          ],
          [
           "SHA-256"
          ],
          [
           "X11"
          ],
          [
           "DPoS"
          ],
          [
           "Scrypt"
          ],
          [
           "Scrypt"
          ],
          [
           "X11"
          ],
          [
           "NeoScrypt"
          ],
          [
           "Scrypt"
          ],
          [
           "Blake"
          ],
          [
           "Scrypt"
          ],
          [
           "SHA-256"
          ],
          [
           "Scrypt"
          ],
          [
           "X11"
          ],
          [
           "Scrypt"
          ],
          [
           "Scrypt"
          ],
          [
           "SHA-256"
          ],
          [
           "X11"
          ],
          [
           "SHA-256"
          ],
          [
           "Scrypt"
          ],
          [
           "Scrypt"
          ],
          [
           "Scrypt"
          ],
          [
           "Groestl"
          ],
          [
           "X11"
          ],
          [
           "Scrypt"
          ],
          [
           "PoS"
          ],
          [
           "Scrypt"
          ],
          [
           "Scrypt"
          ],
          [
           "X11"
          ],
          [
           "SHA-256"
          ],
          [
           "DPoS"
          ],
          [
           "Scrypt"
          ],
          [
           "Scrypt"
          ],
          [
           "NeoScrypt"
          ],
          [
           "Multiple"
          ],
          [
           "X13"
          ],
          [
           "Equihash+Scrypt"
          ],
          [
           "DPoS"
          ],
          [
           "Ethash"
          ],
          [
           "DPoS"
          ],
          [
           "SHA-256"
          ],
          [
           "Leased POS"
          ],
          [
           "PoS"
          ],
          [
           "PoS"
          ],
          [
           "SHA-256"
          ],
          [
           "Scrypt"
          ],
          [
           "CryptoNight"
          ],
          [
           "Equihash"
          ],
          [
           "Scrypt"
          ]
         ],
         "hovertemplate": "<b>%{hovertext}</b><br><br>Class=%{marker.color}<br>PC 1=%{x}<br>PC 2=%{y}<br>PC 3=%{z}<br>Algorithm=%{customdata[0]}<extra></extra>",
         "hovertext": [
          "42 Coin",
          "404Coin",
          "EliteCoin",
          "Bitcoin",
          "Ethereum",
          "Litecoin",
          "Dash",
          "Monero",
          "Ethereum Classic",
          "ZCash",
          "Bitshares",
          "DigiByte",
          "BitcoinDark",
          "PayCoin",
          "ProsperCoin",
          "KoboCoin",
          "Spreadcoin",
          "Argentum",
          "Aurora Coin",
          "BlueCoin",
          "MyriadCoin",
          "MoonCoin",
          "ZetaCoin",
          "SexCoin",
          "Quatloo",
          "EnergyCoin",
          "QuarkCoin",
          "Riecoin",
          "Digitalcoin ",
          "BitBar",
          "Catcoin",
          "CryptoBullion",
          "CannaCoin",
          "CryptCoin",
          "CasinoCoin",
          "Diamond",
          "Verge",
          "DevCoin",
          "EarthCoin",
          "E-Gulden",
          "Einsteinium",
          "Emerald",
          "Exclusive Coin",
          "FlutterCoin",
          "Franko",
          "FeatherCoin",
          "GrandCoin",
          "GlobalCoin",
          "GoldCoin",
          "HoboNickels",
          "HyperStake",
          "Infinite Coin",
          "IOCoin",
          "IXcoin",
          "KrugerCoin",
          "LuckyCoin",
          "Litebar ",
          "MaxCoin",
          "MegaCoin",
          "MediterraneanCoin",
          "MintCoin",
          "MinCoin",
          "MazaCoin",
          "Nautilus Coin",
          "NavCoin",
          "NobleCoin",
          "Namecoin",
          "NyanCoin",
          "OpalCoin",
          "Orbitcoin",
          "PotCoin",
          "PhoenixCoin",
          "Reddcoin",
          "RonPaulCoin",
          "StableCoin",
          "SmartCoin",
          "SuperCoin",
          "SyncCoin",
          "SysCoin",
          "TeslaCoin",
          "TigerCoin",
          "TittieCoin",
          "TorCoin",
          "TerraCoin",
          "UnbreakableCoin",
          "Unobtanium",
          "UroCoin",
          "UnitaryStatus Dollar",
          "UltraCoin",
          "ViaCoin",
          "VeriCoin",
          "Vertcoin",
          "WorldCoin",
          "X11 Coin",
          "Crypti",
          "JouleCoin",
          "StealthCoin",
          "ZCC Coin",
          "ByteCoin",
          "DigitalNote ",
          "BurstCoin",
          "StorjCoin",
          "MonaCoin",
          "Neutron",
          "FairCoin",
          "Gulden",
          "RubyCoin",
          "PesetaCoin",
          "Kore",
          "Wild Beast Coin",
          "Dnotes",
          "Flo",
          "8BIT Coin",
          "Sativa Coin",
          "ArtByte",
          "Folding Coin",
          "Ucoin",
          "Unitus",
          "CypherPunkCoin",
          "OmniCron",
          "Vtorrent",
          "GreenCoin",
          "Cryptonite",
          "MasterCoin",
          "SoonCoin",
          "1Credit",
          "IslaCoin",
          "Nexus",
          "MarsCoin ",
          "Crypto",
          "Anarchists Prime",
          "Droidz",
          "BowsCoin",
          "Squall Coin",
          "Song Coin",
          "BitZeny",
          "Diggits",
          "Expanse",
          "Paycon",
          "Siacoin",
          "Emercoin",
          "EverGreenCoin",
          "MindCoin",
          "I0coin",
          "Decred",
          "Revolution VR",
          "HOdlcoin",
          "EDRCoin",
          "Hitcoin",
          "Gamecredits",
          "DubaiCoin",
          "CarpeDiemCoin",
          "PWR Coin",
          "BillaryCoin",
          "GPU Coin",
          "Adzcoin",
          "SoilCoin",
          "YoCoin",
          "SibCoin",
          "EuropeCoin",
          "ZeitCoin",
          "SwingCoin",
          "SafeExchangeCoin",
          "Nebuchadnezzar",
          "Francs",
          "BolivarCoin",
          "Ratecoin",
          "Revenu",
          "Clockcoin",
          "VIP Tokens",
          "BitSend",
          "Omni",
          "Let it Ride",
          "PutinCoin",
          "iBankCoin",
          "Frankywillcoin",
          "MudraCoin",
          "PizzaCoin",
          "Lutetium Coin",
          "Komodo",
          "GoldBlocks",
          "CarterCoin",
          "Karbo",
          "BitTokens",
          "ZayedCoin",
          "MustangCoin",
          "ZoneCoin",
          "Circuits of Value",
          "RootCoin",
          "DopeCoin",
          "BitCurrency",
          "DollarCoin",
          "Swiscoin",
          "Shilling",
          "BuzzCoin",
          "Opair",
          "PesoBit",
          "Halloween Coin",
          "ZCoin",
          "CoffeeCoin",
          "RoyalCoin",
          "GanjaCoin V2",
          "TeamUP",
          "LanaCoin",
          "Elementrem",
          "ZClassic",
          "ARK",
          "InsaneCoin",
          "KiloCoin",
          "ArtexCoin",
          "EmberCoin",
          "XenixCoin",
          "FreeCoin",
          "PLNCoin",
          "AquariusCoin",
          "Kurrent",
          "Creatio",
          "Eternity",
          "Eurocoin",
          "BitcoinFast",
          "Stakenet",
          "BitConnect Coin",
          "MoneyCoin",
          "Enigma",
          "Cannabis Industry Coin",
          "Russiacoin",
          "PandaCoin",
          "GameUnits",
          "GAKHcoin",
          "Allsafe",
          "LiteCreed",
          "OsmiumCoin",
          "Bikercoins",
          "HexxCoin",
          "Klingon Empire Darsek",
          "Internet of People",
          "KushCoin",
          "Printerium",
          "PacCoin",
          "Impeach",
          "Citadel",
          "Zilbercoin",
          "FirstCoin",
          "BeaverCoin",
          "FindCoin",
          "VaultCoin",
          "Zero",
          "OpenChat",
          "Canada eCoin",
          "Zoin",
          "RenosCoin",
          "DubaiCoin",
          "VirtacoinPlus",
          "TajCoin",
          "Impact",
          "EB3coin",
          "Atmos",
          "HappyCoin",
          "Coinonat",
          "MacronCoin",
          "Condensate",
          "Independent Money System",
          "ArgusCoin",
          "LomoCoin",
          "ProCurrency",
          "GoldReserve",
          "BenjiRolls",
          "GrowthCoin",
          "ILCoin",
          "Phreak",
          "Degas Coin",
          "HTML5 Coin",
          "Ultimate Secure Cash",
          "EquiTrader",
          "QTUM",
          "Quantum Resistant Ledger",
          "Espers",
          "Dynamic",
          "Nano",
          "ChanCoin",
          "Dinastycoin",
          "Denarius",
          "DigitalPrice",
          "Virta Unique Coin",
          "Bitcoin Planet",
          "Unify",
          "BritCoin",
          "SocialCoin",
          "ArcticCoin",
          "DAS",
          "Linda",
          "LeviarCoin",
          "DeepOnion",
          "Bitcore",
          "gCn Coin",
          "SmartCash",
          "Signatum",
          "Onix",
          "Cream",
          "Bitcoin Cash",
          "Monoeci",
          "Draftcoin",
          "Vechain",
          "Sojourn Coin",
          "Stakecoin",
          "NewYorkCoin",
          "FrazCoin",
          "Kronecoin",
          "AdCoin",
          "Linx",
          "CoinonatX",
          "Ethereum Dark",
          "Sumokoin",
          "Obsidian",
          "Cardano",
          "Regalcoin",
          "BitcoinZ",
          "TrezarCoin",
          "Elements",
          "TerraNovaCoin",
          "VIVO Coin",
          "Rupee",
          "Bitcoin Gold",
          "WomenCoin",
          "Theresa May Coin",
          "NamoCoin",
          "LUXCoin",
          "Pirl",
          "Xios",
          "Bitcloud 2.0",
          "eBoost",
          "KekCoin",
          "BlackholeCoin",
          "Infinity Economics",
          "Pura",
          "Innova",
          "Ellaism",
          "GoByte",
          "Magnet",
          "Lamden Tau",
          "Electra",
          "Bitcoin Diamond",
          "SHIELD",
          "Cash & Back Coin",
          "UltraNote",
          "BitCoal",
          "DaxxCoin",
          "Bulwark",
          "Kalkulus",
          "AC3",
          "Lethean",
          "GermanCoin",
          "LiteCoin Ultra",
          "PopularCoin",
          "PhantomX",
          "Photon",
          "Sucre",
          "SparksPay",
          "Digiwage",
          "GunCoin",
          "IrishCoin",
          "Trollcoin",
          "Litecoin Plus",
          "Monkey Project",
          "Pioneer Coin",
          "UnitedBitcoin",
          "Interzone",
          "TokenPay",
          "1717 Masonic Commemorative Token",
          "My Big Coin",
          "TurtleCoin",
          "MUNcoin",
          "Unified Society USDEX",
          "Niobio Cash",
          "ShareChain",
          "Travelflex",
          "KREDS",
          "Tokyo Coin",
          "BitFlip",
          "LottoCoin",
          "Crypto Improvement Fund",
          "Stipend",
          "Poa Network",
          "Pushi",
          "Ellerium",
          "Velox",
          "Ontology",
          "Callisto Network",
          "BitTube",
          "Poseidon",
          "Aidos Kuneen",
          "Bitspace",
          "Briacoin",
          "Ignition",
          "Bitrolium",
          "MedicCoin",
          "Alpenschillling",
          "Bitcoin Green",
          "Deviant Coin",
          "Abjcoin",
          "Semux",
          "FuturoCoin",
          "Carebit",
          "Zealium",
          "Monero Classic",
          "Proton",
          "iDealCash",
          "Jumpcoin",
          "Infinex",
          "Bitcoin Incognito",
          "KEYCO",
          "HollyWoodCoin",
          "GINcoin",
          "PlatinCoin",
          "Loki",
          "Newton Coin",
          "Swisscoin",
          "Xt3ch",
          "MassGrid",
          "TheVig",
          "PluraCoin",
          "EmaratCoin",
          "Dekado",
          "Lynx",
          "Poseidon Quark",
          "BitcoinWSpectrum",
          "Muse",
          "Motion",
          "PlusOneCoin",
          "Axe",
          "Trivechain",
          "Dystem",
          "Giant",
          "Peony Coin",
          "Absolute Coin",
          "Vitae",
          "HexCoin",
          "TPCash",
          "Webchain",
          "Ryo",
          "Urals Coin",
          "Qwertycoin",
          "ARENON",
          "EUNO",
          "MMOCoin",
          "Ketan",
          "Project Pai",
          "XDNA",
          "PAXEX",
          "Azart",
          "ThunderStake",
          "Kcash",
          "Xchange",
          "Acute Angle Cloud",
          "CrypticCoin",
          "Bettex coin",
          "Actinium",
          "Bitcoin SV",
          "BitMoney",
          "Junson Ming Chan Coin",
          "FREDEnergy",
          "HerbCoin",
          "Universal Molecule",
          "Lithium",
          "PirateCash",
          "Exosis",
          "Block-Logic",
          "Oduwa",
          "Beam",
          "Galilel",
          "Bithereum",
          "Crypto Sports",
          "Credit",
          "SLICE",
          "Dash Platinum",
          "Nasdacoin",
          "Beetle Coin",
          "Titan Coin",
          "Award",
          "BLAST",
          "Bitcoin Rhodium",
          "GlobalToken",
          "Insane Coin",
          "ALAX",
          "LiteDoge",
          "SolarCoin",
          "TruckCoin",
          "UFO Coin",
          "OrangeCoin",
          "BlakeCoin",
          "BitstarCoin",
          "NeosCoin",
          "HyperCoin",
          "PinkCoin",
          "Crypto Escudo",
          "AudioCoin",
          "IncaKoin",
          "Piggy Coin",
          "Crown Coin",
          "Genstake",
          "SmileyCoin",
          "XiaoMiCoin",
          "Groestlcoin",
          "CapriCoin",
          " ClubCoin",
          "Radium",
          "Bata",
          "Pakcoin",
          "Creditbit ",
          "OKCash",
          "Lisk",
          "HiCoin",
          "WhiteCoin",
          "FriendshipCoin",
          "JoinCoin",
          "Triangles Coin",
          "Vollar",
          "EOS",
          "Reality Clash",
          "Oxycoin",
          "TigerCash",
          "Waves",
          "Particl",
          "Nxt",
          "ZEPHYR",
          "Gapcoin",
          "Beldex",
          "Horizen",
          "BitcoinPlus"
         ],
         "legendgroup": "0",
         "marker": {
          "color": [
           0,
           0,
           0,
           0,
           0,
           0,
           0,
           0,
           0,
           0,
           0,
           0,
           0,
           0,
           0,
           0,
           0,
           0,
           0,
           0,
           0,
           0,
           0,
           0,
           0,
           0,
           0,
           0,
           0,
           0,
           0,
           0,
           0,
           0,
           0,
           0,
           0,
           0,
           0,
           0,
           0,
           0,
           0,
           0,
           0,
           0,
           0,
           0,
           0,
           0,
           0,
           0,
           0,
           0,
           0,
           0,
           0,
           0,
           0,
           0,
           0,
           0,
           0,
           0,
           0,
           0,
           0,
           0,
           0,
           0,
           0,
           0,
           0,
           0,
           0,
           0,
           0,
           0,
           0,
           0,
           0,
           0,
           0,
           0,
           0,
           0,
           0,
           0,
           0,
           0,
           0,
           0,
           0,
           0,
           0,
           0,
           0,
           0,
           0,
           0,
           0,
           0,
           0,
           0,
           0,
           0,
           0,
           0,
           0,
           0,
           0,
           0,
           0,
           0,
           0,
           0,
           0,
           0,
           0,
           0,
           0,
           0,
           0,
           0,
           0,
           0,
           0,
           0,
           0,
           0,
           0,
           0,
           0,
           0,
           0,
           0,
           0,
           0,
           0,
           0,
           0,
           0,
           0,
           0,
           0,
           0,
           0,
           0,
           0,
           0,
           0,
           0,
           0,
           0,
           0,
           0,
           0,
           0,
           0,
           0,
           0,
           0,
           0,
           0,
           0,
           0,
           0,
           0,
           0,
           0,
           0,
           0,
           0,
           0,
           0,
           0,
           0,
           0,
           0,
           0,
           0,
           0,
           0,
           0,
           0,
           0,
           0,
           0,
           0,
           0,
           0,
           0,
           0,
           0,
           0,
           0,
           0,
           0,
           0,
           0,
           0,
           0,
           0,
           0,
           0,
           0,
           0,
           0,
           0,
           0,
           0,
           0,
           0,
           0,
           0,
           0,
           0,
           0,
           0,
           0,
           0,
           0,
           0,
           0,
           0,
           0,
           0,
           0,
           0,
           0,
           0,
           0,
           0,
           0,
           0,
           0,
           0,
           0,
           0,
           0,
           0,
           0,
           0,
           0,
           0,
           0,
           0,
           0,
           0,
           0,
           0,
           0,
           0,
           0,
           0,
           0,
           0,
           0,
           0,
           0,
           0,
           0,
           0,
           0,
           0,
           0,
           0,
           0,
           0,
           0,
           0,
           0,
           0,
           0,
           0,
           0,
           0,
           0,
           0,
           0,
           0,
           0,
           0,
           0,
           0,
           0,
           0,
           0,
           0,
           0,
           0,
           0,
           0,
           0,
           0,
           0,
           0,
           0,
           0,
           0,
           0,
           0,
           0,
           0,
           0,
           0,
           0,
           0,
           0,
           0,
           0,
           0,
           0,
           0,
           0,
           0,
           0,
           0,
           0,
           0,
           0,
           0,
           0,
           0,
           0,
           0,
           0,
           0,
           0,
           0,
           0,
           0,
           0,
           0,
           0,
           0,
           0,
           0,
           0,
           0,
           0,
           0,
           0,
           0,
           0,
           0,
           0,
           0,
           0,
           0,
           0,
           0,
           0,
           0,
           0,
           0,
           0,
           0,
           0,
           0,
           0,
           0,
           0,
           0,
           0,
           0,
           0,
           0,
           0,
           0,
           0,
           0,
           0,
           0,
           0,
           0,
           0,
           0,
           0,
           0,
           0,
           0,
           0,
           0,
           0,
           0,
           0,
           0,
           0,
           0,
           0,
           0,
           0,
           0,
           0,
           0,
           0,
           0,
           0,
           0,
           0,
           0,
           0,
           0,
           0,
           0,
           0,
           0,
           0,
           0,
           0,
           0,
           0,
           0,
           0,
           0,
           0,
           0,
           0,
           0,
           0,
           0,
           0,
           0,
           0,
           0,
           0,
           0,
           0,
           0,
           0,
           0,
           0,
           0,
           0,
           0,
           0,
           0,
           0,
           0,
           0,
           0,
           0,
           0,
           0,
           0,
           0,
           0,
           0,
           0,
           0,
           0,
           0,
           0,
           0,
           0,
           0,
           0,
           0,
           0,
           0,
           0,
           0,
           0,
           0,
           0,
           0,
           0,
           0,
           0,
           0,
           0,
           0,
           0,
           0,
           0,
           0,
           0,
           0,
           0,
           0,
           0,
           0,
           0,
           0,
           0,
           0,
           0,
           0,
           0,
           0,
           0,
           0,
           0,
           0,
           0,
           0,
           0,
           0,
           0,
           0,
           0,
           0,
           0,
           0,
           0,
           0,
           0,
           0,
           0,
           0,
           0,
           0,
           0,
           0,
           0,
           0,
           0,
           0,
           0,
           0,
           0,
           0,
           0,
           0,
           0,
           0,
           0,
           0
          ],
          "coloraxis": "coloraxis",
          "symbol": "circle"
         },
         "mode": "markers",
         "name": "0",
         "scene": "scene",
         "showlegend": true,
         "type": "scatter3d",
         "x": [
          -0.32816861369125944,
          -0.3142307502583725,
          0.21683227239260433,
          -0.22370475652709593,
          -0.10279341642403798,
          -0.303070193226239,
          -0.3183623600573619,
          -0.1523680292713663,
          -0.247947489139309,
          -0.22545863234681385,
          0.12892597271664594,
          0.031019773766147136,
          -0.2659342839753373,
          -0.09234006012323986,
          -0.2729792160771408,
          -0.28747174134456827,
          -0.26751887702551447,
          -0.2786653568063289,
          -0.325817089203111,
          -0.14555509566083535,
          0.10315721554184565,
          -0.2903829344248594,
          -0.2126093806838406,
          -0.28968048529950713,
          -0.21671801750902167,
          -0.1512048728618627,
          -0.2794740925783679,
          -0.29372254428613664,
          -0.2863985049554762,
          -0.3322998653546097,
          -0.2877422260679434,
          -0.30190322817501863,
          -0.28722540269797725,
          -0.2664464413370422,
          0.6287786543743005,
          -0.3040524063234222,
          0.11381391943666726,
          0.07331658712346716,
          -0.08767756303663951,
          -0.28759126144525804,
          -0.2831515997610035,
          -0.2839594411275152,
          0.038864009627035435,
          -0.06583115895069726,
          -0.28443853435172284,
          -0.1989986205504156,
          -0.27310543341699334,
          -0.2601782543924701,
          -0.2854472459546349,
          -0.3020471902644727,
          -0.03878063594715641,
          1.1720582507360708,
          -0.3182673119937981,
          -0.22366988741114405,
          -0.2839572515809627,
          -0.26405564725226566,
          -0.2882133703027444,
          -0.11316935468357417,
          -0.2830780409231965,
          -0.24354322555191255,
          0.1808904096063013,
          -0.27157549214524535,
          -0.23144585374683732,
          -0.17189181366774045,
          -0.09172617242467265,
          -0.24641231626460786,
          -0.22373994102468492,
          -0.2820305409878968,
          -0.09228778275852681,
          -0.26775418376072196,
          -0.3254667818390069,
          -0.32792220677981854,
          0.17069924121382685,
          -0.2730306474269391,
          -0.29083529050612295,
          -0.28859434008394597,
          -0.056730432622388416,
          -0.32768097084003606,
          -0.20757945078672438,
          -0.05434909912569507,
          -0.2145311394048767,
          -0.06557222732629278,
          -0.3001632189588907,
          -0.23410544913970255,
          -0.17506127233351373,
          -0.20885486915059195,
          -0.13075518749192777,
          -0.30896272938762603,
          -0.2414116567212454,
          -0.28330069929698215,
          -0.07672782808552887,
          -0.3395191298109282,
          -0.28430835729730014,
          -0.32729505141508075,
          0.03527228573244665,
          -0.20468263052716662,
          -0.09208998848041061,
          -0.12667299594355566,
          2.925635201028806,
          -0.006314222193276709,
          0.24122105495955828,
          0.1119669543600212,
          -0.2881640977111851,
          -0.2534685321955208,
          -0.14247890441682945,
          -0.2800061205908098,
          -0.053616754292383516,
          -0.28751542697665916,
          -0.25119158642583844,
          -0.28381382398170296,
          -0.022591358529990304,
          -0.29194622110817225,
          -0.15254569369117393,
          -0.236620716131191,
          -0.09439916598032355,
          0.01631012013275746,
          -0.19413324685514216,
          -0.03859132519396617,
          -0.1013674689108068,
          -0.2850713337308473,
          -0.28930723895826405,
          -0.1960604873974535,
          -0.3994672713049883,
          -0.2861925914332569,
          -0.2237650138696616,
          0.025724902907984144,
          -0.1559182549882736,
          0.23570604267616035,
          -0.2994297058691741,
          -0.26272120052204645,
          -0.21347324447664925,
          -0.059475010977488564,
          -0.2762409602854824,
          -0.1047491501892099,
          -0.2828057517795042,
          -0.2902685130962493,
          -0.1422175398326283,
          -0.24533110123490912,
          -0.23241344973597006,
          0.3541876368788062,
          -0.07868967365053452,
          -0.30483913759452047,
          -0.2855873403132907,
          -0.2236709004800305,
          -0.24054332849448884,
          -0.27029643106251194,
          -1.1858527167571904,
          -0.26590803069770313,
          -0.15331832036331142,
          -0.30299524466728944,
          -0.29029834929926085,
          0.13911800461732526,
          0.0032748796262119543,
          -0.30856595834186307,
          -0.1713443601482961,
          -0.30664096144313796,
          -0.2451436686557028,
          -0.2887059173125014,
          -0.2674810616790461,
          -0.3274818053462479,
          0.4215412204825689,
          -0.2644815691075294,
          0.01669039813553823,
          -0.09785140536769123,
          -0.26419630156451795,
          -0.2595496840418374,
          -0.3229015450510532,
          -0.2527371428156342,
          -0.2519820240449235,
          -0.2563932615080647,
          -0.3254718204965613,
          -0.2893454361794177,
          0.012962403439275787,
          -0.019745699497959925,
          -0.327948536285958,
          -0.24086290317589698,
          -0.1317746585196933,
          -0.2596850526326691,
          -0.1636615874304317,
          -0.152789994691713,
          -0.2959759526614948,
          -0.3016389883135677,
          -0.10712755904924018,
          -0.24906231880741264,
          -0.2135317152414087,
          -0.33071631128822465,
          -0.29818079775609374,
          -0.14281795197853414,
          -0.15254048844426119,
          -0.2641272330499973,
          -0.05204636168892887,
          -0.21154187317735998,
          -0.2947383682672164,
          -0.2771776086198695,
          0.11793756688475915,
          -0.014724561322021074,
          -0.1521922237186253,
          -0.3248440290279112,
          -0.39776714490721016,
          -0.022643522886317463,
          -0.09428865411204504,
          -0.229750592015132,
          -0.0217389637018395,
          -0.18354803690835259,
          -0.24766320965634692,
          -0.22547814459333318,
          5.513895089576867,
          -0.30563746735474906,
          -0.24473388921435038,
          -0.09228295380444428,
          1.2375126977951414,
          -0.3269133783885719,
          -0.10085990105860225,
          -0.3301279592761468,
          -0.3086381756273872,
          -0.2841045317577489,
          -0.09785140536769123,
          -0.3207790711338644,
          -0.24015790250691463,
          -0.3213551607166268,
          -0.35112916918912856,
          -0.32554672675354573,
          -0.33066610300948923,
          -0.3259238477972274,
          -0.10860635874841765,
          -0.32612494140789944,
          0.372392011402551,
          -0.32951984750642904,
          -0.32772739233633447,
          -0.19713412435556282,
          -0.28797026704727907,
          -0.28867400932066223,
          -0.09179832152372279,
          -0.2577036100670007,
          -0.12289826999291839,
          -0.24904102964355446,
          -0.3277765959402095,
          -0.2893048460452306,
          -0.2779650131771269,
          -0.33252097004151465,
          -0.3559781100371907,
          -0.1740562787134888,
          -0.23279437564473243,
          -0.28567752542523756,
          -0.09680620546634487,
          -0.10617643731513039,
          -0.18794865057754467,
          -0.11727793191717363,
          -0.2860235594220361,
          -0.26136455761372435,
          -0.17236850332290385,
          0.038559530629132775,
          -0.2451935197141698,
          -0.6488916540031617,
          -0.29279967599423795,
          -0.2577988472886154,
          -0.016316757588762113,
          -0.2451013501977022,
          -0.23151951647921154,
          -0.08077948272511949,
          -0.1251940037010501,
          -0.3289273194096805,
          -0.32359976608090985,
          -0.1282993625544086,
          -0.09510989848281073,
          -0.31685393852330274,
          -0.28497696559701713,
          0.07318818236438455,
          -0.19091078664972114,
          -0.11097780678817377,
          -0.30141656195407085,
          0.3477138084460666,
          -0.09744883946398451,
          -0.2882448875436828,
          -0.04405410672581294,
          -0.30088665337538206,
          0.14575134672681503,
          -0.06666867824532029,
          -0.12834124538883593,
          -0.27083909206972717,
          0.1808333940786437,
          -0.2519584358461563,
          -0.21978474301342102,
          -0.2575359655782,
          -0.2275562266748417,
          -0.2884712954307814,
          -0.24212517508993245,
          -0.28953721595481763,
          -0.2953923851912211,
          -0.2862250116249376,
          -0.13074874727003294,
          -0.0966667973604846,
          -0.2473035791256721,
          -0.26687783951577104,
          2.343713458014129,
          -0.0021024888927995908,
          -0.20922562211450987,
          -0.312340324135416,
          -0.22710933285380464,
          -0.22370400212260697,
          -0.32887854040112335,
          -0.17397358681874034,
          12.395160382970005,
          -0.2930451351396614,
          -0.015450080038057382,
          1.4495311210912432,
          -0.26416175156453386,
          -0.30357286191962196,
          -0.2164391578221833,
          -0.2164273612532048,
          -0.3013836360125579,
          -0.32847388858185506,
          -0.042320436585536324,
          0.08934115977600922,
          0.3981134760664643,
          -0.3069538789514957,
          -0.07787179015766338,
          -0.24679494663062074,
          -0.24596523335233597,
          -0.33002263051186176,
          -0.25068820670173714,
          -0.2403464772004784,
          -0.22535035542116158,
          0.4526696194373774,
          -0.1918101741347519,
          -0.21611464291543683,
          -0.27312959812661974,
          -0.21250477985455696,
          -0.2981855645055471,
          -0.28088938495166743,
          -0.21569656734301,
          -0.15365832412867914,
          -0.32628332926673564,
          0.04360206605134286,
          -0.30085052773082205,
          -0.2264246212067039,
          -0.2436483237422026,
          -0.23179724493286102,
          -0.3291691770007722,
          3.8570381379558607,
          0.21197309473356807,
          -0.23564774762576712,
          -0.13576871822792969,
          -0.2965547984852902,
          0.26629761494291654,
          -0.050616334234309314,
          -0.21774002234735887,
          -0.0882858056417253,
          -0.18124878453240229,
          -0.28323613614647214,
          -0.349833922277823,
          -0.17632785629000672,
          -0.21729029183138723,
          -0.2246489592593322,
          -0.2956494410850415,
          0.22463596213710613,
          -0.2878498251952151,
          -0.24519598652890287,
          -0.19473105093260598,
          -0.06692993010497687,
          -0.2782984103875196,
          -0.32435501850267157,
          -0.32928489230549696,
          -0.20288837415606492,
          -0.2868355623341304,
          -0.21077451473122316,
          -0.28939563265745055,
          -0.08445937408394748,
          -0.13582664774778672,
          -0.2800542477483328,
          0.8110931571761258,
          -0.5618276721757007,
          -0.32804345012999897,
          -0.06315736227720474,
          -0.13662901487643755,
          -0.18352200719446066,
          -0.339536783759028,
          -0.09376541230041646,
          -0.28836653083208946,
          -0.051109084189198975,
          -0.09903918850032929,
          -0.32945265022487336,
          -0.21631776375539316,
          -0.2848427884240048,
          -0.31509038249705673,
          -0.17410435172137723,
          0.13018699923016197,
          -0.2416697721540659,
          0.062169945033050074,
          -0.27299794090723284,
          -0.23328924329492892,
          -0.24782096225931038,
          -0.3273411711807073,
          -0.322546728562401,
          -0.21261281294015838,
          -0.021569694930011426,
          -0.37396333746696053,
          -0.15242429693173487,
          -0.015995520769747553,
          -0.30235771375524384,
          3.5614109109168792,
          -0.21982154559170336,
          -0.2796871387823307,
          -0.05790783834018988,
          -0.04329783937342879,
          -0.1681868586671876,
          -0.3067954234680473,
          -0.22800898497389924,
          -0.2618767612875492,
          -0.24452892819372724,
          -0.23190751201608437,
          -0.17327623464847755,
          -0.3637360676157377,
          -0.04338043593861457,
          0.2475677982667116,
          0.6219577754142851,
          -0.16258771716400192,
          -0.17502686158794345,
          -0.09998894781233307,
          -0.16697789832917606,
          0.067463284763413,
          -0.3286935948132906,
          -0.16631306156730083,
          1.4072003498377923,
          -0.1716996160111283,
          -0.09582683464143477,
          1.8802823378869313,
          -0.270430877349498,
          -0.2709498191772023,
          -0.27636083206451795,
          -0.3099670909999866,
          -0.1901317230766488,
          -0.3270251505300093,
          -0.1678711726513758,
          -0.4253198490254052,
          -0.13323777639519227,
          -0.28477724847673175,
          -0.1282452885983632,
          -0.3544536925478667,
          -0.014634301495854212,
          -0.2700715581950167,
          1.9627418102850702,
          -0.17724908943104095,
          -0.2958082631328719,
          -0.1732790981267489,
          -0.10631242632321566,
          -0.20097429228024138,
          -0.015593619049215718,
          -0.14664362886690918,
          -0.2596449370028548,
          -0.31311075606387084,
          0.2786681710949525,
          -0.20415070960636697,
          0.6128325174809254,
          -0.11525083632273725,
          -0.1916763737880896,
          -0.35309923397533904,
          -0.22370403603046002,
          -0.3966638220822099,
          0.13248328390298417,
          -0.014130641598126008,
          -0.27667161213680586,
          0.04095931005293999,
          0.036983533041810686,
          -0.15535534427733438,
          -0.2678523121404153,
          -0.2774760030629726,
          -0.2980463177837348,
          -0.18256493867912138,
          -0.3268813758221523,
          -0.18281426471945617,
          -0.17272880031607216,
          0.16726380671362512,
          -0.19069884467916556,
          -0.17361298649006604,
          -0.3287052041064926,
          -0.11859092888699449,
          -0.11339249628949616,
          -0.33112526012610194,
          -0.2290829237914962,
          -0.21294996018588558,
          -0.15360345711308976,
          -0.3055775563429059,
          3.859745982263038,
          -0.0823952566867862,
          -0.28826485355614023,
          -0.1532600954170155,
          -0.18857073966081003,
          -0.290543120979094,
          0.03844141835283707,
          -0.32572200327486395,
          -0.15037508804025118,
          -0.15245567678781324,
          -0.121723954807218,
          -0.09453509015823387,
          -0.30740244886995854,
          0.03778362145210677,
          -0.12622797885146603,
          -0.2341048808872501,
          -0.3045879353760087,
          0.12090074762598296,
          -0.2721108182291998,
          -0.26618097289388826,
          -0.32392817920563055,
          -0.3176491146679408,
          -0.02156603104697964,
          -0.29733760376537754,
          -0.28755816723006805,
          -0.6599056433485574,
          -0.2516882506311904,
          5.514528587760952,
          -0.012530742182949138,
          -0.3471681531994419,
          -0.2677653832559186,
          -0.14644055637661516,
          -0.2512197703477244,
          -0.2736916703815028,
          3.835715522105329,
          -0.24695754729327604,
          3.836838481396348,
          0.030507815851353783,
          -0.48969030225262744,
          -0.017699008930680986,
          0.16871519815960487,
          2.625942347306102,
          -0.31610411223602,
          -0.03027615918375421,
          -0.22545958638423377,
          -0.20326790805837208
         ],
         "y": [
          -0.0795346902806668,
          -0.07991405557465497,
          -0.10870738972950576,
          -0.23079585826492208,
          -0.17119933335852924,
          -0.2149615278750551,
          -0.07943339437094243,
          -0.23363804235836616,
          -0.17428948757634571,
          -0.2348143721861873,
          0.09182446667776287,
          -0.2511423517516403,
          -0.08764506916830926,
          -0.06429692796163129,
          -0.23451154978621497,
          -0.1597812370181031,
          -0.1809661786567609,
          -0.24391058560289458,
          -0.07894834648859941,
          -0.09705623787151428,
          -0.20611827801800747,
          -0.23815622008640408,
          -0.24825393449930805,
          -0.22401049209794177,
          -0.19041401551813042,
          -0.0967511529655366,
          -0.0746888566495501,
          -0.19241021068933328,
          -0.23300296317042538,
          -0.07870720822294311,
          -0.24031723607629749,
          -0.07116246278602029,
          -0.2365597114871876,
          -0.24337844954833107,
          -0.20235203285550646,
          -0.0655381136690162,
          -0.25169162823752517,
          -0.25606475017033603,
          -0.2553097818209945,
          -0.24032538808408113,
          -0.2396382315382379,
          -0.23744522634026077,
          0.016695762033915977,
          -0.06553786031713914,
          -0.23523395523722795,
          -0.35497941056605054,
          -0.24174279739436116,
          -0.23584828398305296,
          -0.24486666042347002,
          -0.09029343493251876,
          -0.03805401018326931,
          -0.32100428151191174,
          -0.07943852691484776,
          -0.23079774117828056,
          -0.23917825439339285,
          -0.19291026392259963,
          -0.23985099388424966,
          0.029722737644015472,
          -0.22315286626546862,
          -0.1427144391836344,
          -0.06167320028987119,
          -0.23343767866277765,
          -0.09101243775073942,
          -0.015129832879744487,
          -0.07119172708753552,
          -0.24655338212256267,
          -0.23079395832112715,
          -0.23656996369850225,
          -0.07116140043396925,
          -0.22972038248775006,
          -0.08910236739183815,
          -0.08129549997670654,
          -0.11413380061379448,
          -0.23450877252120808,
          -0.22394813324283194,
          -0.23695674006996872,
          -0.037084730893815976,
          -0.0813863069284714,
          -0.247719214169598,
          -0.03717507935429665,
          -0.24764136955765265,
          0.48161177971800634,
          -0.12015591138872815,
          -0.21942087404843272,
          -0.20241103553298367,
          -0.24924905553831955,
          -0.18607932494228674,
          -0.07501532805958912,
          -0.0890995995990625,
          -0.24868004117813977,
          -0.062093736102539904,
          -0.08616128695179004,
          -0.2391592948750535,
          -0.08446111963144706,
          -0.044795021492062596,
          -0.23544095340076862,
          -0.07117208121775863,
          -0.038320827613115754,
          -0.4496061844060905,
          -0.2698007217132009,
          -0.2848268663679039,
          0.0242411689124759,
          -0.2448544741671174,
          -0.08574145130053093,
          -0.07416626537010908,
          -0.23480165214480356,
          -0.04900994057121925,
          -0.24028913677193464,
          -0.08326876946334937,
          -0.23778580990027084,
          -0.047365488067598015,
          -0.20859098600357928,
          -0.09667874936764449,
          -0.10657300137231268,
          -0.14004456972333784,
          -0.0991192804166414,
          -0.03193707222101999,
          -0.19379831722610252,
          -0.19906851755856383,
          -0.23862065874299374,
          -0.09156571887134721,
          -0.24011775954411937,
          -0.5452144199251351,
          -0.24163259720041713,
          -0.230792604401091,
          -0.3076312624793004,
          -0.0847395601503648,
          0.2823986452105784,
          -0.2034949015477261,
          -0.6861789087612229,
          -0.24379816598974283,
          -0.6654302755309046,
          -0.22257834463165124,
          -0.045721063064469485,
          -0.24286705262216074,
          -0.22397873891570144,
          -0.04144511024332905,
          -0.17877030640390523,
          -0.06378493496234378,
          -0.24792341867118767,
          -0.03453541537989967,
          -0.15444168959606364,
          -0.23761543393840232,
          -0.23079768647310978,
          -0.04262862616492258,
          -0.20122964162665105,
          0.07486929405773006,
          -0.08764648683106907,
          -0.09774361466036353,
          -0.21496557505660674,
          -0.11958241286801669,
          -0.2667358092668015,
          -0.10944369370640838,
          -0.12179555975385004,
          -0.01684288429149546,
          -0.20301163559155838,
          -0.1771352241043702,
          -0.23448896866829544,
          -0.0019469278404567688,
          -0.08637727269600651,
          -0.04771793643698429,
          -0.10660507417548973,
          -0.16929636702550982,
          0.021806301520514767,
          -0.19290266866598998,
          -0.21757082278459614,
          -0.0806769487492612,
          -0.0871823973437506,
          -0.09786790165287472,
          -0.1253756617716524,
          -0.08424917038395162,
          -0.23774698529481741,
          0.13715305416643744,
          -0.10851549349746753,
          -0.08886898907877079,
          -0.08912923199301902,
          0.003533120114846032,
          -0.2175635129540777,
          -0.010174242666418781,
          -0.01915615264610284,
          -0.07736676498431928,
          -0.11858169919929214,
          -0.26175454461284214,
          -0.12944559086010549,
          -0.24654965337490783,
          -0.07408763441767759,
          -0.1331697052493109,
          -0.2422264986945381,
          -0.09667903044815583,
          -0.1710830467496338,
          -0.04909474092045894,
          -0.2449826179426921,
          -0.1266003050042732,
          -0.19476695123315735,
          -0.058827766444492245,
          0.04888826922262432,
          -0.09669783655453765,
          -0.08430425665609491,
          -0.2635982569610048,
          0.05247650346691142,
          -0.013633052042435466,
          -0.030993334687488664,
          0.04811532412632177,
          -0.039088220501907515,
          -0.18550403323924336,
          -0.23481331853545226,
          0.00840048478294324,
          -0.08149208876604058,
          -0.23748942223300845,
          -0.18483699764951314,
          -0.16029967938012182,
          -0.08091849534580986,
          0.024050532883584483,
          -0.07859523487862122,
          -0.12179166005958235,
          -0.2400196654901095,
          0.021806301520514767,
          -0.01610177273808123,
          -0.08784327077055737,
          -0.11408703881923947,
          -0.4933649774986016,
          -0.08202360676888658,
          -0.07867592404773002,
          -0.09243048695246561,
          -0.26282436168554546,
          -0.08860730724005456,
          -0.03911381567085205,
          -0.0818427761694238,
          -0.0738899756796137,
          0.11260555148667724,
          -0.12399925438647381,
          -0.2360288383315567,
          -0.25782314486816915,
          -0.6848806089996781,
          -0.09495988711959057,
          -0.12944674046341242,
          -0.07976571211148593,
          -0.0915658480873538,
          -0.23852501822158065,
          -0.08111730957306346,
          -0.31459768391812953,
          -0.014575575045849064,
          -0.2004109721744879,
          -0.24290309815592057,
          -0.021963170966609453,
          -0.12765153072041363,
          -0.2423232710184273,
          -0.03882815597725408,
          -0.2338977957834552,
          -0.44705350469018446,
          -0.014172428416510166,
          -0.9313801635990585,
          -0.07713830831210008,
          0.4309510104278984,
          -0.1309193189748802,
          -0.2861653978682465,
          0.05037493587111646,
          -0.07714328541602199,
          -0.25616880755368404,
          0.007500336319273119,
          -0.08307884600834088,
          -0.07701663863242444,
          -0.07928958916344658,
          -0.03823300469782152,
          -0.01749994583123061,
          -0.0983964075079014,
          -0.24042635864374212,
          -0.060522954844136466,
          -0.25227874276106355,
          0.019949853970405117,
          -0.11351957096051223,
          -0.19260899028178244,
          -0.01870391586443407,
          -0.24242124940901064,
          0.0541479290789306,
          -0.25049788494485165,
          0.01123695752117507,
          -0.19198735603809086,
          -0.30391871505254214,
          -0.1802769906120447,
          -0.23876439531454136,
          -0.1388667341330866,
          -0.17849134126785546,
          -0.09704773478863132,
          -0.033872745831793505,
          -0.2441570467693181,
          -0.06790754739560725,
          -0.2354897103049753,
          -0.11745361280487533,
          -0.23721087505939908,
          -0.07894768968246128,
          -0.21858303729132422,
          -0.08551040356570468,
          -0.2618620168848652,
          -0.38444464007781126,
          -0.27493114204365854,
          0.5142303215109372,
          -0.1652340206296196,
          -0.03389687785585781,
          -0.230795899002356,
          -0.08193286350903317,
          -0.009925653031260993,
          6.187654879455082,
          -0.20901452878203416,
          0.048078023575196055,
          -0.2831710016307953,
          -0.19290453434725868,
          -0.21493438403812068,
          -0.19042907379004323,
          -0.190429710798373,
          -0.14806449233161986,
          -0.08030711561997084,
          -0.2894163790783356,
          0.09583298177396372,
          -0.06511397842150503,
          -0.15245205323762254,
          -0.25201388202465874,
          -0.16277230021758848,
          -0.24419956060629205,
          -0.0814932580415363,
          -0.3227552645341862,
          0.17929652658332385,
          -0.2348202190814721,
          -0.12556148314453747,
          -0.0854015671444508,
          -0.1516531412364892,
          0.22412444539905765,
          -0.19350754151594377,
          -0.13316944784742474,
          0.03085385324271579,
          -0.1904691732733428,
          -0.031061728351127096,
          -0.08527284316413951,
          -0.028271738266567738,
          -0.23882430432706792,
          -0.29617023328889913,
          -0.18516825021262412,
          -0.3878778051471337,
          -0.0766858474328098,
          -0.04545664402338634,
          -0.18014135550173194,
          -0.0743484355029516,
          -0.23373275369616944,
          -0.09983073123248935,
          -0.3090102692929449,
          -0.24535512955920927,
          -0.21080009161154303,
          -0.0879621619913681,
          0.05666088115114683,
          -0.24430898629201125,
          -0.3128062254278233,
          -0.0764864425048951,
          -0.08104838993451192,
          -0.2398886663986903,
          -0.07738439643243841,
          -0.052777780695900764,
          -0.23633413170906944,
          -0.2915386790937068,
          0.05797324970262465,
          -0.25348996989422606,
          -0.24393040051057993,
          -0.07973928038545514,
          -0.08104242781287627,
          -0.07354745383561247,
          -0.23673208775488425,
          -0.24875779946356122,
          -0.23790209820698588,
          0.01510302483685819,
          0.04311735284258285,
          -0.056971745117919935,
          -0.3344829938461205,
          -0.5127118241005441,
          -0.08259032914815835,
          -0.32622468161020624,
          -0.24332702684104818,
          -0.1728450395582788,
          -0.048690481181847975,
          -0.013497564221242772,
          -0.211672757603725,
          -0.2559289290398109,
          -0.18447216463864988,
          -0.07979726805078051,
          14.591547577189923,
          -0.11622403607133544,
          0.0775212223092224,
          -0.014656352409209648,
          0.13776444766478527,
          -0.18220183843196044,
          -0.16793598355223585,
          -0.23451053865554106,
          -0.25469845023779364,
          -0.09607489894930166,
          -0.08602696288932216,
          -0.10436992229591209,
          -0.23615352867569323,
          -0.04742065734812906,
          -0.23161890623306242,
          -0.03216861601542747,
          0.04354003922904459,
          -0.09342626641796382,
          -0.08020974068911425,
          -0.1784893539485797,
          0.030788932601337686,
          0.008577761320509419,
          -0.28347836936024223,
          -0.05252811371152146,
          -0.08534410637166656,
          -0.24129063574000562,
          -0.6828791850888447,
          0.011401977770631658,
          -0.2848324427183827,
          -0.013318576774679543,
          -0.23658808135409065,
          -0.2902325243033878,
          -0.15178330929032643,
          -0.32427439436001093,
          -0.09159529550992242,
          -0.01058774084004759,
          -0.22536497757061563,
          -0.048642766109515206,
          -0.16822182102803085,
          -0.11359690529179232,
          -0.08133669352012994,
          -0.3802453963480352,
          0.1514261199981263,
          -0.027484433710117953,
          0.13284823003089558,
          -0.1827506899899301,
          -0.25570777223591346,
          -0.22257187162056855,
          -0.01926048120762278,
          0.015057401274403859,
          0.07994595134129474,
          -0.014742229631916138,
          0.19086307150395812,
          0.05912076748739594,
          -0.24368924836522307,
          -0.03823592466213326,
          -0.31193529264681197,
          0.12974812131452654,
          -0.09555453075428584,
          -0.24115293942368002,
          -0.0026460922624175318,
          -0.07737582012795657,
          -0.013465058513183074,
          0.013606815418665933,
          -0.3702016730873474,
          -0.17032335499474788,
          -0.02944903109938366,
          -0.21756567917634004,
          -0.08557394639874882,
          0.1342922743029546,
          -0.15282445680408488,
          1.1011105703205508,
          -0.24542700885687893,
          0.06394221334174555,
          -0.22687379384661033,
          -0.23079589717135027,
          0.44890521298826785,
          -0.04730216900895757,
          -0.28790437043811684,
          0.01160564471254196,
          0.08850378538470632,
          0.08815588495777553,
          -0.06613261628013929,
          -0.2586706155163033,
          -0.19160123850939179,
          -0.1331769670949136,
          -0.243779889832997,
          0.08450941401838626,
          -0.24005425449924253,
          0.1589798781041806,
          -0.10898166582853935,
          -0.19146423575442553,
          -0.008029646838515161,
          -0.11359627839625318,
          0.010494772681102044,
          -0.10323390328642192,
          -0.07703973989634813,
          -0.24021152448174152,
          -0.2416792078215572,
          -0.22738541294859282,
          -0.08149532392820076,
          0.010832360203522592,
          -0.09845895998466453,
          -0.24016569205782404,
          -0.08488309932616145,
          -0.3454305281237874,
          -0.06967563033352633,
          0.08842922728234544,
          -0.07740853255250264,
          -0.08176372992860845,
          -0.0966836102316254,
          -0.08326622676741244,
          -0.14003722989141837,
          -0.1082582688354236,
          -0.10895548736936875,
          -0.02658778555925241,
          -0.21942090473375694,
          -0.035653698951917646,
          -0.19251759877032035,
          -0.10587840690176484,
          -0.19234716129542442,
          -0.08206458058830297,
          -0.10722207089688437,
          0.05423445732674822,
          -0.20571217415710202,
          -0.2374842784951717,
          -0.19684314334293185,
          -0.10982838718890914,
          0.008439466777833722,
          -0.014638909792546367,
          -0.11847105181851073,
          -0.22735947347011917,
          -0.2378233778460588,
          -0.08048430796688603,
          -0.5664572786538441,
          -0.047625041382140985,
          -0.18159775524204688,
          -0.047685680575073525,
          0.012578897277781356,
          0.1464119563368173,
          0.039263810205413786,
          0.09776404826736487,
          -0.13995058365461463,
          -0.12260265777962921,
          -0.2894723737547902,
          -0.23481432066868307,
          -0.02347779870753747
         ],
         "z": [
          0.06257420237167402,
          0.05988595591769804,
          -0.03207986037492307,
          -0.0010610905143598533,
          -0.11630922331191958,
          -0.0028436598453410625,
          0.05178966981518442,
          -0.04361403541321181,
          -0.13278297718662985,
          -0.044801866739121746,
          0.39291998890473545,
          -0.15721100234023624,
          0.0729074842853162,
          -0.04137991370360864,
          -0.009017030396269774,
          -0.3074287361488608,
          -0.027132149881036724,
          -0.0010572722091187685,
          0.06519090502432662,
          0.03341818128273578,
          -0.1416948486355355,
          -0.004769213934210986,
          0.019084171933163547,
          0.0022953131135160405,
          -0.014489655755140449,
          0.03388914706260374,
          -0.07730227325001902,
          -0.041353917914739635,
          -0.004629825774315877,
          0.06671613612679923,
          -0.0026713503431110464,
          0.03887852088034399,
          -0.005174701553685409,
          0.07725418814737517,
          0.0426198467091677,
          -0.05517667383723582,
          -0.2215591456030544,
          -0.06745478169639388,
          -0.022687509457409598,
          -0.0026839347634741097,
          -0.008476441307884221,
          -0.00627547104559476,
          -0.05571706713601885,
          0.05120314480895942,
          -0.003723038167103093,
          -0.1668651444647483,
          -0.00026782422356082524,
          -0.022224860706469833,
          -0.006070758734757512,
          0.024187941581882685,
          -0.01389262439130283,
          -0.1288723111206292,
          0.05178174660266457,
          -0.0010639972060287255,
          -0.006383692399441009,
          -0.013996084671919254,
          -0.004109249829464688,
          0.24467128371580135,
          0.012590492904906922,
          -0.04903282834635556,
          -0.018779656191018294,
          -0.021312402040965045,
          0.0815984929376406,
          -0.007954028437965254,
          0.009825956160438295,
          -0.006574269715827808,
          -0.0010581575324351664,
          -0.0051880813114188636,
          0.009872772032898184,
          -0.09231862149633938,
          0.05338936487549054,
          0.05986668065335978,
          0.007055200035329341,
          -0.009012743075742607,
          0.0023915777475677813,
          -0.007705039080050867,
          -0.01239632822088438,
          0.03921824829438177,
          0.01936068673313372,
          -0.09640285640931749,
          0.013173225258771449,
          0.12981454883714452,
          0.005471738433461785,
          0.020571596502677,
          -0.02096036992163993,
          0.015836680113851385,
          -0.019066126287536827,
          0.056475671902559574,
          0.025394633592974017,
          -0.026647745562962413,
          0.054677929196613254,
          0.07590593022071923,
          -0.006354424205028037,
          0.03880383970888831,
          -0.08785954404243165,
          -0.05288282845397024,
          0.009856283889537102,
          0.038547085573999045,
          -0.47256423189350877,
          -0.15855160446534025,
          0.15671994324655844,
          -0.03666373055204923,
          -0.004293480174175768,
          0.07853522386600026,
          -0.004569287681953025,
          -0.005780385874732101,
          0.0007688756183440607,
          -0.0017668901656529765,
          0.002700571996090057,
          0.000655438499498034,
          -0.005382382955639596,
          0.010286741853720013,
          0.03400091797056519,
          -0.005505451030419663,
          -0.001969088947914429,
          -0.017319330405278617,
          -0.020409074339597436,
          -0.0945427750782335,
          0.0296495412892223,
          -0.007384329098306385,
          0.025934715630877878,
          -0.05336544909287496,
          0.04368159619562034,
          0.0023267821774702545,
          -0.001056067458513812,
          0.020695451754230987,
          0.020857294631620664,
          0.9732189783618852,
          -0.00634714547080119,
          0.13011251101400093,
          0.016290365107732907,
          -0.6430201293680511,
          -0.022169891454645135,
          0.051332821915765166,
          -0.002231927066672682,
          0.002344331147329043,
          -0.007859513971338786,
          -0.23325574991831877,
          0.012175091626892441,
          0.1496030908587778,
          0.04661065473819591,
          -0.4227622532505528,
          -0.020380038334796003,
          -0.0010639127565435168,
          -0.03699854737450065,
          -0.022583005690804635,
          -0.17396635260311516,
          0.07290529581045534,
          0.021714807857220523,
          -0.002849907561888042,
          0.03710319002566252,
          -0.0153437189689932,
          -0.0036869910038278227,
          0.052540993333851774,
          -0.010324950687789672,
          -0.01597076064308657,
          -0.11366394752326182,
          -0.0011921633692873268,
          0.33816692846858154,
          0.04638871562877187,
          -0.06042030427157716,
          0.06208887955926813,
          0.09242306987171899,
          -0.06378711489808886,
          -0.013984359719677146,
          -0.04774521981593526,
          0.0462015261359371,
          0.08132917752570312,
          0.08300848912309479,
          -0.07891933562651596,
          0.044065952231578144,
          -0.009009291757845312,
          -0.20986277856135951,
          -0.01240520418880522,
          0.05882645233700964,
          0.025348889463206528,
          -0.03590834842822671,
          -0.04773393548176027,
          -0.023198504168385495,
          -0.04201617051072173,
          0.023153948300177505,
          -0.05044895275416897,
          -0.12438968687097555,
          0.03887854350213225,
          0.013124222292278434,
          0.04483556772039449,
          0.030909601067551806,
          -0.15048381655774615,
          0.0340004840608581,
          -0.018610893086020715,
          0.0006379675929712632,
          0.014062703107958202,
          -0.5462115149955578,
          -0.019986450889399425,
          0.006387283290382882,
          -0.11781111908859626,
          0.03397145269160675,
          0.03307732261642556,
          -0.10915622124637675,
          -0.11676171767494684,
          -0.06652697518774695,
          0.02355712829998693,
          -0.11458756445448136,
          0.032265997118991134,
          -0.22989848702482155,
          -0.04480024019703469,
          -0.18622413205079855,
          0.006787030494007,
          -0.0493080312815429,
          -0.02583815373543409,
          -0.12313809262030188,
          0.04345139499043225,
          -0.05344823797156561,
          0.06065447946095949,
          0.05254701337127729,
          -0.01861503497946237,
          -0.06378711489808886,
          0.06785689308152158,
          0.03390108578210983,
          0.04673114811503286,
          -1.0270973831075525,
          0.05508045192501715,
          0.061876542895732085,
          0.03782991165535121,
          -0.11208805690563797,
          0.05849174441844656,
          -0.06489988766978928,
          0.06341417894462346,
          0.06435671927075873,
          -0.04482281464302495,
          0.15856008106410022,
          -0.008841675743951229,
          -0.13767311846959016,
          0.11821667453244407,
          0.027964527233794414,
          0.038876768836105254,
          0.03619433684771645,
          0.025934516157498325,
          -0.029279448362411257,
          0.06047857222617638,
          -0.07451106430544062,
          -0.008335981452785688,
          0.14663610441151192,
          -0.007049404101093372,
          -0.0624935204549799,
          -0.01441209513389428,
          -0.07013571924348248,
          0.037763912450767496,
          -0.006192234965251799,
          0.044991097316262274,
          -0.0013657890938809031,
          -0.09324827519665742,
          0.01228512966892274,
          -0.1421562498322488,
          0.07223731226051533,
          -0.049431340425696725,
          -0.12201717555758466,
          0.012277446412281231,
          -0.0378099137774599,
          -0.08998942858145365,
          0.014731139479869645,
          0.0611538958007354,
          0.06239747472426933,
          0.03868265959611985,
          0.013678087037214924,
          0.0409664213779528,
          -0.003779075831987042,
          -0.04513749817086128,
          0.01341902840125847,
          -0.06977711099248392,
          0.01805419219902051,
          -0.47376033639986037,
          0.01254158434223302,
          -0.008136075927402552,
          -0.09677149082995011,
          -0.0595901242798234,
          -0.018650052499865767,
          -0.015085578509328375,
          0.4624121438734972,
          -0.05595571699822611,
          -0.15632021085324624,
          -0.009820551298194626,
          -0.027658773584840018,
          -0.004221213147992344,
          0.02497213405305952,
          -0.010316229866948988,
          -0.004187640615469342,
          -0.004259341032141244,
          0.02791483131473133,
          -0.028121804862451198,
          0.020530830989295857,
          -0.16933790320506403,
          0.0031460277713513097,
          -0.01794893079103585,
          -0.23761244656125743,
          -0.2670714719339039,
          0.08093385495273459,
          0.01943962501508108,
          0.02493488095626341,
          -0.0010611534015537286,
          0.038839148565701295,
          -0.01274757056615719,
          10.455328539729608,
          0.011362387588626907,
          -0.11328645260203929,
          -0.137374131278213,
          -0.01398723980983086,
          -0.0028017573517064224,
          -0.014512901516027977,
          -0.014513884878754097,
          0.030538485891370867,
          0.06462868569164341,
          -0.2130539988457345,
          0.3939514801097436,
          -0.4635336758337232,
          -0.013964621751596408,
          -0.0987386885587575,
          -0.06910147439774576,
          -0.030042245139410065,
          0.06580197054537855,
          -0.1097691630254506,
          0.23964364626201948,
          -0.0448108927103973,
          -0.009983964425635981,
          0.033323312814179815,
          -0.050028046310047716,
          0.14393040239453783,
          -0.23369149341513823,
          0.03090999842408366,
          -0.014345840290037973,
          -0.014574803904689222,
          -0.025563489849635645,
          0.05896532368805979,
          0.005399862826212715,
          -0.14290444850088588,
          -0.1298470421997334,
          -0.22749687017466244,
          -0.15837214745542655,
          0.045320751828318476,
          -0.17044581380630267,
          -0.04400893867849877,
          -0.0067505387839248586,
          -0.208950835660229,
          0.01743171949853644,
          -0.2400431587916278,
          -0.15913086911929403,
          -0.15989520401039922,
          -0.06864152063532473,
          -0.04301643093865015,
          -0.024862560048365526,
          -0.07624995443486246,
          0.024330308360077796,
          0.04118322635684561,
          -0.01191728583385926,
          0.023126730274799494,
          -0.19871436254298055,
          -0.023248759878325358,
          -0.07804620768584968,
          -0.044701325555109354,
          -0.08123998865485708,
          -0.00108786088547811,
          0.061343050095795985,
          0.05291623899571149,
          -0.01544406135989126,
          -0.039777839418734105,
          0.012676711973956426,
          -0.07396794530822215,
          -0.11680455941826154,
          -0.24000353022752488,
          0.022405256842829527,
          -0.2888186432813572,
          -0.5170664444967669,
          0.057436475194995236,
          -0.20084460955572958,
          -0.058319660349108876,
          -0.10826402264589265,
          0.11084268828359088,
          -0.05785561938709094,
          0.014190643511829474,
          -0.026393023135105876,
          -0.02527495358978249,
          -0.05450385536998345,
          1.3632962037517313,
          -0.00781095901386335,
          0.1251947213582899,
          -0.012058381111707695,
          -0.02223111282438494,
          -0.23622933245908295,
          -0.10438959467769458,
          -0.00901546949326508,
          -0.06113253554164398,
          0.007865809291977329,
          0.057978976089541855,
          0.0509731550443226,
          -0.058013436391824096,
          -0.0054675488970570415,
          -0.06500232449879705,
          -0.02841542735537201,
          -0.11883368212373858,
          0.019938390288411083,
          -0.20522763490959794,
          -0.027655705719619037,
          -0.0144460596057007,
          -0.07872598364595763,
          -0.21622235505819465,
          -0.12605774188265642,
          0.05189901235719725,
          -0.03746444792969342,
          0.11199533791302495,
          0.10556544238349203,
          0.2211725215569563,
          -0.005771389786486522,
          -0.054913198775098246,
          -0.2144059214926677,
          -0.047141543790185786,
          -0.25896493593051273,
          0.03896923318728927,
          -0.005700713182769058,
          0.3851971116993803,
          0.011438219379984738,
          -0.10483084780777582,
          0.03711813455233291,
          -0.30137466772440297,
          0.014753280228172093,
          -0.08643253702019428,
          0.006587207676925055,
          -0.021613148906464184,
          -0.16259029373531048,
          -0.02514329138530673,
          -0.02215989893566793,
          -0.09266645470467606,
          -0.03804076360572888,
          -0.010668399324876069,
          -0.011593481722198888,
          0.22534556741996717,
          -0.04356613488679238,
          -0.005150036782116042,
          0.03867815198777138,
          -0.08310819688738776,
          -0.10586119539319934,
          0.02178552635025647,
          -0.21845573355964215,
          -0.02149458881125344,
          0.023139969690612265,
          -0.0067070259898534745,
          -0.07218895681006675,
          0.14041898903666863,
          -0.3055304960996971,
          -0.020915315172400504,
          -0.04773727952316391,
          0.05595435052210271,
          0.45110382153701983,
          -0.08644693528216993,
          -0.10330059491742825,
          -0.08360483196725915,
          0.04728624682272475,
          -0.04692210952161286,
          -0.001061150574992844,
          0.35651003130643244,
          -0.028169195432147274,
          -0.21432832282653055,
          -0.0620960369799013,
          -0.3299738837298946,
          -0.33405251629115473,
          -0.05093031732932272,
          -0.02578814035365197,
          -0.015686140158980785,
          0.03089839080866813,
          -0.07530732864122805,
          -0.013825035395027363,
          -0.07566775100786563,
          -0.08800379432065554,
          0.021837555400618144,
          0.021082053746523007,
          -0.02412255826984886,
          0.03711910230373811,
          0.07199274446787014,
          -0.07381487778120215,
          0.040436295719410646,
          0.0068729949855705855,
          -0.06118183571597325,
          0.1699939596849749,
          0.006782036308323517,
          -0.16040364292712656,
          0.043197698100620255,
          -0.006415301466047524,
          0.020635710283964843,
          -0.12191536533700457,
          0.021416963022553748,
          -0.33788928451341876,
          0.0563155341770255,
          0.005666649996520799,
          0.033993414155886574,
          0.014441875987644974,
          -0.0019577582999659405,
          0.05038504019986674,
          0.05797864134513694,
          0.025085228662421046,
          0.020571549133117092,
          0.0240779288145136,
          -0.038272512644395545,
          -0.00027797622074502375,
          -0.06043991221666638,
          0.04284112184114534,
          0.0502551627071951,
          -0.10915270516000374,
          0.011045894785707285,
          -0.010847061794540465,
          -0.23218898403173835,
          0.02597229896884945,
          -0.18281772161961304,
          -0.024668897056805725,
          0.018838726946114076,
          -0.09572280231919808,
          -0.2019711871103282,
          0.0014437846804518165,
          0.3189054373132674,
          -0.16510337957096058,
          -0.2353008120346374,
          -0.16519698952750117,
          0.012522625408908116,
          -0.0440779327056887,
          -0.11085560101870935,
          -0.056934507927651874,
          -0.17281548828400636,
          0.04232381434622949,
          -0.2132940561200809,
          -0.044801787210502604,
          0.0056709546497961325
         ]
        },
        {
         "customdata": [
          [
           "Proof-of-BibleHash"
          ]
         ],
         "hovertemplate": "<b>%{hovertext}</b><br><br>Class=%{marker.color}<br>PC 1=%{x}<br>PC 2=%{y}<br>PC 3=%{z}<br>Algorithm=%{customdata[0]}<extra></extra>",
         "hovertext": [
          "BiblePay"
         ],
         "legendgroup": "3",
         "marker": {
          "color": [
           3
          ],
          "coloraxis": "coloraxis",
          "symbol": "diamond"
         },
         "mode": "markers",
         "name": "3",
         "scene": "scene",
         "showlegend": true,
         "type": "scatter3d",
         "x": [
          -0.21627832438872002
         ],
         "y": [
          21.524040960500475
         ],
         "z": [
          29.238098718502112
         ]
        },
        {
         "customdata": [
          [
           "SHA-256 + Hive"
          ]
         ],
         "hovertemplate": "<b>%{hovertext}</b><br><br>Class=%{marker.color}<br>PC 1=%{x}<br>PC 2=%{y}<br>PC 3=%{z}<br>Algorithm=%{customdata[0]}<extra></extra>",
         "hovertext": [
          "LitecoinCash"
         ],
         "legendgroup": "1",
         "marker": {
          "color": [
           1
          ],
          "coloraxis": "coloraxis",
          "symbol": "square"
         },
         "mode": "markers",
         "name": "1",
         "scene": "scene",
         "showlegend": true,
         "type": "scatter3d",
         "x": [
          -0.2623006765992402
         ],
         "y": [
          29.338478249060923
         ],
         "z": [
          -24.689154657919254
         ]
        },
        {
         "customdata": [
          [
           "TRC10"
          ]
         ],
         "hovertemplate": "<b>%{hovertext}</b><br><br>Class=%{marker.color}<br>PC 1=%{x}<br>PC 2=%{y}<br>PC 3=%{z}<br>Algorithm=%{customdata[0]}<extra></extra>",
         "hovertext": [
          "BitTorrent"
         ],
         "legendgroup": "2",
         "marker": {
          "color": [
           2
          ],
          "coloraxis": "coloraxis",
          "symbol": "x"
         },
         "mode": "markers",
         "name": "2",
         "scene": "scene",
         "showlegend": true,
         "type": "scatter3d",
         "x": [
          36.43067427469124
         ],
         "y": [
          -1.934342674433774
         ],
         "z": [
          -3.333155105905983
         ]
        }
       ],
       "layout": {
        "coloraxis": {
         "colorbar": {
          "title": {
           "text": "Class"
          }
         },
         "colorscale": [
          [
           0,
           "#0d0887"
          ],
          [
           0.1111111111111111,
           "#46039f"
          ],
          [
           0.2222222222222222,
           "#7201a8"
          ],
          [
           0.3333333333333333,
           "#9c179e"
          ],
          [
           0.4444444444444444,
           "#bd3786"
          ],
          [
           0.5555555555555556,
           "#d8576b"
          ],
          [
           0.6666666666666666,
           "#ed7953"
          ],
          [
           0.7777777777777778,
           "#fb9f3a"
          ],
          [
           0.8888888888888888,
           "#fdca26"
          ],
          [
           1,
           "#f0f921"
          ]
         ]
        },
        "legend": {
         "title": {
          "text": "Class"
         },
         "tracegroupgap": 0,
         "x": 0,
         "y": 1
        },
        "margin": {
         "t": 60
        },
        "scene": {
         "domain": {
          "x": [
           0,
           1
          ],
          "y": [
           0,
           1
          ]
         },
         "xaxis": {
          "title": {
           "text": "PC 1"
          }
         },
         "yaxis": {
          "title": {
           "text": "PC 2"
          }
         },
         "zaxis": {
          "title": {
           "text": "PC 3"
          }
         }
        },
        "template": {
         "data": {
          "bar": [
           {
            "error_x": {
             "color": "#2a3f5f"
            },
            "error_y": {
             "color": "#2a3f5f"
            },
            "marker": {
             "line": {
              "color": "#E5ECF6",
              "width": 0.5
             },
             "pattern": {
              "fillmode": "overlay",
              "size": 10,
              "solidity": 0.2
             }
            },
            "type": "bar"
           }
          ],
          "barpolar": [
           {
            "marker": {
             "line": {
              "color": "#E5ECF6",
              "width": 0.5
             },
             "pattern": {
              "fillmode": "overlay",
              "size": 10,
              "solidity": 0.2
             }
            },
            "type": "barpolar"
           }
          ],
          "carpet": [
           {
            "aaxis": {
             "endlinecolor": "#2a3f5f",
             "gridcolor": "white",
             "linecolor": "white",
             "minorgridcolor": "white",
             "startlinecolor": "#2a3f5f"
            },
            "baxis": {
             "endlinecolor": "#2a3f5f",
             "gridcolor": "white",
             "linecolor": "white",
             "minorgridcolor": "white",
             "startlinecolor": "#2a3f5f"
            },
            "type": "carpet"
           }
          ],
          "choropleth": [
           {
            "colorbar": {
             "outlinewidth": 0,
             "ticks": ""
            },
            "type": "choropleth"
           }
          ],
          "contour": [
           {
            "colorbar": {
             "outlinewidth": 0,
             "ticks": ""
            },
            "colorscale": [
             [
              0,
              "#0d0887"
             ],
             [
              0.1111111111111111,
              "#46039f"
             ],
             [
              0.2222222222222222,
              "#7201a8"
             ],
             [
              0.3333333333333333,
              "#9c179e"
             ],
             [
              0.4444444444444444,
              "#bd3786"
             ],
             [
              0.5555555555555556,
              "#d8576b"
             ],
             [
              0.6666666666666666,
              "#ed7953"
             ],
             [
              0.7777777777777778,
              "#fb9f3a"
             ],
             [
              0.8888888888888888,
              "#fdca26"
             ],
             [
              1,
              "#f0f921"
             ]
            ],
            "type": "contour"
           }
          ],
          "contourcarpet": [
           {
            "colorbar": {
             "outlinewidth": 0,
             "ticks": ""
            },
            "type": "contourcarpet"
           }
          ],
          "heatmap": [
           {
            "colorbar": {
             "outlinewidth": 0,
             "ticks": ""
            },
            "colorscale": [
             [
              0,
              "#0d0887"
             ],
             [
              0.1111111111111111,
              "#46039f"
             ],
             [
              0.2222222222222222,
              "#7201a8"
             ],
             [
              0.3333333333333333,
              "#9c179e"
             ],
             [
              0.4444444444444444,
              "#bd3786"
             ],
             [
              0.5555555555555556,
              "#d8576b"
             ],
             [
              0.6666666666666666,
              "#ed7953"
             ],
             [
              0.7777777777777778,
              "#fb9f3a"
             ],
             [
              0.8888888888888888,
              "#fdca26"
             ],
             [
              1,
              "#f0f921"
             ]
            ],
            "type": "heatmap"
           }
          ],
          "heatmapgl": [
           {
            "colorbar": {
             "outlinewidth": 0,
             "ticks": ""
            },
            "colorscale": [
             [
              0,
              "#0d0887"
             ],
             [
              0.1111111111111111,
              "#46039f"
             ],
             [
              0.2222222222222222,
              "#7201a8"
             ],
             [
              0.3333333333333333,
              "#9c179e"
             ],
             [
              0.4444444444444444,
              "#bd3786"
             ],
             [
              0.5555555555555556,
              "#d8576b"
             ],
             [
              0.6666666666666666,
              "#ed7953"
             ],
             [
              0.7777777777777778,
              "#fb9f3a"
             ],
             [
              0.8888888888888888,
              "#fdca26"
             ],
             [
              1,
              "#f0f921"
             ]
            ],
            "type": "heatmapgl"
           }
          ],
          "histogram": [
           {
            "marker": {
             "pattern": {
              "fillmode": "overlay",
              "size": 10,
              "solidity": 0.2
             }
            },
            "type": "histogram"
           }
          ],
          "histogram2d": [
           {
            "colorbar": {
             "outlinewidth": 0,
             "ticks": ""
            },
            "colorscale": [
             [
              0,
              "#0d0887"
             ],
             [
              0.1111111111111111,
              "#46039f"
             ],
             [
              0.2222222222222222,
              "#7201a8"
             ],
             [
              0.3333333333333333,
              "#9c179e"
             ],
             [
              0.4444444444444444,
              "#bd3786"
             ],
             [
              0.5555555555555556,
              "#d8576b"
             ],
             [
              0.6666666666666666,
              "#ed7953"
             ],
             [
              0.7777777777777778,
              "#fb9f3a"
             ],
             [
              0.8888888888888888,
              "#fdca26"
             ],
             [
              1,
              "#f0f921"
             ]
            ],
            "type": "histogram2d"
           }
          ],
          "histogram2dcontour": [
           {
            "colorbar": {
             "outlinewidth": 0,
             "ticks": ""
            },
            "colorscale": [
             [
              0,
              "#0d0887"
             ],
             [
              0.1111111111111111,
              "#46039f"
             ],
             [
              0.2222222222222222,
              "#7201a8"
             ],
             [
              0.3333333333333333,
              "#9c179e"
             ],
             [
              0.4444444444444444,
              "#bd3786"
             ],
             [
              0.5555555555555556,
              "#d8576b"
             ],
             [
              0.6666666666666666,
              "#ed7953"
             ],
             [
              0.7777777777777778,
              "#fb9f3a"
             ],
             [
              0.8888888888888888,
              "#fdca26"
             ],
             [
              1,
              "#f0f921"
             ]
            ],
            "type": "histogram2dcontour"
           }
          ],
          "mesh3d": [
           {
            "colorbar": {
             "outlinewidth": 0,
             "ticks": ""
            },
            "type": "mesh3d"
           }
          ],
          "parcoords": [
           {
            "line": {
             "colorbar": {
              "outlinewidth": 0,
              "ticks": ""
             }
            },
            "type": "parcoords"
           }
          ],
          "pie": [
           {
            "automargin": true,
            "type": "pie"
           }
          ],
          "scatter": [
           {
            "fillpattern": {
             "fillmode": "overlay",
             "size": 10,
             "solidity": 0.2
            },
            "type": "scatter"
           }
          ],
          "scatter3d": [
           {
            "line": {
             "colorbar": {
              "outlinewidth": 0,
              "ticks": ""
             }
            },
            "marker": {
             "colorbar": {
              "outlinewidth": 0,
              "ticks": ""
             }
            },
            "type": "scatter3d"
           }
          ],
          "scattercarpet": [
           {
            "marker": {
             "colorbar": {
              "outlinewidth": 0,
              "ticks": ""
             }
            },
            "type": "scattercarpet"
           }
          ],
          "scattergeo": [
           {
            "marker": {
             "colorbar": {
              "outlinewidth": 0,
              "ticks": ""
             }
            },
            "type": "scattergeo"
           }
          ],
          "scattergl": [
           {
            "marker": {
             "colorbar": {
              "outlinewidth": 0,
              "ticks": ""
             }
            },
            "type": "scattergl"
           }
          ],
          "scattermapbox": [
           {
            "marker": {
             "colorbar": {
              "outlinewidth": 0,
              "ticks": ""
             }
            },
            "type": "scattermapbox"
           }
          ],
          "scatterpolar": [
           {
            "marker": {
             "colorbar": {
              "outlinewidth": 0,
              "ticks": ""
             }
            },
            "type": "scatterpolar"
           }
          ],
          "scatterpolargl": [
           {
            "marker": {
             "colorbar": {
              "outlinewidth": 0,
              "ticks": ""
             }
            },
            "type": "scatterpolargl"
           }
          ],
          "scatterternary": [
           {
            "marker": {
             "colorbar": {
              "outlinewidth": 0,
              "ticks": ""
             }
            },
            "type": "scatterternary"
           }
          ],
          "surface": [
           {
            "colorbar": {
             "outlinewidth": 0,
             "ticks": ""
            },
            "colorscale": [
             [
              0,
              "#0d0887"
             ],
             [
              0.1111111111111111,
              "#46039f"
             ],
             [
              0.2222222222222222,
              "#7201a8"
             ],
             [
              0.3333333333333333,
              "#9c179e"
             ],
             [
              0.4444444444444444,
              "#bd3786"
             ],
             [
              0.5555555555555556,
              "#d8576b"
             ],
             [
              0.6666666666666666,
              "#ed7953"
             ],
             [
              0.7777777777777778,
              "#fb9f3a"
             ],
             [
              0.8888888888888888,
              "#fdca26"
             ],
             [
              1,
              "#f0f921"
             ]
            ],
            "type": "surface"
           }
          ],
          "table": [
           {
            "cells": {
             "fill": {
              "color": "#EBF0F8"
             },
             "line": {
              "color": "white"
             }
            },
            "header": {
             "fill": {
              "color": "#C8D4E3"
             },
             "line": {
              "color": "white"
             }
            },
            "type": "table"
           }
          ]
         },
         "layout": {
          "annotationdefaults": {
           "arrowcolor": "#2a3f5f",
           "arrowhead": 0,
           "arrowwidth": 1
          },
          "autotypenumbers": "strict",
          "coloraxis": {
           "colorbar": {
            "outlinewidth": 0,
            "ticks": ""
           }
          },
          "colorscale": {
           "diverging": [
            [
             0,
             "#8e0152"
            ],
            [
             0.1,
             "#c51b7d"
            ],
            [
             0.2,
             "#de77ae"
            ],
            [
             0.3,
             "#f1b6da"
            ],
            [
             0.4,
             "#fde0ef"
            ],
            [
             0.5,
             "#f7f7f7"
            ],
            [
             0.6,
             "#e6f5d0"
            ],
            [
             0.7,
             "#b8e186"
            ],
            [
             0.8,
             "#7fbc41"
            ],
            [
             0.9,
             "#4d9221"
            ],
            [
             1,
             "#276419"
            ]
           ],
           "sequential": [
            [
             0,
             "#0d0887"
            ],
            [
             0.1111111111111111,
             "#46039f"
            ],
            [
             0.2222222222222222,
             "#7201a8"
            ],
            [
             0.3333333333333333,
             "#9c179e"
            ],
            [
             0.4444444444444444,
             "#bd3786"
            ],
            [
             0.5555555555555556,
             "#d8576b"
            ],
            [
             0.6666666666666666,
             "#ed7953"
            ],
            [
             0.7777777777777778,
             "#fb9f3a"
            ],
            [
             0.8888888888888888,
             "#fdca26"
            ],
            [
             1,
             "#f0f921"
            ]
           ],
           "sequentialminus": [
            [
             0,
             "#0d0887"
            ],
            [
             0.1111111111111111,
             "#46039f"
            ],
            [
             0.2222222222222222,
             "#7201a8"
            ],
            [
             0.3333333333333333,
             "#9c179e"
            ],
            [
             0.4444444444444444,
             "#bd3786"
            ],
            [
             0.5555555555555556,
             "#d8576b"
            ],
            [
             0.6666666666666666,
             "#ed7953"
            ],
            [
             0.7777777777777778,
             "#fb9f3a"
            ],
            [
             0.8888888888888888,
             "#fdca26"
            ],
            [
             1,
             "#f0f921"
            ]
           ]
          },
          "colorway": [
           "#636efa",
           "#EF553B",
           "#00cc96",
           "#ab63fa",
           "#FFA15A",
           "#19d3f3",
           "#FF6692",
           "#B6E880",
           "#FF97FF",
           "#FECB52"
          ],
          "font": {
           "color": "#2a3f5f"
          },
          "geo": {
           "bgcolor": "white",
           "lakecolor": "white",
           "landcolor": "#E5ECF6",
           "showlakes": true,
           "showland": true,
           "subunitcolor": "white"
          },
          "hoverlabel": {
           "align": "left"
          },
          "hovermode": "closest",
          "mapbox": {
           "style": "light"
          },
          "paper_bgcolor": "white",
          "plot_bgcolor": "#E5ECF6",
          "polar": {
           "angularaxis": {
            "gridcolor": "white",
            "linecolor": "white",
            "ticks": ""
           },
           "bgcolor": "#E5ECF6",
           "radialaxis": {
            "gridcolor": "white",
            "linecolor": "white",
            "ticks": ""
           }
          },
          "scene": {
           "xaxis": {
            "backgroundcolor": "#E5ECF6",
            "gridcolor": "white",
            "gridwidth": 2,
            "linecolor": "white",
            "showbackground": true,
            "ticks": "",
            "zerolinecolor": "white"
           },
           "yaxis": {
            "backgroundcolor": "#E5ECF6",
            "gridcolor": "white",
            "gridwidth": 2,
            "linecolor": "white",
            "showbackground": true,
            "ticks": "",
            "zerolinecolor": "white"
           },
           "zaxis": {
            "backgroundcolor": "#E5ECF6",
            "gridcolor": "white",
            "gridwidth": 2,
            "linecolor": "white",
            "showbackground": true,
            "ticks": "",
            "zerolinecolor": "white"
           }
          },
          "shapedefaults": {
           "line": {
            "color": "#2a3f5f"
           }
          },
          "ternary": {
           "aaxis": {
            "gridcolor": "white",
            "linecolor": "white",
            "ticks": ""
           },
           "baxis": {
            "gridcolor": "white",
            "linecolor": "white",
            "ticks": ""
           },
           "bgcolor": "#E5ECF6",
           "caxis": {
            "gridcolor": "white",
            "linecolor": "white",
            "ticks": ""
           }
          },
          "title": {
           "x": 0.05
          },
          "xaxis": {
           "automargin": true,
           "gridcolor": "white",
           "linecolor": "white",
           "ticks": "",
           "title": {
            "standoff": 15
           },
           "zerolinecolor": "white",
           "zerolinewidth": 2
          },
          "yaxis": {
           "automargin": true,
           "gridcolor": "white",
           "linecolor": "white",
           "ticks": "",
           "title": {
            "standoff": 15
           },
           "zerolinecolor": "white",
           "zerolinewidth": 2
          }
         }
        },
        "width": 800
       }
      },
      "text/html": [
       "<div>                            <div id=\"1d151e0a-fba3-4fad-ba5a-8c079c42adb6\" class=\"plotly-graph-div\" style=\"height:525px; width:800px;\"></div>            <script type=\"text/javascript\">                require([\"plotly\"], function(Plotly) {                    window.PLOTLYENV=window.PLOTLYENV || {};                                    if (document.getElementById(\"1d151e0a-fba3-4fad-ba5a-8c079c42adb6\")) {                    Plotly.newPlot(                        \"1d151e0a-fba3-4fad-ba5a-8c079c42adb6\",                        [{\"customdata\":[[\"Scrypt\"],[\"Scrypt\"],[\"X13\"],[\"SHA-256\"],[\"Ethash\"],[\"Scrypt\"],[\"X11\"],[\"CryptoNight-V7\"],[\"Ethash\"],[\"Equihash\"],[\"SHA-512\"],[\"Multiple\"],[\"SHA-256\"],[\"SHA-256\"],[\"Scrypt\"],[\"X15\"],[\"X11\"],[\"Scrypt\"],[\"Scrypt\"],[\"Scrypt\"],[\"Multiple\"],[\"Scrypt\"],[\"SHA-256\"],[\"Scrypt\"],[\"Scrypt\"],[\"Scrypt\"],[\"Quark\"],[\"Groestl\"],[\"Scrypt\"],[\"Scrypt\"],[\"Scrypt\"],[\"Scrypt\"],[\"Scrypt\"],[\"X11\"],[\"Scrypt\"],[\"Groestl\"],[\"Multiple\"],[\"SHA-256\"],[\"Scrypt\"],[\"Scrypt\"],[\"Scrypt\"],[\"Scrypt\"],[\"PoS\"],[\"Scrypt\"],[\"Scrypt\"],[\"NeoScrypt\"],[\"Scrypt\"],[\"Scrypt\"],[\"Scrypt\"],[\"Scrypt\"],[\"X11\"],[\"Scrypt\"],[\"X11\"],[\"SHA-256\"],[\"Scrypt\"],[\"Scrypt\"],[\"Scrypt\"],[\"SHA3\"],[\"Scrypt\"],[\"HybridScryptHash256\"],[\"Scrypt\"],[\"Scrypt\"],[\"SHA-256\"],[\"Scrypt\"],[\"X13\"],[\"Scrypt\"],[\"SHA-256\"],[\"Scrypt\"],[\"X13\"],[\"NeoScrypt\"],[\"Scrypt\"],[\"Scrypt\"],[\"Scrypt\"],[\"Scrypt\"],[\"Scrypt\"],[\"Scrypt\"],[\"X11\"],[\"X11\"],[\"SHA-256\"],[\"Multiple\"],[\"SHA-256\"],[\"PHI1612\"],[\"X11\"],[\"SHA-256\"],[\"SHA-256\"],[\"SHA-256\"],[\"X11\"],[\"Scrypt\"],[\"Scrypt\"],[\"Scrypt\"],[\"Scrypt\"],[\"Lyra2REv2\"],[\"Scrypt\"],[\"X11\"],[\"Multiple\"],[\"SHA-256\"],[\"X13\"],[\"Scrypt\"],[\"CryptoNight\"],[\"CryptoNight\"],[\"Shabal256\"],[\"Counterparty\"],[\"Scrypt\"],[\"SHA-256\"],[\"Groestl\"],[\"Scrypt\"],[\"Scrypt\"],[\"Scrypt\"],[\"X13\"],[\"Scrypt\"],[\"Scrypt\"],[\"Scrypt\"],[\"Scrypt\"],[\"X13\"],[\"Scrypt\"],[\"Stanford Folding\"],[\"X11\"],[\"Multiple\"],[\"QuBit\"],[\"Scrypt\"],[\"Scrypt\"],[\"Scrypt\"],[\"M7 POW\"],[\"Scrypt\"],[\"SHA-256\"],[\"Scrypt\"],[\"X11\"],[\"SHA3\"],[\"X11\"],[\"Lyra2RE\"],[\"SHA-256\"],[\"QUAIT\"],[\"X11\"],[\"X11\"],[\"Scrypt\"],[\"Scrypt\"],[\"Scrypt\"],[\"Ethash\"],[\"X13\"],[\"Blake2b\"],[\"SHA-256\"],[\"X15\"],[\"X11\"],[\"SHA-256\"],[\"BLAKE256\"],[\"Scrypt\"],[\"1GB AES Pattern Search\"],[\"SHA-256\"],[\"X11\"],[\"Scrypt\"],[\"SHA-256\"],[\"SHA-256\"],[\"NIST5\"],[\"Scrypt\"],[\"Scrypt\"],[\"X11\"],[\"Dagger\"],[\"Scrypt\"],[\"X11GOST\"],[\"X11\"],[\"Scrypt\"],[\"SHA-256\"],[\"Scrypt\"],[\"PoS\"],[\"Scrypt\"],[\"X11\"],[\"X11\"],[\"SHA-256\"],[\"SHA-256\"],[\"NIST5\"],[\"X11\"],[\"Scrypt\"],[\"POS 3.0\"],[\"Scrypt\"],[\"Scrypt\"],[\"Scrypt\"],[\"X13\"],[\"X11\"],[\"X11\"],[\"Equihash\"],[\"X11\"],[\"Scrypt\"],[\"CryptoNight\"],[\"SHA-256\"],[\"SHA-256\"],[\"X11\"],[\"Scrypt\"],[\"Multiple\"],[\"Scrypt\"],[\"Scrypt\"],[\"Scrypt\"],[\"SHA-256\"],[\"Scrypt\"],[\"Scrypt\"],[\"SHA-256D\"],[\"PoS\"],[\"Scrypt\"],[\"X11\"],[\"Lyra2Z\"],[\"PoS\"],[\"X13\"],[\"X14\"],[\"PoS\"],[\"SHA-256D\"],[\"Ethash\"],[\"Equihash\"],[\"DPoS\"],[\"X11\"],[\"Scrypt\"],[\"X11\"],[\"X13\"],[\"X11\"],[\"PoS\"],[\"Scrypt\"],[\"Scrypt\"],[\"X11\"],[\"PoS\"],[\"X11\"],[\"SHA-256\"],[\"Scrypt\"],[\"X11\"],[\"Scrypt\"],[\"Scrypt\"],[\"X11\"],[\"CryptoNight\"],[\"Scrypt\"],[\"Scrypt\"],[\"Scrypt\"],[\"Scrypt\"],[\"Quark\"],[\"QuBit\"],[\"Scrypt\"],[\"CryptoNight\"],[\"Lyra2RE\"],[\"Scrypt\"],[\"SHA-256\"],[\"X11\"],[\"Scrypt\"],[\"X11\"],[\"Scrypt\"],[\"CryptoNight-V7\"],[\"Scrypt\"],[\"Scrypt\"],[\"Scrypt\"],[\"X13\"],[\"X11\"],[\"Equihash\"],[\"Scrypt\"],[\"Scrypt\"],[\"Lyra2RE\"],[\"Scrypt\"],[\"Dagger-Hashimoto\"],[\"X11\"],[\"Blake2S\"],[\"X11\"],[\"Scrypt\"],[\"PoS\"],[\"X11\"],[\"NIST5\"],[\"PoS\"],[\"X11\"],[\"Scrypt\"],[\"Scrypt\"],[\"Scrypt\"],[\"SHA-256\"],[\"X11\"],[\"Scrypt\"],[\"Scrypt\"],[\"SHA-256\"],[\"PoS\"],[\"Scrypt\"],[\"X15\"],[\"SHA-256\"],[\"Scrypt\"],[\"POS 3.0\"],[\"CryptoNight-V7\"],[\"536\"],[\"Argon2d\"],[\"Blake2b\"],[\"Cloverhash\"],[\"CryptoNight\"],[\"NIST5\"],[\"X11\"],[\"NIST5\"],[\"Skein\"],[\"Scrypt\"],[\"X13\"],[\"Scrypt\"],[\"X11\"],[\"X11\"],[\"Scrypt\"],[\"CryptoNight\"],[\"X13\"],[\"Time Travel\"],[\"Scrypt\"],[\"Keccak\"],[\"SkunkHash v2 Raptor\"],[\"X11\"],[\"Skein\"],[\"SHA-256\"],[\"X11\"],[\"Scrypt\"],[\"VeChainThor Authority\"],[\"Scrypt\"],[\"PoS\"],[\"Scrypt\"],[\"Scrypt\"],[\"Scrypt\"],[\"Scrypt\"],[\"Scrypt\"],[\"Scrypt\"],[\"Scrypt\"],[\"CryptoNight\"],[\"SHA-512\"],[\"Ouroboros\"],[\"X11\"],[\"Equihash\"],[\"NeoScrypt\"],[\"X11\"],[\"Scrypt\"],[\"NeoScrypt\"],[\"Lyra2REv2\"],[\"Equihash\"],[\"Scrypt\"],[\"SHA-256\"],[\"NIST5\"],[\"PHI1612\"],[\"Dagger\"],[\"Scrypt\"],[\"Quark\"],[\"Scrypt\"],[\"POS 2.0\"],[\"Scrypt\"],[\"SHA-256\"],[\"X11\"],[\"NeoScrypt\"],[\"Ethash\"],[\"NeoScrypt\"],[\"X11\"],[\"DPoS\"],[\"NIST5\"],[\"X13\"],[\"Multiple\"],[\"Scrypt\"],[\"CryptoNight\"],[\"CryptoNight\"],[\"Ethash\"],[\"NIST5\"],[\"Quark\"],[\"X11\"],[\"CryptoNight-V7\"],[\"Scrypt\"],[\"Scrypt\"],[\"Scrypt\"],[\"X11\"],[\"BLAKE256\"],[\"X11\"],[\"NeoScrypt\"],[\"Quark\"],[\"NeoScrypt\"],[\"Scrypt\"],[\"Scrypt\"],[\"Scrypt\"],[\"X11\"],[\"X11\"],[\"SHA-256\"],[\"C11\"],[\"POS 3.0\"],[\"Ethash\"],[\"Scrypt\"],[\"CryptoNight\"],[\"SkunkHash\"],[\"Scrypt\"],[\"CryptoNight\"],[\"Scrypt\"],[\"Dagger\"],[\"Lyra2REv2\"],[\"X13\"],[\"Scrypt\"],[\"Scrypt\"],[\"X11\"],[\"C11\"],[\"Proof-of-Authority\"],[\"X11\"],[\"XEVAN\"],[\"Scrypt\"],[\"VBFT\"],[\"Ethash\"],[\"CryptoNight\"],[\"Scrypt\"],[\"IMesh\"],[\"NIST5\"],[\"Scrypt\"],[\"Scrypt\"],[\"Equihash\"],[\"Scrypt\"],[\"Lyra2Z\"],[\"Green Protocol\"],[\"PoS\"],[\"Scrypt\"],[\"Semux BFT consensus\"],[\"X11\"],[\"Quark\"],[\"PoS\"],[\"CryptoNight\"],[\"X16R\"],[\"Scrypt\"],[\"NIST5\"],[\"Lyra2RE\"],[\"XEVAN\"],[\"Tribus\"],[\"Scrypt\"],[\"Lyra2Z\"],[\"CryptoNight\"],[\"CryptoNight Heavy\"],[\"CryptoNight\"],[\"Scrypt\"],[\"Scrypt\"],[\"Jump Consistent Hash\"],[\"SHA-256D\"],[\"CryptoNight\"],[\"Scrypt\"],[\"X15\"],[\"Scrypt\"],[\"Quark\"],[\"SHA-256\"],[\"DPoS\"],[\"X16R\"],[\"HMQ1725\"],[\"X11\"],[\"X16R\"],[\"Quark\"],[\"Quark\"],[\"Scrypt\"],[\"Lyra2REv2\"],[\"Quark\"],[\"Scrypt\"],[\"Scrypt\"],[\"CryptoNight-V7\"],[\"Cryptonight-GPU\"],[\"XEVAN\"],[\"CryptoNight Heavy\"],[\"X11\"],[\"X11\"],[\"Scrypt\"],[\"PoS\"],[\"SHA-256\"],[\"Keccak\"],[\"X11\"],[\"X11\"],[\"Scrypt\"],[\"SHA-512\"],[\"X16R\"],[\"ECC 256K1\"],[\"Equihash\"],[\"XEVAN\"],[\"Lyra2Z\"],[\"SHA-256\"],[\"XEVAN\"],[\"X11\"],[\"CryptoNight\"],[\"Quark\"],[\"Blake\"],[\"Blake\"],[\"Equihash\"],[\"Exosis\"],[\"Scrypt\"],[\"Scrypt\"],[\"Equihash\"],[\"Quark\"],[\"Equihash\"],[\"Quark\"],[\"Scrypt\"],[\"QuBit\"],[\"X11\"],[\"Scrypt\"],[\"XEVAN\"],[\"SHA-256D\"],[\"X11\"],[\"SHA-256\"],[\"X13\"],[\"SHA-256\"],[\"X11\"],[\"DPoS\"],[\"Scrypt\"],[\"Scrypt\"],[\"X11\"],[\"NeoScrypt\"],[\"Scrypt\"],[\"Blake\"],[\"Scrypt\"],[\"SHA-256\"],[\"Scrypt\"],[\"X11\"],[\"Scrypt\"],[\"Scrypt\"],[\"SHA-256\"],[\"X11\"],[\"SHA-256\"],[\"Scrypt\"],[\"Scrypt\"],[\"Scrypt\"],[\"Groestl\"],[\"X11\"],[\"Scrypt\"],[\"PoS\"],[\"Scrypt\"],[\"Scrypt\"],[\"X11\"],[\"SHA-256\"],[\"DPoS\"],[\"Scrypt\"],[\"Scrypt\"],[\"NeoScrypt\"],[\"Multiple\"],[\"X13\"],[\"Equihash+Scrypt\"],[\"DPoS\"],[\"Ethash\"],[\"DPoS\"],[\"SHA-256\"],[\"Leased POS\"],[\"PoS\"],[\"PoS\"],[\"SHA-256\"],[\"Scrypt\"],[\"CryptoNight\"],[\"Equihash\"],[\"Scrypt\"]],\"hovertemplate\":\"<b>%{hovertext}</b><br><br>Class=%{marker.color}<br>PC 1=%{x}<br>PC 2=%{y}<br>PC 3=%{z}<br>Algorithm=%{customdata[0]}<extra></extra>\",\"hovertext\":[\"42 Coin\",\"404Coin\",\"EliteCoin\",\"Bitcoin\",\"Ethereum\",\"Litecoin\",\"Dash\",\"Monero\",\"Ethereum Classic\",\"ZCash\",\"Bitshares\",\"DigiByte\",\"BitcoinDark\",\"PayCoin\",\"ProsperCoin\",\"KoboCoin\",\"Spreadcoin\",\"Argentum\",\"Aurora Coin\",\"BlueCoin\",\"MyriadCoin\",\"MoonCoin\",\"ZetaCoin\",\"SexCoin\",\"Quatloo\",\"EnergyCoin\",\"QuarkCoin\",\"Riecoin\",\"Digitalcoin \",\"BitBar\",\"Catcoin\",\"CryptoBullion\",\"CannaCoin\",\"CryptCoin\",\"CasinoCoin\",\"Diamond\",\"Verge\",\"DevCoin\",\"EarthCoin\",\"E-Gulden\",\"Einsteinium\",\"Emerald\",\"Exclusive Coin\",\"FlutterCoin\",\"Franko\",\"FeatherCoin\",\"GrandCoin\",\"GlobalCoin\",\"GoldCoin\",\"HoboNickels\",\"HyperStake\",\"Infinite Coin\",\"IOCoin\",\"IXcoin\",\"KrugerCoin\",\"LuckyCoin\",\"Litebar \",\"MaxCoin\",\"MegaCoin\",\"MediterraneanCoin\",\"MintCoin\",\"MinCoin\",\"MazaCoin\",\"Nautilus Coin\",\"NavCoin\",\"NobleCoin\",\"Namecoin\",\"NyanCoin\",\"OpalCoin\",\"Orbitcoin\",\"PotCoin\",\"PhoenixCoin\",\"Reddcoin\",\"RonPaulCoin\",\"StableCoin\",\"SmartCoin\",\"SuperCoin\",\"SyncCoin\",\"SysCoin\",\"TeslaCoin\",\"TigerCoin\",\"TittieCoin\",\"TorCoin\",\"TerraCoin\",\"UnbreakableCoin\",\"Unobtanium\",\"UroCoin\",\"UnitaryStatus Dollar\",\"UltraCoin\",\"ViaCoin\",\"VeriCoin\",\"Vertcoin\",\"WorldCoin\",\"X11 Coin\",\"Crypti\",\"JouleCoin\",\"StealthCoin\",\"ZCC Coin\",\"ByteCoin\",\"DigitalNote \",\"BurstCoin\",\"StorjCoin\",\"MonaCoin\",\"Neutron\",\"FairCoin\",\"Gulden\",\"RubyCoin\",\"PesetaCoin\",\"Kore\",\"Wild Beast Coin\",\"Dnotes\",\"Flo\",\"8BIT Coin\",\"Sativa Coin\",\"ArtByte\",\"Folding Coin\",\"Ucoin\",\"Unitus\",\"CypherPunkCoin\",\"OmniCron\",\"Vtorrent\",\"GreenCoin\",\"Cryptonite\",\"MasterCoin\",\"SoonCoin\",\"1Credit\",\"IslaCoin\",\"Nexus\",\"MarsCoin \",\"Crypto\",\"Anarchists Prime\",\"Droidz\",\"BowsCoin\",\"Squall Coin\",\"Song Coin\",\"BitZeny\",\"Diggits\",\"Expanse\",\"Paycon\",\"Siacoin\",\"Emercoin\",\"EverGreenCoin\",\"MindCoin\",\"I0coin\",\"Decred\",\"Revolution VR\",\"HOdlcoin\",\"EDRCoin\",\"Hitcoin\",\"Gamecredits\",\"DubaiCoin\",\"CarpeDiemCoin\",\"PWR Coin\",\"BillaryCoin\",\"GPU Coin\",\"Adzcoin\",\"SoilCoin\",\"YoCoin\",\"SibCoin\",\"EuropeCoin\",\"ZeitCoin\",\"SwingCoin\",\"SafeExchangeCoin\",\"Nebuchadnezzar\",\"Francs\",\"BolivarCoin\",\"Ratecoin\",\"Revenu\",\"Clockcoin\",\"VIP Tokens\",\"BitSend\",\"Omni\",\"Let it Ride\",\"PutinCoin\",\"iBankCoin\",\"Frankywillcoin\",\"MudraCoin\",\"PizzaCoin\",\"Lutetium Coin\",\"Komodo\",\"GoldBlocks\",\"CarterCoin\",\"Karbo\",\"BitTokens\",\"ZayedCoin\",\"MustangCoin\",\"ZoneCoin\",\"Circuits of Value\",\"RootCoin\",\"DopeCoin\",\"BitCurrency\",\"DollarCoin\",\"Swiscoin\",\"Shilling\",\"BuzzCoin\",\"Opair\",\"PesoBit\",\"Halloween Coin\",\"ZCoin\",\"CoffeeCoin\",\"RoyalCoin\",\"GanjaCoin V2\",\"TeamUP\",\"LanaCoin\",\"Elementrem\",\"ZClassic\",\"ARK\",\"InsaneCoin\",\"KiloCoin\",\"ArtexCoin\",\"EmberCoin\",\"XenixCoin\",\"FreeCoin\",\"PLNCoin\",\"AquariusCoin\",\"Kurrent\",\"Creatio\",\"Eternity\",\"Eurocoin\",\"BitcoinFast\",\"Stakenet\",\"BitConnect Coin\",\"MoneyCoin\",\"Enigma\",\"Cannabis Industry Coin\",\"Russiacoin\",\"PandaCoin\",\"GameUnits\",\"GAKHcoin\",\"Allsafe\",\"LiteCreed\",\"OsmiumCoin\",\"Bikercoins\",\"HexxCoin\",\"Klingon Empire Darsek\",\"Internet of People\",\"KushCoin\",\"Printerium\",\"PacCoin\",\"Impeach\",\"Citadel\",\"Zilbercoin\",\"FirstCoin\",\"BeaverCoin\",\"FindCoin\",\"VaultCoin\",\"Zero\",\"OpenChat\",\"Canada eCoin\",\"Zoin\",\"RenosCoin\",\"DubaiCoin\",\"VirtacoinPlus\",\"TajCoin\",\"Impact\",\"EB3coin\",\"Atmos\",\"HappyCoin\",\"Coinonat\",\"MacronCoin\",\"Condensate\",\"Independent Money System\",\"ArgusCoin\",\"LomoCoin\",\"ProCurrency\",\"GoldReserve\",\"BenjiRolls\",\"GrowthCoin\",\"ILCoin\",\"Phreak\",\"Degas Coin\",\"HTML5 Coin\",\"Ultimate Secure Cash\",\"EquiTrader\",\"QTUM\",\"Quantum Resistant Ledger\",\"Espers\",\"Dynamic\",\"Nano\",\"ChanCoin\",\"Dinastycoin\",\"Denarius\",\"DigitalPrice\",\"Virta Unique Coin\",\"Bitcoin Planet\",\"Unify\",\"BritCoin\",\"SocialCoin\",\"ArcticCoin\",\"DAS\",\"Linda\",\"LeviarCoin\",\"DeepOnion\",\"Bitcore\",\"gCn Coin\",\"SmartCash\",\"Signatum\",\"Onix\",\"Cream\",\"Bitcoin Cash\",\"Monoeci\",\"Draftcoin\",\"Vechain\",\"Sojourn Coin\",\"Stakecoin\",\"NewYorkCoin\",\"FrazCoin\",\"Kronecoin\",\"AdCoin\",\"Linx\",\"CoinonatX\",\"Ethereum Dark\",\"Sumokoin\",\"Obsidian\",\"Cardano\",\"Regalcoin\",\"BitcoinZ\",\"TrezarCoin\",\"Elements\",\"TerraNovaCoin\",\"VIVO Coin\",\"Rupee\",\"Bitcoin Gold\",\"WomenCoin\",\"Theresa May Coin\",\"NamoCoin\",\"LUXCoin\",\"Pirl\",\"Xios\",\"Bitcloud 2.0\",\"eBoost\",\"KekCoin\",\"BlackholeCoin\",\"Infinity Economics\",\"Pura\",\"Innova\",\"Ellaism\",\"GoByte\",\"Magnet\",\"Lamden Tau\",\"Electra\",\"Bitcoin Diamond\",\"SHIELD\",\"Cash & Back Coin\",\"UltraNote\",\"BitCoal\",\"DaxxCoin\",\"Bulwark\",\"Kalkulus\",\"AC3\",\"Lethean\",\"GermanCoin\",\"LiteCoin Ultra\",\"PopularCoin\",\"PhantomX\",\"Photon\",\"Sucre\",\"SparksPay\",\"Digiwage\",\"GunCoin\",\"IrishCoin\",\"Trollcoin\",\"Litecoin Plus\",\"Monkey Project\",\"Pioneer Coin\",\"UnitedBitcoin\",\"Interzone\",\"TokenPay\",\"1717 Masonic Commemorative Token\",\"My Big Coin\",\"TurtleCoin\",\"MUNcoin\",\"Unified Society USDEX\",\"Niobio Cash\",\"ShareChain\",\"Travelflex\",\"KREDS\",\"Tokyo Coin\",\"BitFlip\",\"LottoCoin\",\"Crypto Improvement Fund\",\"Stipend\",\"Poa Network\",\"Pushi\",\"Ellerium\",\"Velox\",\"Ontology\",\"Callisto Network\",\"BitTube\",\"Poseidon\",\"Aidos Kuneen\",\"Bitspace\",\"Briacoin\",\"Ignition\",\"Bitrolium\",\"MedicCoin\",\"Alpenschillling\",\"Bitcoin Green\",\"Deviant Coin\",\"Abjcoin\",\"Semux\",\"FuturoCoin\",\"Carebit\",\"Zealium\",\"Monero Classic\",\"Proton\",\"iDealCash\",\"Jumpcoin\",\"Infinex\",\"Bitcoin Incognito\",\"KEYCO\",\"HollyWoodCoin\",\"GINcoin\",\"PlatinCoin\",\"Loki\",\"Newton Coin\",\"Swisscoin\",\"Xt3ch\",\"MassGrid\",\"TheVig\",\"PluraCoin\",\"EmaratCoin\",\"Dekado\",\"Lynx\",\"Poseidon Quark\",\"BitcoinWSpectrum\",\"Muse\",\"Motion\",\"PlusOneCoin\",\"Axe\",\"Trivechain\",\"Dystem\",\"Giant\",\"Peony Coin\",\"Absolute Coin\",\"Vitae\",\"HexCoin\",\"TPCash\",\"Webchain\",\"Ryo\",\"Urals Coin\",\"Qwertycoin\",\"ARENON\",\"EUNO\",\"MMOCoin\",\"Ketan\",\"Project Pai\",\"XDNA\",\"PAXEX\",\"Azart\",\"ThunderStake\",\"Kcash\",\"Xchange\",\"Acute Angle Cloud\",\"CrypticCoin\",\"Bettex coin\",\"Actinium\",\"Bitcoin SV\",\"BitMoney\",\"Junson Ming Chan Coin\",\"FREDEnergy\",\"HerbCoin\",\"Universal Molecule\",\"Lithium\",\"PirateCash\",\"Exosis\",\"Block-Logic\",\"Oduwa\",\"Beam\",\"Galilel\",\"Bithereum\",\"Crypto Sports\",\"Credit\",\"SLICE\",\"Dash Platinum\",\"Nasdacoin\",\"Beetle Coin\",\"Titan Coin\",\"Award\",\"BLAST\",\"Bitcoin Rhodium\",\"GlobalToken\",\"Insane Coin\",\"ALAX\",\"LiteDoge\",\"SolarCoin\",\"TruckCoin\",\"UFO Coin\",\"OrangeCoin\",\"BlakeCoin\",\"BitstarCoin\",\"NeosCoin\",\"HyperCoin\",\"PinkCoin\",\"Crypto Escudo\",\"AudioCoin\",\"IncaKoin\",\"Piggy Coin\",\"Crown Coin\",\"Genstake\",\"SmileyCoin\",\"XiaoMiCoin\",\"Groestlcoin\",\"CapriCoin\",\" ClubCoin\",\"Radium\",\"Bata\",\"Pakcoin\",\"Creditbit \",\"OKCash\",\"Lisk\",\"HiCoin\",\"WhiteCoin\",\"FriendshipCoin\",\"JoinCoin\",\"Triangles Coin\",\"Vollar\",\"EOS\",\"Reality Clash\",\"Oxycoin\",\"TigerCash\",\"Waves\",\"Particl\",\"Nxt\",\"ZEPHYR\",\"Gapcoin\",\"Beldex\",\"Horizen\",\"BitcoinPlus\"],\"legendgroup\":\"0\",\"marker\":{\"color\":[0,0,0,0,0,0,0,0,0,0,0,0,0,0,0,0,0,0,0,0,0,0,0,0,0,0,0,0,0,0,0,0,0,0,0,0,0,0,0,0,0,0,0,0,0,0,0,0,0,0,0,0,0,0,0,0,0,0,0,0,0,0,0,0,0,0,0,0,0,0,0,0,0,0,0,0,0,0,0,0,0,0,0,0,0,0,0,0,0,0,0,0,0,0,0,0,0,0,0,0,0,0,0,0,0,0,0,0,0,0,0,0,0,0,0,0,0,0,0,0,0,0,0,0,0,0,0,0,0,0,0,0,0,0,0,0,0,0,0,0,0,0,0,0,0,0,0,0,0,0,0,0,0,0,0,0,0,0,0,0,0,0,0,0,0,0,0,0,0,0,0,0,0,0,0,0,0,0,0,0,0,0,0,0,0,0,0,0,0,0,0,0,0,0,0,0,0,0,0,0,0,0,0,0,0,0,0,0,0,0,0,0,0,0,0,0,0,0,0,0,0,0,0,0,0,0,0,0,0,0,0,0,0,0,0,0,0,0,0,0,0,0,0,0,0,0,0,0,0,0,0,0,0,0,0,0,0,0,0,0,0,0,0,0,0,0,0,0,0,0,0,0,0,0,0,0,0,0,0,0,0,0,0,0,0,0,0,0,0,0,0,0,0,0,0,0,0,0,0,0,0,0,0,0,0,0,0,0,0,0,0,0,0,0,0,0,0,0,0,0,0,0,0,0,0,0,0,0,0,0,0,0,0,0,0,0,0,0,0,0,0,0,0,0,0,0,0,0,0,0,0,0,0,0,0,0,0,0,0,0,0,0,0,0,0,0,0,0,0,0,0,0,0,0,0,0,0,0,0,0,0,0,0,0,0,0,0,0,0,0,0,0,0,0,0,0,0,0,0,0,0,0,0,0,0,0,0,0,0,0,0,0,0,0,0,0,0,0,0,0,0,0,0,0,0,0,0,0,0,0,0,0,0,0,0,0,0,0,0,0,0,0,0,0,0,0,0,0,0,0,0,0,0,0,0,0,0,0,0,0,0,0,0,0,0,0,0,0,0,0,0,0,0,0,0,0,0,0,0,0,0,0,0,0,0,0,0,0,0,0,0,0,0,0,0,0,0,0,0,0,0,0,0,0,0,0,0,0,0,0,0,0,0,0,0,0,0,0,0,0,0,0,0,0,0,0,0,0,0],\"coloraxis\":\"coloraxis\",\"symbol\":\"circle\"},\"mode\":\"markers\",\"name\":\"0\",\"scene\":\"scene\",\"showlegend\":true,\"x\":[-0.32816861369125944,-0.3142307502583725,0.21683227239260433,-0.22370475652709593,-0.10279341642403798,-0.303070193226239,-0.3183623600573619,-0.1523680292713663,-0.247947489139309,-0.22545863234681385,0.12892597271664594,0.031019773766147136,-0.2659342839753373,-0.09234006012323986,-0.2729792160771408,-0.28747174134456827,-0.26751887702551447,-0.2786653568063289,-0.325817089203111,-0.14555509566083535,0.10315721554184565,-0.2903829344248594,-0.2126093806838406,-0.28968048529950713,-0.21671801750902167,-0.1512048728618627,-0.2794740925783679,-0.29372254428613664,-0.2863985049554762,-0.3322998653546097,-0.2877422260679434,-0.30190322817501863,-0.28722540269797725,-0.2664464413370422,0.6287786543743005,-0.3040524063234222,0.11381391943666726,0.07331658712346716,-0.08767756303663951,-0.28759126144525804,-0.2831515997610035,-0.2839594411275152,0.038864009627035435,-0.06583115895069726,-0.28443853435172284,-0.1989986205504156,-0.27310543341699334,-0.2601782543924701,-0.2854472459546349,-0.3020471902644727,-0.03878063594715641,1.1720582507360708,-0.3182673119937981,-0.22366988741114405,-0.2839572515809627,-0.26405564725226566,-0.2882133703027444,-0.11316935468357417,-0.2830780409231965,-0.24354322555191255,0.1808904096063013,-0.27157549214524535,-0.23144585374683732,-0.17189181366774045,-0.09172617242467265,-0.24641231626460786,-0.22373994102468492,-0.2820305409878968,-0.09228778275852681,-0.26775418376072196,-0.3254667818390069,-0.32792220677981854,0.17069924121382685,-0.2730306474269391,-0.29083529050612295,-0.28859434008394597,-0.056730432622388416,-0.32768097084003606,-0.20757945078672438,-0.05434909912569507,-0.2145311394048767,-0.06557222732629278,-0.3001632189588907,-0.23410544913970255,-0.17506127233351373,-0.20885486915059195,-0.13075518749192777,-0.30896272938762603,-0.2414116567212454,-0.28330069929698215,-0.07672782808552887,-0.3395191298109282,-0.28430835729730014,-0.32729505141508075,0.03527228573244665,-0.20468263052716662,-0.09208998848041061,-0.12667299594355566,2.925635201028806,-0.006314222193276709,0.24122105495955828,0.1119669543600212,-0.2881640977111851,-0.2534685321955208,-0.14247890441682945,-0.2800061205908098,-0.053616754292383516,-0.28751542697665916,-0.25119158642583844,-0.28381382398170296,-0.022591358529990304,-0.29194622110817225,-0.15254569369117393,-0.236620716131191,-0.09439916598032355,0.01631012013275746,-0.19413324685514216,-0.03859132519396617,-0.1013674689108068,-0.2850713337308473,-0.28930723895826405,-0.1960604873974535,-0.3994672713049883,-0.2861925914332569,-0.2237650138696616,0.025724902907984144,-0.1559182549882736,0.23570604267616035,-0.2994297058691741,-0.26272120052204645,-0.21347324447664925,-0.059475010977488564,-0.2762409602854824,-0.1047491501892099,-0.2828057517795042,-0.2902685130962493,-0.1422175398326283,-0.24533110123490912,-0.23241344973597006,0.3541876368788062,-0.07868967365053452,-0.30483913759452047,-0.2855873403132907,-0.2236709004800305,-0.24054332849448884,-0.27029643106251194,-1.1858527167571904,-0.26590803069770313,-0.15331832036331142,-0.30299524466728944,-0.29029834929926085,0.13911800461732526,0.0032748796262119543,-0.30856595834186307,-0.1713443601482961,-0.30664096144313796,-0.2451436686557028,-0.2887059173125014,-0.2674810616790461,-0.3274818053462479,0.4215412204825689,-0.2644815691075294,0.01669039813553823,-0.09785140536769123,-0.26419630156451795,-0.2595496840418374,-0.3229015450510532,-0.2527371428156342,-0.2519820240449235,-0.2563932615080647,-0.3254718204965613,-0.2893454361794177,0.012962403439275787,-0.019745699497959925,-0.327948536285958,-0.24086290317589698,-0.1317746585196933,-0.2596850526326691,-0.1636615874304317,-0.152789994691713,-0.2959759526614948,-0.3016389883135677,-0.10712755904924018,-0.24906231880741264,-0.2135317152414087,-0.33071631128822465,-0.29818079775609374,-0.14281795197853414,-0.15254048844426119,-0.2641272330499973,-0.05204636168892887,-0.21154187317735998,-0.2947383682672164,-0.2771776086198695,0.11793756688475915,-0.014724561322021074,-0.1521922237186253,-0.3248440290279112,-0.39776714490721016,-0.022643522886317463,-0.09428865411204504,-0.229750592015132,-0.0217389637018395,-0.18354803690835259,-0.24766320965634692,-0.22547814459333318,5.513895089576867,-0.30563746735474906,-0.24473388921435038,-0.09228295380444428,1.2375126977951414,-0.3269133783885719,-0.10085990105860225,-0.3301279592761468,-0.3086381756273872,-0.2841045317577489,-0.09785140536769123,-0.3207790711338644,-0.24015790250691463,-0.3213551607166268,-0.35112916918912856,-0.32554672675354573,-0.33066610300948923,-0.3259238477972274,-0.10860635874841765,-0.32612494140789944,0.372392011402551,-0.32951984750642904,-0.32772739233633447,-0.19713412435556282,-0.28797026704727907,-0.28867400932066223,-0.09179832152372279,-0.2577036100670007,-0.12289826999291839,-0.24904102964355446,-0.3277765959402095,-0.2893048460452306,-0.2779650131771269,-0.33252097004151465,-0.3559781100371907,-0.1740562787134888,-0.23279437564473243,-0.28567752542523756,-0.09680620546634487,-0.10617643731513039,-0.18794865057754467,-0.11727793191717363,-0.2860235594220361,-0.26136455761372435,-0.17236850332290385,0.038559530629132775,-0.2451935197141698,-0.6488916540031617,-0.29279967599423795,-0.2577988472886154,-0.016316757588762113,-0.2451013501977022,-0.23151951647921154,-0.08077948272511949,-0.1251940037010501,-0.3289273194096805,-0.32359976608090985,-0.1282993625544086,-0.09510989848281073,-0.31685393852330274,-0.28497696559701713,0.07318818236438455,-0.19091078664972114,-0.11097780678817377,-0.30141656195407085,0.3477138084460666,-0.09744883946398451,-0.2882448875436828,-0.04405410672581294,-0.30088665337538206,0.14575134672681503,-0.06666867824532029,-0.12834124538883593,-0.27083909206972717,0.1808333940786437,-0.2519584358461563,-0.21978474301342102,-0.2575359655782,-0.2275562266748417,-0.2884712954307814,-0.24212517508993245,-0.28953721595481763,-0.2953923851912211,-0.2862250116249376,-0.13074874727003294,-0.0966667973604846,-0.2473035791256721,-0.26687783951577104,2.343713458014129,-0.0021024888927995908,-0.20922562211450987,-0.312340324135416,-0.22710933285380464,-0.22370400212260697,-0.32887854040112335,-0.17397358681874034,12.395160382970005,-0.2930451351396614,-0.015450080038057382,1.4495311210912432,-0.26416175156453386,-0.30357286191962196,-0.2164391578221833,-0.2164273612532048,-0.3013836360125579,-0.32847388858185506,-0.042320436585536324,0.08934115977600922,0.3981134760664643,-0.3069538789514957,-0.07787179015766338,-0.24679494663062074,-0.24596523335233597,-0.33002263051186176,-0.25068820670173714,-0.2403464772004784,-0.22535035542116158,0.4526696194373774,-0.1918101741347519,-0.21611464291543683,-0.27312959812661974,-0.21250477985455696,-0.2981855645055471,-0.28088938495166743,-0.21569656734301,-0.15365832412867914,-0.32628332926673564,0.04360206605134286,-0.30085052773082205,-0.2264246212067039,-0.2436483237422026,-0.23179724493286102,-0.3291691770007722,3.8570381379558607,0.21197309473356807,-0.23564774762576712,-0.13576871822792969,-0.2965547984852902,0.26629761494291654,-0.050616334234309314,-0.21774002234735887,-0.0882858056417253,-0.18124878453240229,-0.28323613614647214,-0.349833922277823,-0.17632785629000672,-0.21729029183138723,-0.2246489592593322,-0.2956494410850415,0.22463596213710613,-0.2878498251952151,-0.24519598652890287,-0.19473105093260598,-0.06692993010497687,-0.2782984103875196,-0.32435501850267157,-0.32928489230549696,-0.20288837415606492,-0.2868355623341304,-0.21077451473122316,-0.28939563265745055,-0.08445937408394748,-0.13582664774778672,-0.2800542477483328,0.8110931571761258,-0.5618276721757007,-0.32804345012999897,-0.06315736227720474,-0.13662901487643755,-0.18352200719446066,-0.339536783759028,-0.09376541230041646,-0.28836653083208946,-0.051109084189198975,-0.09903918850032929,-0.32945265022487336,-0.21631776375539316,-0.2848427884240048,-0.31509038249705673,-0.17410435172137723,0.13018699923016197,-0.2416697721540659,0.062169945033050074,-0.27299794090723284,-0.23328924329492892,-0.24782096225931038,-0.3273411711807073,-0.322546728562401,-0.21261281294015838,-0.021569694930011426,-0.37396333746696053,-0.15242429693173487,-0.015995520769747553,-0.30235771375524384,3.5614109109168792,-0.21982154559170336,-0.2796871387823307,-0.05790783834018988,-0.04329783937342879,-0.1681868586671876,-0.3067954234680473,-0.22800898497389924,-0.2618767612875492,-0.24452892819372724,-0.23190751201608437,-0.17327623464847755,-0.3637360676157377,-0.04338043593861457,0.2475677982667116,0.6219577754142851,-0.16258771716400192,-0.17502686158794345,-0.09998894781233307,-0.16697789832917606,0.067463284763413,-0.3286935948132906,-0.16631306156730083,1.4072003498377923,-0.1716996160111283,-0.09582683464143477,1.8802823378869313,-0.270430877349498,-0.2709498191772023,-0.27636083206451795,-0.3099670909999866,-0.1901317230766488,-0.3270251505300093,-0.1678711726513758,-0.4253198490254052,-0.13323777639519227,-0.28477724847673175,-0.1282452885983632,-0.3544536925478667,-0.014634301495854212,-0.2700715581950167,1.9627418102850702,-0.17724908943104095,-0.2958082631328719,-0.1732790981267489,-0.10631242632321566,-0.20097429228024138,-0.015593619049215718,-0.14664362886690918,-0.2596449370028548,-0.31311075606387084,0.2786681710949525,-0.20415070960636697,0.6128325174809254,-0.11525083632273725,-0.1916763737880896,-0.35309923397533904,-0.22370403603046002,-0.3966638220822099,0.13248328390298417,-0.014130641598126008,-0.27667161213680586,0.04095931005293999,0.036983533041810686,-0.15535534427733438,-0.2678523121404153,-0.2774760030629726,-0.2980463177837348,-0.18256493867912138,-0.3268813758221523,-0.18281426471945617,-0.17272880031607216,0.16726380671362512,-0.19069884467916556,-0.17361298649006604,-0.3287052041064926,-0.11859092888699449,-0.11339249628949616,-0.33112526012610194,-0.2290829237914962,-0.21294996018588558,-0.15360345711308976,-0.3055775563429059,3.859745982263038,-0.0823952566867862,-0.28826485355614023,-0.1532600954170155,-0.18857073966081003,-0.290543120979094,0.03844141835283707,-0.32572200327486395,-0.15037508804025118,-0.15245567678781324,-0.121723954807218,-0.09453509015823387,-0.30740244886995854,0.03778362145210677,-0.12622797885146603,-0.2341048808872501,-0.3045879353760087,0.12090074762598296,-0.2721108182291998,-0.26618097289388826,-0.32392817920563055,-0.3176491146679408,-0.02156603104697964,-0.29733760376537754,-0.28755816723006805,-0.6599056433485574,-0.2516882506311904,5.514528587760952,-0.012530742182949138,-0.3471681531994419,-0.2677653832559186,-0.14644055637661516,-0.2512197703477244,-0.2736916703815028,3.835715522105329,-0.24695754729327604,3.836838481396348,0.030507815851353783,-0.48969030225262744,-0.017699008930680986,0.16871519815960487,2.625942347306102,-0.31610411223602,-0.03027615918375421,-0.22545958638423377,-0.20326790805837208],\"y\":[-0.0795346902806668,-0.07991405557465497,-0.10870738972950576,-0.23079585826492208,-0.17119933335852924,-0.2149615278750551,-0.07943339437094243,-0.23363804235836616,-0.17428948757634571,-0.2348143721861873,0.09182446667776287,-0.2511423517516403,-0.08764506916830926,-0.06429692796163129,-0.23451154978621497,-0.1597812370181031,-0.1809661786567609,-0.24391058560289458,-0.07894834648859941,-0.09705623787151428,-0.20611827801800747,-0.23815622008640408,-0.24825393449930805,-0.22401049209794177,-0.19041401551813042,-0.0967511529655366,-0.0746888566495501,-0.19241021068933328,-0.23300296317042538,-0.07870720822294311,-0.24031723607629749,-0.07116246278602029,-0.2365597114871876,-0.24337844954833107,-0.20235203285550646,-0.0655381136690162,-0.25169162823752517,-0.25606475017033603,-0.2553097818209945,-0.24032538808408113,-0.2396382315382379,-0.23744522634026077,0.016695762033915977,-0.06553786031713914,-0.23523395523722795,-0.35497941056605054,-0.24174279739436116,-0.23584828398305296,-0.24486666042347002,-0.09029343493251876,-0.03805401018326931,-0.32100428151191174,-0.07943852691484776,-0.23079774117828056,-0.23917825439339285,-0.19291026392259963,-0.23985099388424966,0.029722737644015472,-0.22315286626546862,-0.1427144391836344,-0.06167320028987119,-0.23343767866277765,-0.09101243775073942,-0.015129832879744487,-0.07119172708753552,-0.24655338212256267,-0.23079395832112715,-0.23656996369850225,-0.07116140043396925,-0.22972038248775006,-0.08910236739183815,-0.08129549997670654,-0.11413380061379448,-0.23450877252120808,-0.22394813324283194,-0.23695674006996872,-0.037084730893815976,-0.0813863069284714,-0.247719214169598,-0.03717507935429665,-0.24764136955765265,0.48161177971800634,-0.12015591138872815,-0.21942087404843272,-0.20241103553298367,-0.24924905553831955,-0.18607932494228674,-0.07501532805958912,-0.0890995995990625,-0.24868004117813977,-0.062093736102539904,-0.08616128695179004,-0.2391592948750535,-0.08446111963144706,-0.044795021492062596,-0.23544095340076862,-0.07117208121775863,-0.038320827613115754,-0.4496061844060905,-0.2698007217132009,-0.2848268663679039,0.0242411689124759,-0.2448544741671174,-0.08574145130053093,-0.07416626537010908,-0.23480165214480356,-0.04900994057121925,-0.24028913677193464,-0.08326876946334937,-0.23778580990027084,-0.047365488067598015,-0.20859098600357928,-0.09667874936764449,-0.10657300137231268,-0.14004456972333784,-0.0991192804166414,-0.03193707222101999,-0.19379831722610252,-0.19906851755856383,-0.23862065874299374,-0.09156571887134721,-0.24011775954411937,-0.5452144199251351,-0.24163259720041713,-0.230792604401091,-0.3076312624793004,-0.0847395601503648,0.2823986452105784,-0.2034949015477261,-0.6861789087612229,-0.24379816598974283,-0.6654302755309046,-0.22257834463165124,-0.045721063064469485,-0.24286705262216074,-0.22397873891570144,-0.04144511024332905,-0.17877030640390523,-0.06378493496234378,-0.24792341867118767,-0.03453541537989967,-0.15444168959606364,-0.23761543393840232,-0.23079768647310978,-0.04262862616492258,-0.20122964162665105,0.07486929405773006,-0.08764648683106907,-0.09774361466036353,-0.21496557505660674,-0.11958241286801669,-0.2667358092668015,-0.10944369370640838,-0.12179555975385004,-0.01684288429149546,-0.20301163559155838,-0.1771352241043702,-0.23448896866829544,-0.0019469278404567688,-0.08637727269600651,-0.04771793643698429,-0.10660507417548973,-0.16929636702550982,0.021806301520514767,-0.19290266866598998,-0.21757082278459614,-0.0806769487492612,-0.0871823973437506,-0.09786790165287472,-0.1253756617716524,-0.08424917038395162,-0.23774698529481741,0.13715305416643744,-0.10851549349746753,-0.08886898907877079,-0.08912923199301902,0.003533120114846032,-0.2175635129540777,-0.010174242666418781,-0.01915615264610284,-0.07736676498431928,-0.11858169919929214,-0.26175454461284214,-0.12944559086010549,-0.24654965337490783,-0.07408763441767759,-0.1331697052493109,-0.2422264986945381,-0.09667903044815583,-0.1710830467496338,-0.04909474092045894,-0.2449826179426921,-0.1266003050042732,-0.19476695123315735,-0.058827766444492245,0.04888826922262432,-0.09669783655453765,-0.08430425665609491,-0.2635982569610048,0.05247650346691142,-0.013633052042435466,-0.030993334687488664,0.04811532412632177,-0.039088220501907515,-0.18550403323924336,-0.23481331853545226,0.00840048478294324,-0.08149208876604058,-0.23748942223300845,-0.18483699764951314,-0.16029967938012182,-0.08091849534580986,0.024050532883584483,-0.07859523487862122,-0.12179166005958235,-0.2400196654901095,0.021806301520514767,-0.01610177273808123,-0.08784327077055737,-0.11408703881923947,-0.4933649774986016,-0.08202360676888658,-0.07867592404773002,-0.09243048695246561,-0.26282436168554546,-0.08860730724005456,-0.03911381567085205,-0.0818427761694238,-0.0738899756796137,0.11260555148667724,-0.12399925438647381,-0.2360288383315567,-0.25782314486816915,-0.6848806089996781,-0.09495988711959057,-0.12944674046341242,-0.07976571211148593,-0.0915658480873538,-0.23852501822158065,-0.08111730957306346,-0.31459768391812953,-0.014575575045849064,-0.2004109721744879,-0.24290309815592057,-0.021963170966609453,-0.12765153072041363,-0.2423232710184273,-0.03882815597725408,-0.2338977957834552,-0.44705350469018446,-0.014172428416510166,-0.9313801635990585,-0.07713830831210008,0.4309510104278984,-0.1309193189748802,-0.2861653978682465,0.05037493587111646,-0.07714328541602199,-0.25616880755368404,0.007500336319273119,-0.08307884600834088,-0.07701663863242444,-0.07928958916344658,-0.03823300469782152,-0.01749994583123061,-0.0983964075079014,-0.24042635864374212,-0.060522954844136466,-0.25227874276106355,0.019949853970405117,-0.11351957096051223,-0.19260899028178244,-0.01870391586443407,-0.24242124940901064,0.0541479290789306,-0.25049788494485165,0.01123695752117507,-0.19198735603809086,-0.30391871505254214,-0.1802769906120447,-0.23876439531454136,-0.1388667341330866,-0.17849134126785546,-0.09704773478863132,-0.033872745831793505,-0.2441570467693181,-0.06790754739560725,-0.2354897103049753,-0.11745361280487533,-0.23721087505939908,-0.07894768968246128,-0.21858303729132422,-0.08551040356570468,-0.2618620168848652,-0.38444464007781126,-0.27493114204365854,0.5142303215109372,-0.1652340206296196,-0.03389687785585781,-0.230795899002356,-0.08193286350903317,-0.009925653031260993,6.187654879455082,-0.20901452878203416,0.048078023575196055,-0.2831710016307953,-0.19290453434725868,-0.21493438403812068,-0.19042907379004323,-0.190429710798373,-0.14806449233161986,-0.08030711561997084,-0.2894163790783356,0.09583298177396372,-0.06511397842150503,-0.15245205323762254,-0.25201388202465874,-0.16277230021758848,-0.24419956060629205,-0.0814932580415363,-0.3227552645341862,0.17929652658332385,-0.2348202190814721,-0.12556148314453747,-0.0854015671444508,-0.1516531412364892,0.22412444539905765,-0.19350754151594377,-0.13316944784742474,0.03085385324271579,-0.1904691732733428,-0.031061728351127096,-0.08527284316413951,-0.028271738266567738,-0.23882430432706792,-0.29617023328889913,-0.18516825021262412,-0.3878778051471337,-0.0766858474328098,-0.04545664402338634,-0.18014135550173194,-0.0743484355029516,-0.23373275369616944,-0.09983073123248935,-0.3090102692929449,-0.24535512955920927,-0.21080009161154303,-0.0879621619913681,0.05666088115114683,-0.24430898629201125,-0.3128062254278233,-0.0764864425048951,-0.08104838993451192,-0.2398886663986903,-0.07738439643243841,-0.052777780695900764,-0.23633413170906944,-0.2915386790937068,0.05797324970262465,-0.25348996989422606,-0.24393040051057993,-0.07973928038545514,-0.08104242781287627,-0.07354745383561247,-0.23673208775488425,-0.24875779946356122,-0.23790209820698588,0.01510302483685819,0.04311735284258285,-0.056971745117919935,-0.3344829938461205,-0.5127118241005441,-0.08259032914815835,-0.32622468161020624,-0.24332702684104818,-0.1728450395582788,-0.048690481181847975,-0.013497564221242772,-0.211672757603725,-0.2559289290398109,-0.18447216463864988,-0.07979726805078051,14.591547577189923,-0.11622403607133544,0.0775212223092224,-0.014656352409209648,0.13776444766478527,-0.18220183843196044,-0.16793598355223585,-0.23451053865554106,-0.25469845023779364,-0.09607489894930166,-0.08602696288932216,-0.10436992229591209,-0.23615352867569323,-0.04742065734812906,-0.23161890623306242,-0.03216861601542747,0.04354003922904459,-0.09342626641796382,-0.08020974068911425,-0.1784893539485797,0.030788932601337686,0.008577761320509419,-0.28347836936024223,-0.05252811371152146,-0.08534410637166656,-0.24129063574000562,-0.6828791850888447,0.011401977770631658,-0.2848324427183827,-0.013318576774679543,-0.23658808135409065,-0.2902325243033878,-0.15178330929032643,-0.32427439436001093,-0.09159529550992242,-0.01058774084004759,-0.22536497757061563,-0.048642766109515206,-0.16822182102803085,-0.11359690529179232,-0.08133669352012994,-0.3802453963480352,0.1514261199981263,-0.027484433710117953,0.13284823003089558,-0.1827506899899301,-0.25570777223591346,-0.22257187162056855,-0.01926048120762278,0.015057401274403859,0.07994595134129474,-0.014742229631916138,0.19086307150395812,0.05912076748739594,-0.24368924836522307,-0.03823592466213326,-0.31193529264681197,0.12974812131452654,-0.09555453075428584,-0.24115293942368002,-0.0026460922624175318,-0.07737582012795657,-0.013465058513183074,0.013606815418665933,-0.3702016730873474,-0.17032335499474788,-0.02944903109938366,-0.21756567917634004,-0.08557394639874882,0.1342922743029546,-0.15282445680408488,1.1011105703205508,-0.24542700885687893,0.06394221334174555,-0.22687379384661033,-0.23079589717135027,0.44890521298826785,-0.04730216900895757,-0.28790437043811684,0.01160564471254196,0.08850378538470632,0.08815588495777553,-0.06613261628013929,-0.2586706155163033,-0.19160123850939179,-0.1331769670949136,-0.243779889832997,0.08450941401838626,-0.24005425449924253,0.1589798781041806,-0.10898166582853935,-0.19146423575442553,-0.008029646838515161,-0.11359627839625318,0.010494772681102044,-0.10323390328642192,-0.07703973989634813,-0.24021152448174152,-0.2416792078215572,-0.22738541294859282,-0.08149532392820076,0.010832360203522592,-0.09845895998466453,-0.24016569205782404,-0.08488309932616145,-0.3454305281237874,-0.06967563033352633,0.08842922728234544,-0.07740853255250264,-0.08176372992860845,-0.0966836102316254,-0.08326622676741244,-0.14003722989141837,-0.1082582688354236,-0.10895548736936875,-0.02658778555925241,-0.21942090473375694,-0.035653698951917646,-0.19251759877032035,-0.10587840690176484,-0.19234716129542442,-0.08206458058830297,-0.10722207089688437,0.05423445732674822,-0.20571217415710202,-0.2374842784951717,-0.19684314334293185,-0.10982838718890914,0.008439466777833722,-0.014638909792546367,-0.11847105181851073,-0.22735947347011917,-0.2378233778460588,-0.08048430796688603,-0.5664572786538441,-0.047625041382140985,-0.18159775524204688,-0.047685680575073525,0.012578897277781356,0.1464119563368173,0.039263810205413786,0.09776404826736487,-0.13995058365461463,-0.12260265777962921,-0.2894723737547902,-0.23481432066868307,-0.02347779870753747],\"z\":[0.06257420237167402,0.05988595591769804,-0.03207986037492307,-0.0010610905143598533,-0.11630922331191958,-0.0028436598453410625,0.05178966981518442,-0.04361403541321181,-0.13278297718662985,-0.044801866739121746,0.39291998890473545,-0.15721100234023624,0.0729074842853162,-0.04137991370360864,-0.009017030396269774,-0.3074287361488608,-0.027132149881036724,-0.0010572722091187685,0.06519090502432662,0.03341818128273578,-0.1416948486355355,-0.004769213934210986,0.019084171933163547,0.0022953131135160405,-0.014489655755140449,0.03388914706260374,-0.07730227325001902,-0.041353917914739635,-0.004629825774315877,0.06671613612679923,-0.0026713503431110464,0.03887852088034399,-0.005174701553685409,0.07725418814737517,0.0426198467091677,-0.05517667383723582,-0.2215591456030544,-0.06745478169639388,-0.022687509457409598,-0.0026839347634741097,-0.008476441307884221,-0.00627547104559476,-0.05571706713601885,0.05120314480895942,-0.003723038167103093,-0.1668651444647483,-0.00026782422356082524,-0.022224860706469833,-0.006070758734757512,0.024187941581882685,-0.01389262439130283,-0.1288723111206292,0.05178174660266457,-0.0010639972060287255,-0.006383692399441009,-0.013996084671919254,-0.004109249829464688,0.24467128371580135,0.012590492904906922,-0.04903282834635556,-0.018779656191018294,-0.021312402040965045,0.0815984929376406,-0.007954028437965254,0.009825956160438295,-0.006574269715827808,-0.0010581575324351664,-0.0051880813114188636,0.009872772032898184,-0.09231862149633938,0.05338936487549054,0.05986668065335978,0.007055200035329341,-0.009012743075742607,0.0023915777475677813,-0.007705039080050867,-0.01239632822088438,0.03921824829438177,0.01936068673313372,-0.09640285640931749,0.013173225258771449,0.12981454883714452,0.005471738433461785,0.020571596502677,-0.02096036992163993,0.015836680113851385,-0.019066126287536827,0.056475671902559574,0.025394633592974017,-0.026647745562962413,0.054677929196613254,0.07590593022071923,-0.006354424205028037,0.03880383970888831,-0.08785954404243165,-0.05288282845397024,0.009856283889537102,0.038547085573999045,-0.47256423189350877,-0.15855160446534025,0.15671994324655844,-0.03666373055204923,-0.004293480174175768,0.07853522386600026,-0.004569287681953025,-0.005780385874732101,0.0007688756183440607,-0.0017668901656529765,0.002700571996090057,0.000655438499498034,-0.005382382955639596,0.010286741853720013,0.03400091797056519,-0.005505451030419663,-0.001969088947914429,-0.017319330405278617,-0.020409074339597436,-0.0945427750782335,0.0296495412892223,-0.007384329098306385,0.025934715630877878,-0.05336544909287496,0.04368159619562034,0.0023267821774702545,-0.001056067458513812,0.020695451754230987,0.020857294631620664,0.9732189783618852,-0.00634714547080119,0.13011251101400093,0.016290365107732907,-0.6430201293680511,-0.022169891454645135,0.051332821915765166,-0.002231927066672682,0.002344331147329043,-0.007859513971338786,-0.23325574991831877,0.012175091626892441,0.1496030908587778,0.04661065473819591,-0.4227622532505528,-0.020380038334796003,-0.0010639127565435168,-0.03699854737450065,-0.022583005690804635,-0.17396635260311516,0.07290529581045534,0.021714807857220523,-0.002849907561888042,0.03710319002566252,-0.0153437189689932,-0.0036869910038278227,0.052540993333851774,-0.010324950687789672,-0.01597076064308657,-0.11366394752326182,-0.0011921633692873268,0.33816692846858154,0.04638871562877187,-0.06042030427157716,0.06208887955926813,0.09242306987171899,-0.06378711489808886,-0.013984359719677146,-0.04774521981593526,0.0462015261359371,0.08132917752570312,0.08300848912309479,-0.07891933562651596,0.044065952231578144,-0.009009291757845312,-0.20986277856135951,-0.01240520418880522,0.05882645233700964,0.025348889463206528,-0.03590834842822671,-0.04773393548176027,-0.023198504168385495,-0.04201617051072173,0.023153948300177505,-0.05044895275416897,-0.12438968687097555,0.03887854350213225,0.013124222292278434,0.04483556772039449,0.030909601067551806,-0.15048381655774615,0.0340004840608581,-0.018610893086020715,0.0006379675929712632,0.014062703107958202,-0.5462115149955578,-0.019986450889399425,0.006387283290382882,-0.11781111908859626,0.03397145269160675,0.03307732261642556,-0.10915622124637675,-0.11676171767494684,-0.06652697518774695,0.02355712829998693,-0.11458756445448136,0.032265997118991134,-0.22989848702482155,-0.04480024019703469,-0.18622413205079855,0.006787030494007,-0.0493080312815429,-0.02583815373543409,-0.12313809262030188,0.04345139499043225,-0.05344823797156561,0.06065447946095949,0.05254701337127729,-0.01861503497946237,-0.06378711489808886,0.06785689308152158,0.03390108578210983,0.04673114811503286,-1.0270973831075525,0.05508045192501715,0.061876542895732085,0.03782991165535121,-0.11208805690563797,0.05849174441844656,-0.06489988766978928,0.06341417894462346,0.06435671927075873,-0.04482281464302495,0.15856008106410022,-0.008841675743951229,-0.13767311846959016,0.11821667453244407,0.027964527233794414,0.038876768836105254,0.03619433684771645,0.025934516157498325,-0.029279448362411257,0.06047857222617638,-0.07451106430544062,-0.008335981452785688,0.14663610441151192,-0.007049404101093372,-0.0624935204549799,-0.01441209513389428,-0.07013571924348248,0.037763912450767496,-0.006192234965251799,0.044991097316262274,-0.0013657890938809031,-0.09324827519665742,0.01228512966892274,-0.1421562498322488,0.07223731226051533,-0.049431340425696725,-0.12201717555758466,0.012277446412281231,-0.0378099137774599,-0.08998942858145365,0.014731139479869645,0.0611538958007354,0.06239747472426933,0.03868265959611985,0.013678087037214924,0.0409664213779528,-0.003779075831987042,-0.04513749817086128,0.01341902840125847,-0.06977711099248392,0.01805419219902051,-0.47376033639986037,0.01254158434223302,-0.008136075927402552,-0.09677149082995011,-0.0595901242798234,-0.018650052499865767,-0.015085578509328375,0.4624121438734972,-0.05595571699822611,-0.15632021085324624,-0.009820551298194626,-0.027658773584840018,-0.004221213147992344,0.02497213405305952,-0.010316229866948988,-0.004187640615469342,-0.004259341032141244,0.02791483131473133,-0.028121804862451198,0.020530830989295857,-0.16933790320506403,0.0031460277713513097,-0.01794893079103585,-0.23761244656125743,-0.2670714719339039,0.08093385495273459,0.01943962501508108,0.02493488095626341,-0.0010611534015537286,0.038839148565701295,-0.01274757056615719,10.455328539729608,0.011362387588626907,-0.11328645260203929,-0.137374131278213,-0.01398723980983086,-0.0028017573517064224,-0.014512901516027977,-0.014513884878754097,0.030538485891370867,0.06462868569164341,-0.2130539988457345,0.3939514801097436,-0.4635336758337232,-0.013964621751596408,-0.0987386885587575,-0.06910147439774576,-0.030042245139410065,0.06580197054537855,-0.1097691630254506,0.23964364626201948,-0.0448108927103973,-0.009983964425635981,0.033323312814179815,-0.050028046310047716,0.14393040239453783,-0.23369149341513823,0.03090999842408366,-0.014345840290037973,-0.014574803904689222,-0.025563489849635645,0.05896532368805979,0.005399862826212715,-0.14290444850088588,-0.1298470421997334,-0.22749687017466244,-0.15837214745542655,0.045320751828318476,-0.17044581380630267,-0.04400893867849877,-0.0067505387839248586,-0.208950835660229,0.01743171949853644,-0.2400431587916278,-0.15913086911929403,-0.15989520401039922,-0.06864152063532473,-0.04301643093865015,-0.024862560048365526,-0.07624995443486246,0.024330308360077796,0.04118322635684561,-0.01191728583385926,0.023126730274799494,-0.19871436254298055,-0.023248759878325358,-0.07804620768584968,-0.044701325555109354,-0.08123998865485708,-0.00108786088547811,0.061343050095795985,0.05291623899571149,-0.01544406135989126,-0.039777839418734105,0.012676711973956426,-0.07396794530822215,-0.11680455941826154,-0.24000353022752488,0.022405256842829527,-0.2888186432813572,-0.5170664444967669,0.057436475194995236,-0.20084460955572958,-0.058319660349108876,-0.10826402264589265,0.11084268828359088,-0.05785561938709094,0.014190643511829474,-0.026393023135105876,-0.02527495358978249,-0.05450385536998345,1.3632962037517313,-0.00781095901386335,0.1251947213582899,-0.012058381111707695,-0.02223111282438494,-0.23622933245908295,-0.10438959467769458,-0.00901546949326508,-0.06113253554164398,0.007865809291977329,0.057978976089541855,0.0509731550443226,-0.058013436391824096,-0.0054675488970570415,-0.06500232449879705,-0.02841542735537201,-0.11883368212373858,0.019938390288411083,-0.20522763490959794,-0.027655705719619037,-0.0144460596057007,-0.07872598364595763,-0.21622235505819465,-0.12605774188265642,0.05189901235719725,-0.03746444792969342,0.11199533791302495,0.10556544238349203,0.2211725215569563,-0.005771389786486522,-0.054913198775098246,-0.2144059214926677,-0.047141543790185786,-0.25896493593051273,0.03896923318728927,-0.005700713182769058,0.3851971116993803,0.011438219379984738,-0.10483084780777582,0.03711813455233291,-0.30137466772440297,0.014753280228172093,-0.08643253702019428,0.006587207676925055,-0.021613148906464184,-0.16259029373531048,-0.02514329138530673,-0.02215989893566793,-0.09266645470467606,-0.03804076360572888,-0.010668399324876069,-0.011593481722198888,0.22534556741996717,-0.04356613488679238,-0.005150036782116042,0.03867815198777138,-0.08310819688738776,-0.10586119539319934,0.02178552635025647,-0.21845573355964215,-0.02149458881125344,0.023139969690612265,-0.0067070259898534745,-0.07218895681006675,0.14041898903666863,-0.3055304960996971,-0.020915315172400504,-0.04773727952316391,0.05595435052210271,0.45110382153701983,-0.08644693528216993,-0.10330059491742825,-0.08360483196725915,0.04728624682272475,-0.04692210952161286,-0.001061150574992844,0.35651003130643244,-0.028169195432147274,-0.21432832282653055,-0.0620960369799013,-0.3299738837298946,-0.33405251629115473,-0.05093031732932272,-0.02578814035365197,-0.015686140158980785,0.03089839080866813,-0.07530732864122805,-0.013825035395027363,-0.07566775100786563,-0.08800379432065554,0.021837555400618144,0.021082053746523007,-0.02412255826984886,0.03711910230373811,0.07199274446787014,-0.07381487778120215,0.040436295719410646,0.0068729949855705855,-0.06118183571597325,0.1699939596849749,0.006782036308323517,-0.16040364292712656,0.043197698100620255,-0.006415301466047524,0.020635710283964843,-0.12191536533700457,0.021416963022553748,-0.33788928451341876,0.0563155341770255,0.005666649996520799,0.033993414155886574,0.014441875987644974,-0.0019577582999659405,0.05038504019986674,0.05797864134513694,0.025085228662421046,0.020571549133117092,0.0240779288145136,-0.038272512644395545,-0.00027797622074502375,-0.06043991221666638,0.04284112184114534,0.0502551627071951,-0.10915270516000374,0.011045894785707285,-0.010847061794540465,-0.23218898403173835,0.02597229896884945,-0.18281772161961304,-0.024668897056805725,0.018838726946114076,-0.09572280231919808,-0.2019711871103282,0.0014437846804518165,0.3189054373132674,-0.16510337957096058,-0.2353008120346374,-0.16519698952750117,0.012522625408908116,-0.0440779327056887,-0.11085560101870935,-0.056934507927651874,-0.17281548828400636,0.04232381434622949,-0.2132940561200809,-0.044801787210502604,0.0056709546497961325],\"type\":\"scatter3d\"},{\"customdata\":[[\"Proof-of-BibleHash\"]],\"hovertemplate\":\"<b>%{hovertext}</b><br><br>Class=%{marker.color}<br>PC 1=%{x}<br>PC 2=%{y}<br>PC 3=%{z}<br>Algorithm=%{customdata[0]}<extra></extra>\",\"hovertext\":[\"BiblePay\"],\"legendgroup\":\"3\",\"marker\":{\"color\":[3],\"coloraxis\":\"coloraxis\",\"symbol\":\"diamond\"},\"mode\":\"markers\",\"name\":\"3\",\"scene\":\"scene\",\"showlegend\":true,\"x\":[-0.21627832438872002],\"y\":[21.524040960500475],\"z\":[29.238098718502112],\"type\":\"scatter3d\"},{\"customdata\":[[\"SHA-256 + Hive\"]],\"hovertemplate\":\"<b>%{hovertext}</b><br><br>Class=%{marker.color}<br>PC 1=%{x}<br>PC 2=%{y}<br>PC 3=%{z}<br>Algorithm=%{customdata[0]}<extra></extra>\",\"hovertext\":[\"LitecoinCash\"],\"legendgroup\":\"1\",\"marker\":{\"color\":[1],\"coloraxis\":\"coloraxis\",\"symbol\":\"square\"},\"mode\":\"markers\",\"name\":\"1\",\"scene\":\"scene\",\"showlegend\":true,\"x\":[-0.2623006765992402],\"y\":[29.338478249060923],\"z\":[-24.689154657919254],\"type\":\"scatter3d\"},{\"customdata\":[[\"TRC10\"]],\"hovertemplate\":\"<b>%{hovertext}</b><br><br>Class=%{marker.color}<br>PC 1=%{x}<br>PC 2=%{y}<br>PC 3=%{z}<br>Algorithm=%{customdata[0]}<extra></extra>\",\"hovertext\":[\"BitTorrent\"],\"legendgroup\":\"2\",\"marker\":{\"color\":[2],\"coloraxis\":\"coloraxis\",\"symbol\":\"x\"},\"mode\":\"markers\",\"name\":\"2\",\"scene\":\"scene\",\"showlegend\":true,\"x\":[36.43067427469124],\"y\":[-1.934342674433774],\"z\":[-3.333155105905983],\"type\":\"scatter3d\"}],                        {\"template\":{\"data\":{\"histogram2dcontour\":[{\"type\":\"histogram2dcontour\",\"colorbar\":{\"outlinewidth\":0,\"ticks\":\"\"},\"colorscale\":[[0.0,\"#0d0887\"],[0.1111111111111111,\"#46039f\"],[0.2222222222222222,\"#7201a8\"],[0.3333333333333333,\"#9c179e\"],[0.4444444444444444,\"#bd3786\"],[0.5555555555555556,\"#d8576b\"],[0.6666666666666666,\"#ed7953\"],[0.7777777777777778,\"#fb9f3a\"],[0.8888888888888888,\"#fdca26\"],[1.0,\"#f0f921\"]]}],\"choropleth\":[{\"type\":\"choropleth\",\"colorbar\":{\"outlinewidth\":0,\"ticks\":\"\"}}],\"histogram2d\":[{\"type\":\"histogram2d\",\"colorbar\":{\"outlinewidth\":0,\"ticks\":\"\"},\"colorscale\":[[0.0,\"#0d0887\"],[0.1111111111111111,\"#46039f\"],[0.2222222222222222,\"#7201a8\"],[0.3333333333333333,\"#9c179e\"],[0.4444444444444444,\"#bd3786\"],[0.5555555555555556,\"#d8576b\"],[0.6666666666666666,\"#ed7953\"],[0.7777777777777778,\"#fb9f3a\"],[0.8888888888888888,\"#fdca26\"],[1.0,\"#f0f921\"]]}],\"heatmap\":[{\"type\":\"heatmap\",\"colorbar\":{\"outlinewidth\":0,\"ticks\":\"\"},\"colorscale\":[[0.0,\"#0d0887\"],[0.1111111111111111,\"#46039f\"],[0.2222222222222222,\"#7201a8\"],[0.3333333333333333,\"#9c179e\"],[0.4444444444444444,\"#bd3786\"],[0.5555555555555556,\"#d8576b\"],[0.6666666666666666,\"#ed7953\"],[0.7777777777777778,\"#fb9f3a\"],[0.8888888888888888,\"#fdca26\"],[1.0,\"#f0f921\"]]}],\"heatmapgl\":[{\"type\":\"heatmapgl\",\"colorbar\":{\"outlinewidth\":0,\"ticks\":\"\"},\"colorscale\":[[0.0,\"#0d0887\"],[0.1111111111111111,\"#46039f\"],[0.2222222222222222,\"#7201a8\"],[0.3333333333333333,\"#9c179e\"],[0.4444444444444444,\"#bd3786\"],[0.5555555555555556,\"#d8576b\"],[0.6666666666666666,\"#ed7953\"],[0.7777777777777778,\"#fb9f3a\"],[0.8888888888888888,\"#fdca26\"],[1.0,\"#f0f921\"]]}],\"contourcarpet\":[{\"type\":\"contourcarpet\",\"colorbar\":{\"outlinewidth\":0,\"ticks\":\"\"}}],\"contour\":[{\"type\":\"contour\",\"colorbar\":{\"outlinewidth\":0,\"ticks\":\"\"},\"colorscale\":[[0.0,\"#0d0887\"],[0.1111111111111111,\"#46039f\"],[0.2222222222222222,\"#7201a8\"],[0.3333333333333333,\"#9c179e\"],[0.4444444444444444,\"#bd3786\"],[0.5555555555555556,\"#d8576b\"],[0.6666666666666666,\"#ed7953\"],[0.7777777777777778,\"#fb9f3a\"],[0.8888888888888888,\"#fdca26\"],[1.0,\"#f0f921\"]]}],\"surface\":[{\"type\":\"surface\",\"colorbar\":{\"outlinewidth\":0,\"ticks\":\"\"},\"colorscale\":[[0.0,\"#0d0887\"],[0.1111111111111111,\"#46039f\"],[0.2222222222222222,\"#7201a8\"],[0.3333333333333333,\"#9c179e\"],[0.4444444444444444,\"#bd3786\"],[0.5555555555555556,\"#d8576b\"],[0.6666666666666666,\"#ed7953\"],[0.7777777777777778,\"#fb9f3a\"],[0.8888888888888888,\"#fdca26\"],[1.0,\"#f0f921\"]]}],\"mesh3d\":[{\"type\":\"mesh3d\",\"colorbar\":{\"outlinewidth\":0,\"ticks\":\"\"}}],\"scatter\":[{\"fillpattern\":{\"fillmode\":\"overlay\",\"size\":10,\"solidity\":0.2},\"type\":\"scatter\"}],\"parcoords\":[{\"type\":\"parcoords\",\"line\":{\"colorbar\":{\"outlinewidth\":0,\"ticks\":\"\"}}}],\"scatterpolargl\":[{\"type\":\"scatterpolargl\",\"marker\":{\"colorbar\":{\"outlinewidth\":0,\"ticks\":\"\"}}}],\"bar\":[{\"error_x\":{\"color\":\"#2a3f5f\"},\"error_y\":{\"color\":\"#2a3f5f\"},\"marker\":{\"line\":{\"color\":\"#E5ECF6\",\"width\":0.5},\"pattern\":{\"fillmode\":\"overlay\",\"size\":10,\"solidity\":0.2}},\"type\":\"bar\"}],\"scattergeo\":[{\"type\":\"scattergeo\",\"marker\":{\"colorbar\":{\"outlinewidth\":0,\"ticks\":\"\"}}}],\"scatterpolar\":[{\"type\":\"scatterpolar\",\"marker\":{\"colorbar\":{\"outlinewidth\":0,\"ticks\":\"\"}}}],\"histogram\":[{\"marker\":{\"pattern\":{\"fillmode\":\"overlay\",\"size\":10,\"solidity\":0.2}},\"type\":\"histogram\"}],\"scattergl\":[{\"type\":\"scattergl\",\"marker\":{\"colorbar\":{\"outlinewidth\":0,\"ticks\":\"\"}}}],\"scatter3d\":[{\"type\":\"scatter3d\",\"line\":{\"colorbar\":{\"outlinewidth\":0,\"ticks\":\"\"}},\"marker\":{\"colorbar\":{\"outlinewidth\":0,\"ticks\":\"\"}}}],\"scattermapbox\":[{\"type\":\"scattermapbox\",\"marker\":{\"colorbar\":{\"outlinewidth\":0,\"ticks\":\"\"}}}],\"scatterternary\":[{\"type\":\"scatterternary\",\"marker\":{\"colorbar\":{\"outlinewidth\":0,\"ticks\":\"\"}}}],\"scattercarpet\":[{\"type\":\"scattercarpet\",\"marker\":{\"colorbar\":{\"outlinewidth\":0,\"ticks\":\"\"}}}],\"carpet\":[{\"aaxis\":{\"endlinecolor\":\"#2a3f5f\",\"gridcolor\":\"white\",\"linecolor\":\"white\",\"minorgridcolor\":\"white\",\"startlinecolor\":\"#2a3f5f\"},\"baxis\":{\"endlinecolor\":\"#2a3f5f\",\"gridcolor\":\"white\",\"linecolor\":\"white\",\"minorgridcolor\":\"white\",\"startlinecolor\":\"#2a3f5f\"},\"type\":\"carpet\"}],\"table\":[{\"cells\":{\"fill\":{\"color\":\"#EBF0F8\"},\"line\":{\"color\":\"white\"}},\"header\":{\"fill\":{\"color\":\"#C8D4E3\"},\"line\":{\"color\":\"white\"}},\"type\":\"table\"}],\"barpolar\":[{\"marker\":{\"line\":{\"color\":\"#E5ECF6\",\"width\":0.5},\"pattern\":{\"fillmode\":\"overlay\",\"size\":10,\"solidity\":0.2}},\"type\":\"barpolar\"}],\"pie\":[{\"automargin\":true,\"type\":\"pie\"}]},\"layout\":{\"autotypenumbers\":\"strict\",\"colorway\":[\"#636efa\",\"#EF553B\",\"#00cc96\",\"#ab63fa\",\"#FFA15A\",\"#19d3f3\",\"#FF6692\",\"#B6E880\",\"#FF97FF\",\"#FECB52\"],\"font\":{\"color\":\"#2a3f5f\"},\"hovermode\":\"closest\",\"hoverlabel\":{\"align\":\"left\"},\"paper_bgcolor\":\"white\",\"plot_bgcolor\":\"#E5ECF6\",\"polar\":{\"bgcolor\":\"#E5ECF6\",\"angularaxis\":{\"gridcolor\":\"white\",\"linecolor\":\"white\",\"ticks\":\"\"},\"radialaxis\":{\"gridcolor\":\"white\",\"linecolor\":\"white\",\"ticks\":\"\"}},\"ternary\":{\"bgcolor\":\"#E5ECF6\",\"aaxis\":{\"gridcolor\":\"white\",\"linecolor\":\"white\",\"ticks\":\"\"},\"baxis\":{\"gridcolor\":\"white\",\"linecolor\":\"white\",\"ticks\":\"\"},\"caxis\":{\"gridcolor\":\"white\",\"linecolor\":\"white\",\"ticks\":\"\"}},\"coloraxis\":{\"colorbar\":{\"outlinewidth\":0,\"ticks\":\"\"}},\"colorscale\":{\"sequential\":[[0.0,\"#0d0887\"],[0.1111111111111111,\"#46039f\"],[0.2222222222222222,\"#7201a8\"],[0.3333333333333333,\"#9c179e\"],[0.4444444444444444,\"#bd3786\"],[0.5555555555555556,\"#d8576b\"],[0.6666666666666666,\"#ed7953\"],[0.7777777777777778,\"#fb9f3a\"],[0.8888888888888888,\"#fdca26\"],[1.0,\"#f0f921\"]],\"sequentialminus\":[[0.0,\"#0d0887\"],[0.1111111111111111,\"#46039f\"],[0.2222222222222222,\"#7201a8\"],[0.3333333333333333,\"#9c179e\"],[0.4444444444444444,\"#bd3786\"],[0.5555555555555556,\"#d8576b\"],[0.6666666666666666,\"#ed7953\"],[0.7777777777777778,\"#fb9f3a\"],[0.8888888888888888,\"#fdca26\"],[1.0,\"#f0f921\"]],\"diverging\":[[0,\"#8e0152\"],[0.1,\"#c51b7d\"],[0.2,\"#de77ae\"],[0.3,\"#f1b6da\"],[0.4,\"#fde0ef\"],[0.5,\"#f7f7f7\"],[0.6,\"#e6f5d0\"],[0.7,\"#b8e186\"],[0.8,\"#7fbc41\"],[0.9,\"#4d9221\"],[1,\"#276419\"]]},\"xaxis\":{\"gridcolor\":\"white\",\"linecolor\":\"white\",\"ticks\":\"\",\"title\":{\"standoff\":15},\"zerolinecolor\":\"white\",\"automargin\":true,\"zerolinewidth\":2},\"yaxis\":{\"gridcolor\":\"white\",\"linecolor\":\"white\",\"ticks\":\"\",\"title\":{\"standoff\":15},\"zerolinecolor\":\"white\",\"automargin\":true,\"zerolinewidth\":2},\"scene\":{\"xaxis\":{\"backgroundcolor\":\"#E5ECF6\",\"gridcolor\":\"white\",\"linecolor\":\"white\",\"showbackground\":true,\"ticks\":\"\",\"zerolinecolor\":\"white\",\"gridwidth\":2},\"yaxis\":{\"backgroundcolor\":\"#E5ECF6\",\"gridcolor\":\"white\",\"linecolor\":\"white\",\"showbackground\":true,\"ticks\":\"\",\"zerolinecolor\":\"white\",\"gridwidth\":2},\"zaxis\":{\"backgroundcolor\":\"#E5ECF6\",\"gridcolor\":\"white\",\"linecolor\":\"white\",\"showbackground\":true,\"ticks\":\"\",\"zerolinecolor\":\"white\",\"gridwidth\":2}},\"shapedefaults\":{\"line\":{\"color\":\"#2a3f5f\"}},\"annotationdefaults\":{\"arrowcolor\":\"#2a3f5f\",\"arrowhead\":0,\"arrowwidth\":1},\"geo\":{\"bgcolor\":\"white\",\"landcolor\":\"#E5ECF6\",\"subunitcolor\":\"white\",\"showland\":true,\"showlakes\":true,\"lakecolor\":\"white\"},\"title\":{\"x\":0.05},\"mapbox\":{\"style\":\"light\"}}},\"scene\":{\"domain\":{\"x\":[0.0,1.0],\"y\":[0.0,1.0]},\"xaxis\":{\"title\":{\"text\":\"PC 1\"}},\"yaxis\":{\"title\":{\"text\":\"PC 2\"}},\"zaxis\":{\"title\":{\"text\":\"PC 3\"}}},\"coloraxis\":{\"colorbar\":{\"title\":{\"text\":\"Class\"}},\"colorscale\":[[0.0,\"#0d0887\"],[0.1111111111111111,\"#46039f\"],[0.2222222222222222,\"#7201a8\"],[0.3333333333333333,\"#9c179e\"],[0.4444444444444444,\"#bd3786\"],[0.5555555555555556,\"#d8576b\"],[0.6666666666666666,\"#ed7953\"],[0.7777777777777778,\"#fb9f3a\"],[0.8888888888888888,\"#fdca26\"],[1.0,\"#f0f921\"]]},\"legend\":{\"title\":{\"text\":\"Class\"},\"tracegroupgap\":0,\"x\":0,\"y\":1},\"margin\":{\"t\":60},\"width\":800},                        {\"responsive\": true}                    ).then(function(){\n",
       "                            \n",
       "var gd = document.getElementById('1d151e0a-fba3-4fad-ba5a-8c079c42adb6');\n",
       "var x = new MutationObserver(function (mutations, observer) {{\n",
       "        var display = window.getComputedStyle(gd).display;\n",
       "        if (!display || display === 'none') {{\n",
       "            console.log([gd, 'removed!']);\n",
       "            Plotly.purge(gd);\n",
       "            observer.disconnect();\n",
       "        }}\n",
       "}});\n",
       "\n",
       "// Listen for the removal of the full notebook cells\n",
       "var notebookContainer = gd.closest('#notebook-container');\n",
       "if (notebookContainer) {{\n",
       "    x.observe(notebookContainer, {childList: true});\n",
       "}}\n",
       "\n",
       "// Listen for the clearing of the current output cell\n",
       "var outputEl = gd.closest('.output');\n",
       "if (outputEl) {{\n",
       "    x.observe(outputEl, {childList: true});\n",
       "}}\n",
       "\n",
       "                        })                };                });            </script>        </div>"
      ]
     },
     "metadata": {},
     "output_type": "display_data"
    }
   ],
   "source": [
    "# Creating a 3D-Scatter with the PCA data and the clusters\n",
    "fig = px.scatter_3d(clustered_df, x=\"PC 1\", y=\"PC 2\", z=\"PC 3\", color=\"Class\", symbol=\"Class\", hover_name=\"CoinName\", hover_data=['Algorithm'], width=800)\n",
    "fig.update_layout(legend=dict(x=0,y=1))\n",
    "fig.show()\n"
   ]
  },
  {
   "cell_type": "code",
   "execution_count": 60,
   "metadata": {},
   "outputs": [
    {
     "data": {},
     "metadata": {},
     "output_type": "display_data"
    },
    {
     "data": {
      "application/vnd.holoviews_exec.v0+json": "",
      "text/html": [
       "<div id='1557'>\n",
       "  <div class=\"bk-root\" id=\"e1b7831c-b66b-4a5d-8fc6-e9b3d0db71d9\" data-root-id=\"1557\"></div>\n",
       "</div>\n",
       "<script type=\"application/javascript\">(function(root) {\n",
       "  function embed_document(root) {\n",
       "    var docs_json = {\"7b4ea92d-4ae4-4bd6-9292-edcd1f7bc7ee\":{\"defs\":[{\"extends\":null,\"module\":null,\"name\":\"ReactiveHTML1\",\"overrides\":[],\"properties\":[]},{\"extends\":null,\"module\":null,\"name\":\"FlexBox1\",\"overrides\":[],\"properties\":[{\"default\":\"flex-start\",\"kind\":null,\"name\":\"align_content\"},{\"default\":\"flex-start\",\"kind\":null,\"name\":\"align_items\"},{\"default\":\"row\",\"kind\":null,\"name\":\"flex_direction\"},{\"default\":\"wrap\",\"kind\":null,\"name\":\"flex_wrap\"},{\"default\":\"flex-start\",\"kind\":null,\"name\":\"justify_content\"}]},{\"extends\":null,\"module\":null,\"name\":\"GridStack1\",\"overrides\":[],\"properties\":[{\"default\":\"warn\",\"kind\":null,\"name\":\"mode\"},{\"default\":null,\"kind\":null,\"name\":\"ncols\"},{\"default\":null,\"kind\":null,\"name\":\"nrows\"},{\"default\":true,\"kind\":null,\"name\":\"allow_resize\"},{\"default\":true,\"kind\":null,\"name\":\"allow_drag\"},{\"default\":[],\"kind\":null,\"name\":\"state\"}]},{\"extends\":null,\"module\":null,\"name\":\"click1\",\"overrides\":[],\"properties\":[{\"default\":\"\",\"kind\":null,\"name\":\"terminal_output\"},{\"default\":\"\",\"kind\":null,\"name\":\"debug_name\"},{\"default\":0,\"kind\":null,\"name\":\"clears\"}]},{\"extends\":null,\"module\":null,\"name\":\"NotificationAreaBase1\",\"overrides\":[],\"properties\":[{\"default\":\"bottom-right\",\"kind\":null,\"name\":\"position\"},{\"default\":0,\"kind\":null,\"name\":\"_clear\"}]},{\"extends\":null,\"module\":null,\"name\":\"NotificationArea1\",\"overrides\":[],\"properties\":[{\"default\":[],\"kind\":null,\"name\":\"notifications\"},{\"default\":\"bottom-right\",\"kind\":null,\"name\":\"position\"},{\"default\":0,\"kind\":null,\"name\":\"_clear\"},{\"default\":[{\"background\":\"#ffc107\",\"icon\":{\"className\":\"fas fa-exclamation-triangle\",\"color\":\"white\",\"tagName\":\"i\"},\"type\":\"warning\"},{\"background\":\"#007bff\",\"icon\":{\"className\":\"fas fa-info-circle\",\"color\":\"white\",\"tagName\":\"i\"},\"type\":\"info\"}],\"kind\":null,\"name\":\"types\"}]},{\"extends\":null,\"module\":null,\"name\":\"Notification\",\"overrides\":[],\"properties\":[{\"default\":null,\"kind\":null,\"name\":\"background\"},{\"default\":3000,\"kind\":null,\"name\":\"duration\"},{\"default\":null,\"kind\":null,\"name\":\"icon\"},{\"default\":\"\",\"kind\":null,\"name\":\"message\"},{\"default\":null,\"kind\":null,\"name\":\"notification_type\"},{\"default\":false,\"kind\":null,\"name\":\"_destroyed\"}]},{\"extends\":null,\"module\":null,\"name\":\"TemplateActions1\",\"overrides\":[],\"properties\":[{\"default\":0,\"kind\":null,\"name\":\"open_modal\"},{\"default\":0,\"kind\":null,\"name\":\"close_modal\"}]},{\"extends\":null,\"module\":null,\"name\":\"MaterialTemplateActions1\",\"overrides\":[],\"properties\":[{\"default\":0,\"kind\":null,\"name\":\"open_modal\"},{\"default\":0,\"kind\":null,\"name\":\"close_modal\"}]}],\"roots\":{\"references\":[{\"attributes\":{\"editor\":{\"id\":\"1567\"},\"field\":\"Algorithm\",\"formatter\":{\"id\":\"1566\"},\"title\":\"Algorithm\"},\"id\":\"1568\",\"type\":\"TableColumn\"},{\"attributes\":{\"children\":[{\"id\":\"1558\"},{\"id\":\"1591\"},{\"id\":\"1596\"}],\"margin\":[0,0,0,0],\"name\":\"Row01434\",\"tags\":[\"embedded\"]},\"id\":\"1557\",\"type\":\"Row\"},{\"attributes\":{},\"id\":\"1571\",\"type\":\"StringFormatter\"},{\"attributes\":{},\"id\":\"1586\",\"type\":\"NumberFormatter\"},{\"attributes\":{\"margin\":[5,5,5,5],\"name\":\"HSpacer01438\",\"sizing_mode\":\"stretch_width\"},\"id\":\"1558\",\"type\":\"Spacer\"},{\"attributes\":{\"columns\":[{\"id\":\"1563\"},{\"id\":\"1568\"},{\"id\":\"1573\"},{\"id\":\"1578\"},{\"id\":\"1583\"},{\"id\":\"1588\"}],\"height\":300,\"reorderable\":false,\"source\":{\"id\":\"1559\"},\"view\":{\"id\":\"1593\"},\"width\":700},\"id\":\"1591\",\"type\":\"DataTable\"},{\"attributes\":{},\"id\":\"1582\",\"type\":\"NumberEditor\"},{\"attributes\":{},\"id\":\"1562\",\"type\":\"StringEditor\"},{\"attributes\":{},\"id\":\"1576\",\"type\":\"StringFormatter\"},{\"attributes\":{},\"id\":\"1577\",\"type\":\"StringEditor\"},{\"attributes\":{},\"id\":\"1566\",\"type\":\"StringFormatter\"},{\"attributes\":{},\"id\":\"1594\",\"type\":\"UnionRenderers\"},{\"attributes\":{\"editor\":{\"id\":\"1572\"},\"field\":\"ProofType\",\"formatter\":{\"id\":\"1571\"},\"title\":\"ProofType\"},\"id\":\"1573\",\"type\":\"TableColumn\"},{\"attributes\":{\"editor\":{\"id\":\"1577\"},\"field\":\"TotalCoinSupply\",\"formatter\":{\"id\":\"1576\"},\"title\":\"TotalCoinSupply\"},\"id\":\"1578\",\"type\":\"TableColumn\"},{\"attributes\":{\"margin\":[5,5,5,5],\"name\":\"HSpacer01439\",\"sizing_mode\":\"stretch_width\"},\"id\":\"1596\",\"type\":\"Spacer\"},{\"attributes\":{\"editor\":{\"id\":\"1582\"},\"field\":\"TotalCoinsMined\",\"formatter\":{\"id\":\"1581\"},\"title\":\"TotalCoinsMined\"},\"id\":\"1583\",\"type\":\"TableColumn\"},{\"attributes\":{},\"id\":\"1560\",\"type\":\"Selection\"},{\"attributes\":{\"editor\":{\"id\":\"1562\"},\"field\":\"CoinName\",\"formatter\":{\"id\":\"1561\"},\"title\":\"CoinName\"},\"id\":\"1563\",\"type\":\"TableColumn\"},{\"attributes\":{},\"id\":\"1567\",\"type\":\"StringEditor\"},{\"attributes\":{\"format\":\"0,0.0[00000]\"},\"id\":\"1581\",\"type\":\"NumberFormatter\"},{\"attributes\":{\"data\":{\"Algorithm\":[\"Scrypt\",\"Scrypt\",\"X13\",\"SHA-256\",\"Ethash\",\"Scrypt\",\"X11\",\"CryptoNight-V7\",\"Ethash\",\"Equihash\",\"SHA-512\",\"Multiple\",\"SHA-256\",\"SHA-256\",\"Scrypt\",\"X15\",\"X11\",\"Scrypt\",\"Scrypt\",\"Scrypt\",\"Multiple\",\"Scrypt\",\"SHA-256\",\"Scrypt\",\"Scrypt\",\"Scrypt\",\"Quark\",\"Groestl\",\"Scrypt\",\"Scrypt\",\"Scrypt\",\"Scrypt\",\"Scrypt\",\"X11\",\"Scrypt\",\"Groestl\",\"Multiple\",\"SHA-256\",\"Scrypt\",\"Scrypt\",\"Scrypt\",\"Scrypt\",\"PoS\",\"Scrypt\",\"Scrypt\",\"NeoScrypt\",\"Scrypt\",\"Scrypt\",\"Scrypt\",\"Scrypt\",\"X11\",\"Scrypt\",\"X11\",\"SHA-256\",\"Scrypt\",\"Scrypt\",\"Scrypt\",\"SHA3\",\"Scrypt\",\"HybridScryptHash256\",\"Scrypt\",\"Scrypt\",\"SHA-256\",\"Scrypt\",\"X13\",\"Scrypt\",\"SHA-256\",\"Scrypt\",\"X13\",\"NeoScrypt\",\"Scrypt\",\"Scrypt\",\"Scrypt\",\"Scrypt\",\"Scrypt\",\"Scrypt\",\"X11\",\"X11\",\"SHA-256\",\"Multiple\",\"SHA-256\",\"PHI1612\",\"X11\",\"SHA-256\",\"SHA-256\",\"SHA-256\",\"X11\",\"Scrypt\",\"Scrypt\",\"Scrypt\",\"Scrypt\",\"Lyra2REv2\",\"Scrypt\",\"X11\",\"Multiple\",\"SHA-256\",\"X13\",\"Scrypt\",\"CryptoNight\",\"CryptoNight\",\"Shabal256\",\"Counterparty\",\"Scrypt\",\"SHA-256\",\"Groestl\",\"Scrypt\",\"Scrypt\",\"Scrypt\",\"X13\",\"Scrypt\",\"Scrypt\",\"Scrypt\",\"Scrypt\",\"X13\",\"Scrypt\",\"Stanford Folding\",\"X11\",\"Multiple\",\"QuBit\",\"Scrypt\",\"Scrypt\",\"Scrypt\",\"M7 POW\",\"Scrypt\",\"SHA-256\",\"Scrypt\",\"X11\",\"SHA3\",\"X11\",\"Lyra2RE\",\"SHA-256\",\"QUAIT\",\"X11\",\"X11\",\"Scrypt\",\"Scrypt\",\"Scrypt\",\"Ethash\",\"X13\",\"Blake2b\",\"SHA-256\",\"X15\",\"X11\",\"SHA-256\",\"BLAKE256\",\"Scrypt\",\"1GB AES Pattern Search\",\"SHA-256\",\"X11\",\"Scrypt\",\"SHA-256\",\"SHA-256\",\"NIST5\",\"Scrypt\",\"Scrypt\",\"X11\",\"Dagger\",\"Scrypt\",\"X11GOST\",\"X11\",\"Scrypt\",\"SHA-256\",\"Scrypt\",\"PoS\",\"Scrypt\",\"X11\",\"X11\",\"SHA-256\",\"SHA-256\",\"NIST5\",\"X11\",\"Scrypt\",\"POS 3.0\",\"Scrypt\",\"Scrypt\",\"Scrypt\",\"X13\",\"X11\",\"X11\",\"Equihash\",\"X11\",\"Scrypt\",\"CryptoNight\",\"SHA-256\",\"SHA-256\",\"X11\",\"Scrypt\",\"Multiple\",\"Scrypt\",\"Scrypt\",\"Scrypt\",\"SHA-256\",\"Scrypt\",\"Scrypt\",\"SHA-256D\",\"PoS\",\"Scrypt\",\"X11\",\"Lyra2Z\",\"PoS\",\"X13\",\"X14\",\"PoS\",\"SHA-256D\",\"Ethash\",\"Equihash\",\"DPoS\",\"X11\",\"Scrypt\",\"X11\",\"X13\",\"X11\",\"PoS\",\"Scrypt\",\"Scrypt\",\"X11\",\"PoS\",\"X11\",\"SHA-256\",\"Scrypt\",\"X11\",\"Scrypt\",\"Scrypt\",\"X11\",\"CryptoNight\",\"Scrypt\",\"Scrypt\",\"Scrypt\",\"Scrypt\",\"Quark\",\"QuBit\",\"Scrypt\",\"CryptoNight\",\"Lyra2RE\",\"Scrypt\",\"SHA-256\",\"X11\",\"Scrypt\",\"X11\",\"Scrypt\",\"CryptoNight-V7\",\"Scrypt\",\"Scrypt\",\"Scrypt\",\"X13\",\"X11\",\"Equihash\",\"Scrypt\",\"Scrypt\",\"Lyra2RE\",\"Scrypt\",\"Dagger-Hashimoto\",\"X11\",\"Blake2S\",\"X11\",\"Scrypt\",\"PoS\",\"X11\",\"NIST5\",\"PoS\",\"X11\",\"Scrypt\",\"Scrypt\",\"Scrypt\",\"SHA-256\",\"X11\",\"Scrypt\",\"Scrypt\",\"SHA-256\",\"PoS\",\"Scrypt\",\"X15\",\"SHA-256\",\"Scrypt\",\"POS 3.0\",\"CryptoNight-V7\",\"536\",\"Argon2d\",\"Blake2b\",\"Cloverhash\",\"CryptoNight\",\"NIST5\",\"X11\",\"NIST5\",\"Skein\",\"Scrypt\",\"X13\",\"Scrypt\",\"X11\",\"X11\",\"Scrypt\",\"CryptoNight\",\"X13\",\"Time Travel\",\"Scrypt\",\"Keccak\",\"SkunkHash v2 Raptor\",\"X11\",\"Skein\",\"SHA-256\",\"X11\",\"Scrypt\",\"VeChainThor Authority\",\"Scrypt\",\"PoS\",\"Scrypt\",\"Scrypt\",\"Scrypt\",\"Scrypt\",\"Scrypt\",\"Scrypt\",\"Scrypt\",\"CryptoNight\",\"SHA-512\",\"Ouroboros\",\"X11\",\"Equihash\",\"NeoScrypt\",\"X11\",\"Scrypt\",\"NeoScrypt\",\"Lyra2REv2\",\"Equihash\",\"Scrypt\",\"SHA-256\",\"NIST5\",\"PHI1612\",\"Dagger\",\"Scrypt\",\"Quark\",\"Scrypt\",\"POS 2.0\",\"Scrypt\",\"SHA-256\",\"X11\",\"NeoScrypt\",\"Ethash\",\"NeoScrypt\",\"X11\",\"DPoS\",\"NIST5\",\"X13\",\"Multiple\",\"Scrypt\",\"CryptoNight\",\"CryptoNight\",\"Ethash\",\"NIST5\",\"Quark\",\"X11\",\"CryptoNight-V7\",\"Scrypt\",\"Scrypt\",\"Scrypt\",\"X11\",\"BLAKE256\",\"X11\",\"NeoScrypt\",\"Quark\",\"NeoScrypt\",\"Scrypt\",\"Scrypt\",\"Scrypt\",\"X11\",\"X11\",\"SHA-256\",\"C11\",\"POS 3.0\",\"Ethash\",\"Scrypt\",\"CryptoNight\",\"SkunkHash\",\"Scrypt\",\"CryptoNight\",\"Scrypt\",\"Dagger\",\"Lyra2REv2\",\"X13\",\"Proof-of-BibleHash\",\"SHA-256 + Hive\",\"Scrypt\",\"Scrypt\",\"X11\",\"C11\",\"Proof-of-Authority\",\"X11\",\"XEVAN\",\"Scrypt\",\"VBFT\",\"Ethash\",\"CryptoNight\",\"Scrypt\",\"IMesh\",\"NIST5\",\"Scrypt\",\"Scrypt\",\"Equihash\",\"Scrypt\",\"Lyra2Z\",\"Green Protocol\",\"PoS\",\"Scrypt\",\"Semux BFT consensus\",\"X11\",\"Quark\",\"PoS\",\"CryptoNight\",\"X16R\",\"Scrypt\",\"NIST5\",\"Lyra2RE\",\"XEVAN\",\"Tribus\",\"Scrypt\",\"Lyra2Z\",\"CryptoNight\",\"CryptoNight Heavy\",\"CryptoNight\",\"Scrypt\",\"Scrypt\",\"Jump Consistent Hash\",\"SHA-256D\",\"CryptoNight\",\"Scrypt\",\"X15\",\"Scrypt\",\"Quark\",\"SHA-256\",\"DPoS\",\"X16R\",\"HMQ1725\",\"X11\",\"X16R\",\"Quark\",\"Quark\",\"Scrypt\",\"Lyra2REv2\",\"Quark\",\"Scrypt\",\"Scrypt\",\"CryptoNight-V7\",\"Cryptonight-GPU\",\"XEVAN\",\"CryptoNight Heavy\",\"X11\",\"X11\",\"Scrypt\",\"PoS\",\"SHA-256\",\"Keccak\",\"X11\",\"X11\",\"Scrypt\",\"SHA-512\",\"X16R\",\"ECC 256K1\",\"Equihash\",\"XEVAN\",\"Lyra2Z\",\"SHA-256\",\"XEVAN\",\"X11\",\"CryptoNight\",\"Quark\",\"Blake\",\"Blake\",\"Equihash\",\"Exosis\",\"Scrypt\",\"Scrypt\",\"Equihash\",\"Quark\",\"Equihash\",\"Quark\",\"Scrypt\",\"QuBit\",\"X11\",\"Scrypt\",\"XEVAN\",\"SHA-256D\",\"X11\",\"SHA-256\",\"X13\",\"SHA-256\",\"X11\",\"DPoS\",\"Scrypt\",\"Scrypt\",\"X11\",\"NeoScrypt\",\"Scrypt\",\"Blake\",\"Scrypt\",\"SHA-256\",\"Scrypt\",\"X11\",\"Scrypt\",\"Scrypt\",\"SHA-256\",\"X11\",\"SHA-256\",\"Scrypt\",\"Scrypt\",\"Scrypt\",\"Groestl\",\"X11\",\"Scrypt\",\"PoS\",\"Scrypt\",\"Scrypt\",\"X11\",\"SHA-256\",\"DPoS\",\"Scrypt\",\"Scrypt\",\"NeoScrypt\",\"Multiple\",\"X13\",\"Equihash+Scrypt\",\"DPoS\",\"Ethash\",\"DPoS\",\"SHA-256\",\"Leased POS\",\"PoS\",\"TRC10\",\"PoS\",\"SHA-256\",\"Scrypt\",\"CryptoNight\",\"Equihash\",\"Scrypt\"],\"Class\":{\"__ndarray__\":\"AAAAAAAAAAAAAAAAAAAAAAAAAAAAAAAAAAAAAAAAAAAAAAAAAAAAAAAAAAAAAAAAAAAAAAAAAAAAAAAAAAAAAAAAAAAAAAAAAAAAAAAAAAAAAAAAAAAAAAAAAAAAAAAAAAAAAAAAAAAAAAAAAAAAAAAAAAAAAAAAAAAAAAAAAAAAAAAAAAAAAAAAAAAAAAAAAAAAAAAAAAAAAAAAAAAAAAAAAAAAAAAAAAAAAAAAAAAAAAAAAAAAAAAAAAAAAAAAAAAAAAAAAAAAAAAAAAAAAAAAAAAAAAAAAAAAAAAAAAAAAAAAAAAAAAAAAAAAAAAAAAAAAAAAAAAAAAAAAAAAAAAAAAAAAAAAAAAAAAAAAAAAAAAAAAAAAAAAAAAAAAAAAAAAAAAAAAAAAAAAAAAAAAAAAAAAAAAAAAAAAAAAAAAAAAAAAAAAAAAAAAAAAAAAAAAAAAAAAAAAAAAAAAAAAAAAAAAAAAAAAAAAAAAAAAAAAAAAAAAAAAAAAAAAAAAAAAAAAAAAAAAAAAAAAAAAAAAAAAAAAAAAAAAAAAAAAAAAAAAAAAAAAAAAAAAAAAAAAAAAAAAAAAAAAAAAAAAAAAAAAAAAAAAAAAAAAAAAAAAAAAAAAAAAAAAAAAAAAAAAAAAAAAAAAAAAAAAAAAAAAAAAAAAAAAAAAAAAAAAAAAAAAAAAAAAAAAAAAAAAAAAAAAAAAAAAAAAAAAAAAAAAAAAAAAAAAAAAAAAAAAAAAAAAAAAAAAAAAAAAAAAAAAAAAAAAAAAAAAAAAAAAAAAAAAAAAAAAAAAAAAAAAAAAAAAAAAAAAAAAAAAAAAAAAAAAAAAAAAAAAAAAAAAAAAAAAAAAAAAAAAAAAAAAAAAAAAAAAAAAAAAAAAAAAAAAAAAAAAAAAAAAAAAAAAAAAAAAAAAAAAAAAAAAAAAAAAAAAAAAAAAAAAAAAAAAAAAAAAAAAAAAAAAAAAAAAAAAAAAAAAAAAAAAAAAAAAAAAAAAAAAAAAAAAAAAAAAAAAAAAAAAAAAAAAAAAAAAAAAAAAAAAAAAAAAAAAAAAAAAAAAAAAAAAAAAAAAAAAAAAAAAAAAAAAAAAAAAAAAAAAAAAAAAAAAAAAAAAAAAAAAAAAAAAAAAAAAAAAAAAAAAAAAAAAAAAAAAAAAAAAAAAAAAAAAAAAAAAAAAAAAAAAAAAAAAAAAAAAAAAAAAAAAAAAAAAAAAAAAAAAAAAAAAAAAAAAAAAAAAAAAAAAAAAAAAAAAAAAAAAAAAAAAAAAAAAAAAAAAAAAAAAAAAAAAAAAAAAAAAAAAAAAAAAAAAAAAAAAAAAAAAAAAAAAAAAAAAAAAAAAAAAAAAAAAAAAAAAAAAAAAAAAAAAAAAAAAAAAAAAAAAAAAAAAAAAAAAAAAAAAAAAAAAAAAAAAAAAAAAAAAAAAAAAAAAAAAAAAAAAAAAAAAAAAAAAAAAAAAAAAAAAAAAAAAAAAAAAAAAAAAAAAAAAAAAAAAAAAAAAAAAAAAAAAAAAAAAAAAAAAAAAAAAAAAAAAAAAAAAAAAAAAAAAAAAAAAAAAAAAAAAAAAAAAAAAAAAAAAAAAAAAAAAAAAAAAAAAAAAAAAAAAAAAAAAAAAAAAAAAAAAAAAAAAAAAAAAAAAAAAAAAAAAAAAAAAAAAAAAAAAAAAAAAAAAAAAAAAAAAAAAAAAAAAAAAAAAAAAAAAAAAAAAAAAAAAAAAAAAAAAAAAAAAAAAAAAAAAAAAAAAAAAAAAAAAAAAAAAAAAAAAAAAAAAAAAAAAAAAAAAAAAAAAAAAAAAAAAAAAAAAAAAAAAAAAAAAAAAAAAAAAAAAAAAAAAAAAAAAAAAAAAAAAAAAAAAAAAAAAAAAAAAAAAAAAAAAAAAAAAAAAAAAAAAAAAAAAAAAAAAAAAAAAAAAAAAAAAAAAAAAAAAAAAAAAAAAAAAAAAAAAAAAAAAAAAAAAAAAAAAAAAAAAAAAAAAAAAAAAAAAAAAAAAAAAAAAAAAAAAAAAAAAAAAAAAAAAwAAAAEAAAAAAAAAAAAAAAAAAAAAAAAAAAAAAAAAAAAAAAAAAAAAAAAAAAAAAAAAAAAAAAAAAAAAAAAAAAAAAAAAAAAAAAAAAAAAAAAAAAAAAAAAAAAAAAAAAAAAAAAAAAAAAAAAAAAAAAAAAAAAAAAAAAAAAAAAAAAAAAAAAAAAAAAAAAAAAAAAAAAAAAAAAAAAAAAAAAAAAAAAAAAAAAAAAAAAAAAAAAAAAAAAAAAAAAAAAAAAAAAAAAAAAAAAAAAAAAAAAAAAAAAAAAAAAAAAAAAAAAAAAAAAAAAAAAAAAAAAAAAAAAAAAAAAAAAAAAAAAAAAAAAAAAAAAAAAAAAAAAAAAAAAAAAAAAAAAAAAAAAAAAAAAAAAAAAAAAAAAAAAAAAAAAAAAAAAAAAAAAAAAAAAAAAAAAAAAAAAAAAAAAAAAAAAAAAAAAAAAAAAAAAAAAAAAAAAAAAAAAAAAAAAAAAAAAAAAAAAAAAAAAAAAAAAAAAAAAAAAAAAAAAAAAAAAAAAAAAAAAAAAAAAAAAAAAAAAAAAAAAAAAAAAAAAAAAAAAAAAAAAAAAAAAAAAAAAAAAAAAAAAAAAAAAAAAAAAAAAAAAAAAAAAAAAAAAAAAAAAAAAAAAAAAAAAAAAAAAAAAAAAAAAAAAAAAAAAAAAAAAAAAAAAAAAAAAAAAAAAAAAAAAAAAAAAAAAAAAAAAAAAAAAAAAAAAAAAAAAAAAAAAAAAAAAAAAAAAAAAAAAAAAAAAAAAAAAAAAAAAAAAAAAAAAAAAAAAAAAAgAAAAAAAAAAAAAAAAAAAAAAAAAAAAAAAAAAAA==\",\"dtype\":\"int32\",\"order\":\"little\",\"shape\":[532]},\"CoinName\":[\"42 Coin\",\"404Coin\",\"EliteCoin\",\"Bitcoin\",\"Ethereum\",\"Litecoin\",\"Dash\",\"Monero\",\"Ethereum Classic\",\"ZCash\",\"Bitshares\",\"DigiByte\",\"BitcoinDark\",\"PayCoin\",\"ProsperCoin\",\"KoboCoin\",\"Spreadcoin\",\"Argentum\",\"Aurora Coin\",\"BlueCoin\",\"MyriadCoin\",\"MoonCoin\",\"ZetaCoin\",\"SexCoin\",\"Quatloo\",\"EnergyCoin\",\"QuarkCoin\",\"Riecoin\",\"Digitalcoin \",\"BitBar\",\"Catcoin\",\"CryptoBullion\",\"CannaCoin\",\"CryptCoin\",\"CasinoCoin\",\"Diamond\",\"Verge\",\"DevCoin\",\"EarthCoin\",\"E-Gulden\",\"Einsteinium\",\"Emerald\",\"Exclusive Coin\",\"FlutterCoin\",\"Franko\",\"FeatherCoin\",\"GrandCoin\",\"GlobalCoin\",\"GoldCoin\",\"HoboNickels\",\"HyperStake\",\"Infinite Coin\",\"IOCoin\",\"IXcoin\",\"KrugerCoin\",\"LuckyCoin\",\"Litebar \",\"MaxCoin\",\"MegaCoin\",\"MediterraneanCoin\",\"MintCoin\",\"MinCoin\",\"MazaCoin\",\"Nautilus Coin\",\"NavCoin\",\"NobleCoin\",\"Namecoin\",\"NyanCoin\",\"OpalCoin\",\"Orbitcoin\",\"PotCoin\",\"PhoenixCoin\",\"Reddcoin\",\"RonPaulCoin\",\"StableCoin\",\"SmartCoin\",\"SuperCoin\",\"SyncCoin\",\"SysCoin\",\"TeslaCoin\",\"TigerCoin\",\"TittieCoin\",\"TorCoin\",\"TerraCoin\",\"UnbreakableCoin\",\"Unobtanium\",\"UroCoin\",\"UnitaryStatus Dollar\",\"UltraCoin\",\"ViaCoin\",\"VeriCoin\",\"Vertcoin\",\"WorldCoin\",\"X11 Coin\",\"Crypti\",\"JouleCoin\",\"StealthCoin\",\"ZCC Coin\",\"ByteCoin\",\"DigitalNote \",\"BurstCoin\",\"StorjCoin\",\"MonaCoin\",\"Neutron\",\"FairCoin\",\"Gulden\",\"RubyCoin\",\"PesetaCoin\",\"Kore\",\"Wild Beast Coin\",\"Dnotes\",\"Flo\",\"8BIT Coin\",\"Sativa Coin\",\"ArtByte\",\"Folding Coin\",\"Ucoin\",\"Unitus\",\"CypherPunkCoin\",\"OmniCron\",\"Vtorrent\",\"GreenCoin\",\"Cryptonite\",\"MasterCoin\",\"SoonCoin\",\"1Credit\",\"IslaCoin\",\"Nexus\",\"MarsCoin \",\"Crypto\",\"Anarchists Prime\",\"Droidz\",\"BowsCoin\",\"Squall Coin\",\"Song Coin\",\"BitZeny\",\"Diggits\",\"Expanse\",\"Paycon\",\"Siacoin\",\"Emercoin\",\"EverGreenCoin\",\"MindCoin\",\"I0coin\",\"Decred\",\"Revolution VR\",\"HOdlcoin\",\"EDRCoin\",\"Hitcoin\",\"Gamecredits\",\"DubaiCoin\",\"CarpeDiemCoin\",\"PWR Coin\",\"BillaryCoin\",\"GPU Coin\",\"Adzcoin\",\"SoilCoin\",\"YoCoin\",\"SibCoin\",\"EuropeCoin\",\"ZeitCoin\",\"SwingCoin\",\"SafeExchangeCoin\",\"Nebuchadnezzar\",\"Francs\",\"BolivarCoin\",\"Ratecoin\",\"Revenu\",\"Clockcoin\",\"VIP Tokens\",\"BitSend\",\"Omni\",\"Let it Ride\",\"PutinCoin\",\"iBankCoin\",\"Frankywillcoin\",\"MudraCoin\",\"PizzaCoin\",\"Lutetium Coin\",\"Komodo\",\"GoldBlocks\",\"CarterCoin\",\"Karbo\",\"BitTokens\",\"ZayedCoin\",\"MustangCoin\",\"ZoneCoin\",\"Circuits of Value\",\"RootCoin\",\"DopeCoin\",\"BitCurrency\",\"DollarCoin\",\"Swiscoin\",\"Shilling\",\"BuzzCoin\",\"Opair\",\"PesoBit\",\"Halloween Coin\",\"ZCoin\",\"CoffeeCoin\",\"RoyalCoin\",\"GanjaCoin V2\",\"TeamUP\",\"LanaCoin\",\"Elementrem\",\"ZClassic\",\"ARK\",\"InsaneCoin\",\"KiloCoin\",\"ArtexCoin\",\"EmberCoin\",\"XenixCoin\",\"FreeCoin\",\"PLNCoin\",\"AquariusCoin\",\"Kurrent\",\"Creatio\",\"Eternity\",\"Eurocoin\",\"BitcoinFast\",\"Stakenet\",\"BitConnect Coin\",\"MoneyCoin\",\"Enigma\",\"Cannabis Industry Coin\",\"Russiacoin\",\"PandaCoin\",\"GameUnits\",\"GAKHcoin\",\"Allsafe\",\"LiteCreed\",\"OsmiumCoin\",\"Bikercoins\",\"HexxCoin\",\"Klingon Empire Darsek\",\"Internet of People\",\"KushCoin\",\"Printerium\",\"PacCoin\",\"Impeach\",\"Citadel\",\"Zilbercoin\",\"FirstCoin\",\"BeaverCoin\",\"FindCoin\",\"VaultCoin\",\"Zero\",\"OpenChat\",\"Canada eCoin\",\"Zoin\",\"RenosCoin\",\"DubaiCoin\",\"VirtacoinPlus\",\"TajCoin\",\"Impact\",\"EB3coin\",\"Atmos\",\"HappyCoin\",\"Coinonat\",\"MacronCoin\",\"Condensate\",\"Independent Money System\",\"ArgusCoin\",\"LomoCoin\",\"ProCurrency\",\"GoldReserve\",\"BenjiRolls\",\"GrowthCoin\",\"ILCoin\",\"Phreak\",\"Degas Coin\",\"HTML5 Coin\",\"Ultimate Secure Cash\",\"EquiTrader\",\"QTUM\",\"Quantum Resistant Ledger\",\"Espers\",\"Dynamic\",\"Nano\",\"ChanCoin\",\"Dinastycoin\",\"Denarius\",\"DigitalPrice\",\"Virta Unique Coin\",\"Bitcoin Planet\",\"Unify\",\"BritCoin\",\"SocialCoin\",\"ArcticCoin\",\"DAS\",\"Linda\",\"LeviarCoin\",\"DeepOnion\",\"Bitcore\",\"gCn Coin\",\"SmartCash\",\"Signatum\",\"Onix\",\"Cream\",\"Bitcoin Cash\",\"Monoeci\",\"Draftcoin\",\"Vechain\",\"Sojourn Coin\",\"Stakecoin\",\"NewYorkCoin\",\"FrazCoin\",\"Kronecoin\",\"AdCoin\",\"Linx\",\"CoinonatX\",\"Ethereum Dark\",\"Sumokoin\",\"Obsidian\",\"Cardano\",\"Regalcoin\",\"BitcoinZ\",\"TrezarCoin\",\"Elements\",\"TerraNovaCoin\",\"VIVO Coin\",\"Rupee\",\"Bitcoin Gold\",\"WomenCoin\",\"Theresa May Coin\",\"NamoCoin\",\"LUXCoin\",\"Pirl\",\"Xios\",\"Bitcloud 2.0\",\"eBoost\",\"KekCoin\",\"BlackholeCoin\",\"Infinity Economics\",\"Pura\",\"Innova\",\"Ellaism\",\"GoByte\",\"Magnet\",\"Lamden Tau\",\"Electra\",\"Bitcoin Diamond\",\"SHIELD\",\"Cash & Back Coin\",\"UltraNote\",\"BitCoal\",\"DaxxCoin\",\"Bulwark\",\"Kalkulus\",\"AC3\",\"Lethean\",\"GermanCoin\",\"LiteCoin Ultra\",\"PopularCoin\",\"PhantomX\",\"Photon\",\"Sucre\",\"SparksPay\",\"Digiwage\",\"GunCoin\",\"IrishCoin\",\"Trollcoin\",\"Litecoin Plus\",\"Monkey Project\",\"Pioneer Coin\",\"UnitedBitcoin\",\"Interzone\",\"TokenPay\",\"1717 Masonic Commemorative Token\",\"My Big Coin\",\"TurtleCoin\",\"MUNcoin\",\"Unified Society USDEX\",\"Niobio Cash\",\"ShareChain\",\"Travelflex\",\"KREDS\",\"Tokyo Coin\",\"BiblePay\",\"LitecoinCash\",\"BitFlip\",\"LottoCoin\",\"Crypto Improvement Fund\",\"Stipend\",\"Poa Network\",\"Pushi\",\"Ellerium\",\"Velox\",\"Ontology\",\"Callisto Network\",\"BitTube\",\"Poseidon\",\"Aidos Kuneen\",\"Bitspace\",\"Briacoin\",\"Ignition\",\"Bitrolium\",\"MedicCoin\",\"Alpenschillling\",\"Bitcoin Green\",\"Deviant Coin\",\"Abjcoin\",\"Semux\",\"FuturoCoin\",\"Carebit\",\"Zealium\",\"Monero Classic\",\"Proton\",\"iDealCash\",\"Jumpcoin\",\"Infinex\",\"Bitcoin Incognito\",\"KEYCO\",\"HollyWoodCoin\",\"GINcoin\",\"PlatinCoin\",\"Loki\",\"Newton Coin\",\"Swisscoin\",\"Xt3ch\",\"MassGrid\",\"TheVig\",\"PluraCoin\",\"EmaratCoin\",\"Dekado\",\"Lynx\",\"Poseidon Quark\",\"BitcoinWSpectrum\",\"Muse\",\"Motion\",\"PlusOneCoin\",\"Axe\",\"Trivechain\",\"Dystem\",\"Giant\",\"Peony Coin\",\"Absolute Coin\",\"Vitae\",\"HexCoin\",\"TPCash\",\"Webchain\",\"Ryo\",\"Urals Coin\",\"Qwertycoin\",\"ARENON\",\"EUNO\",\"MMOCoin\",\"Ketan\",\"Project Pai\",\"XDNA\",\"PAXEX\",\"Azart\",\"ThunderStake\",\"Kcash\",\"Xchange\",\"Acute Angle Cloud\",\"CrypticCoin\",\"Bettex coin\",\"Actinium\",\"Bitcoin SV\",\"BitMoney\",\"Junson Ming Chan Coin\",\"FREDEnergy\",\"HerbCoin\",\"Universal Molecule\",\"Lithium\",\"PirateCash\",\"Exosis\",\"Block-Logic\",\"Oduwa\",\"Beam\",\"Galilel\",\"Bithereum\",\"Crypto Sports\",\"Credit\",\"SLICE\",\"Dash Platinum\",\"Nasdacoin\",\"Beetle Coin\",\"Titan Coin\",\"Award\",\"BLAST\",\"Bitcoin Rhodium\",\"GlobalToken\",\"Insane Coin\",\"ALAX\",\"LiteDoge\",\"SolarCoin\",\"TruckCoin\",\"UFO Coin\",\"OrangeCoin\",\"BlakeCoin\",\"BitstarCoin\",\"NeosCoin\",\"HyperCoin\",\"PinkCoin\",\"Crypto Escudo\",\"AudioCoin\",\"IncaKoin\",\"Piggy Coin\",\"Crown Coin\",\"Genstake\",\"SmileyCoin\",\"XiaoMiCoin\",\"Groestlcoin\",\"CapriCoin\",\" ClubCoin\",\"Radium\",\"Bata\",\"Pakcoin\",\"Creditbit \",\"OKCash\",\"Lisk\",\"HiCoin\",\"WhiteCoin\",\"FriendshipCoin\",\"JoinCoin\",\"Triangles Coin\",\"Vollar\",\"EOS\",\"Reality Clash\",\"Oxycoin\",\"TigerCash\",\"Waves\",\"Particl\",\"BitTorrent\",\"Nxt\",\"ZEPHYR\",\"Gapcoin\",\"Beldex\",\"Horizen\",\"BitcoinPlus\"],\"ProofType\":[\"PoW/PoS\",\"PoW/PoS\",\"PoW/PoS\",\"PoW\",\"PoW\",\"PoW\",\"PoW/PoS\",\"PoW\",\"PoW\",\"PoW\",\"PoS\",\"PoW\",\"PoW/PoS\",\"PoS\",\"PoW\",\"PoW/PoS\",\"PoW\",\"PoW\",\"PoW/PoS\",\"PoW/PoS\",\"PoW\",\"PoW\",\"PoW\",\"PoW\",\"PoW\",\"PoW/PoS\",\"PoW\",\"PoW\",\"PoW\",\"PoW/PoS\",\"PoW\",\"PoW/PoS\",\"PoW\",\"PoW\",\"PoC\",\"PoW/PoS\",\"PoW\",\"PoW\",\"PoW\",\"PoW\",\"PoW\",\"PoW\",\"PoS\",\"PoS/PoW/PoT\",\"PoW\",\"PoW\",\"PoW\",\"PoW\",\"PoW\",\"PoW/PoS\",\"PoS\",\"PoW\",\"PoW/PoS\",\"PoW\",\"PoW\",\"PoW\",\"PoW\",\"PoW/PoS\",\"PoW\",\"PoW\",\"PoS\",\"PoW\",\"PoW/PoS\",\"PoS\",\"PoW/PoS\",\"PoW\",\"PoW\",\"PoW\",\"PoW/PoS\",\"PoW/PoS\",\"PoW/PoS\",\"PoW/PoS\",\"PoW/PoS\",\"PoW\",\"PoW\",\"PoW\",\"PoS\",\"PoW/PoS\",\"PoW\",\"PoS\",\"PoW\",\"PoS\",\"PoW/PoS\",\"PoW\",\"PoW\",\"PoW\",\"PoW\",\"PoW/PoS\",\"PoW/PoS\",\"PoW\",\"PoST\",\"PoW\",\"PoW\",\"PoW/PoS\",\"PoS\",\"PoW\",\"PoW/PoS\",\"PoW/PoS\",\"PoW\",\"PoW\",\"PoC\",\"PoS\",\"PoW\",\"PoW/PoS\",\"PoW/PoS\",\"PoW\",\"PoS\",\"PoW\",\"PoW/PoS\",\"PoW\",\"PoS\",\"PoW\",\"PoW/PoS\",\"PoW/PoS\",\"PoW\",\"PoW\",\"PoS\",\"PoW\",\"PoW\",\"PoW\",\"PoW/PoS\",\"PoW\",\"PoW\",\"PoW\",\"PoW\",\"PoW\",\"PoW/PoS\",\"PoW/nPoS\",\"PoW\",\"PoW\",\"PoW\",\"PoW/PoS\",\"PoW\",\"PoS/PoW\",\"PoW\",\"PoW\",\"PoS\",\"PoW\",\"PoW/PoS\",\"PoW\",\"PoW/PoS\",\"PoW/PoS\",\"PoW\",\"PoW\",\"PoW/PoS\",\"PoW\",\"PoW\",\"PoW/PoS\",\"PoW/PoS\",\"PoW\",\"PoW/PoS\",\"PoW\",\"PoW/PoS\",\"PoW/PoS\",\"PoS\",\"PoW\",\"PoW\",\"PoW\",\"PoW\",\"PoW/PoS\",\"PoS\",\"PoW/PoS\",\"PoC\",\"PoS\",\"PoW\",\"PoW\",\"PoW/PoS\",\"PoW/PoS\",\"PoW/PoS\",\"PoW/PoS\",\"PoW/PoS\",\"PoW\",\"PoS\",\"PoW/PoS\",\"PoW/PoS\",\"PoW/PoS\",\"PoS\",\"PoW\",\"PoS\",\"dPoW/PoW\",\"PoW/PoS\",\"PoW/PoS\",\"PoW\",\"PoW/PoS\",\"PoW\",\"PoW/PoS\",\"PoW/PoS\",\"PoW\",\"PoW/PoS\",\"PoW\",\"PoS\",\"PoW\",\"PoW/PoW\",\"PoW\",\"PoW/PoS\",\"PoS\",\"PoW/PoS\",\"PoW/PoS\",\"PoW\",\"PoS\",\"PoS\",\"PoW/PoS\",\"PoS\",\"PoW/PoS\",\"PoW\",\"PoW\",\"DPoS\",\"PoW/PoS\",\"PoW\",\"PoW\",\"PoW/PoS\",\"PoW/PoS\",\"PoS\",\"PoW/PoS\",\"PoW/PoS\",\"PoW\",\"PoS\",\"PoW/PoS\",\"PoW/PoS\",\"PoW/PoS\",\"TPoS\",\"PoW/PoS\",\"PoW/PoS\",\"PoW/PoS\",\"PoW\",\"PoW/PoS\",\"PoS\",\"PoW/PoS\",\"PoW/PoS\",\"PoS\",\"PoW/PoS\",\"PoW\",\"PoW\",\"PoW\",\"PoW/PoS\",\"PoW/PoS\",\"PoW/PoS\",\"PoW/PoS\",\"PoW\",\"PoW/PoS\",\"PoW\",\"PoS\",\"PoW/PoS \",\"PoW\",\"PoS\",\"PoW\",\"PoW\",\"PoW/PoS\",\"PoW\",\"PoW\",\"PoS\",\"PoW\",\"PoW/PoS\",\"PoW/PoS\",\"PoW/PoS\",\"PoW\",\"PoS\",\"PoW/PoS\",\"PoW\",\"PoS\",\"PoW/PoS\",\"PoW/PoS\",\"PoW/PoS\",\"PoW/PoS\",\"PoS\",\"PoW/PoS\",\"PoW\",\"PoS\",\"PoW\",\"PoS\",\"PoW/PoS\",\"PoW/PoS\",\"PoS\",\"PoW\",\"PoS\",\"PoW\",\"PoW/PoS\",\"PoW\",\"PoW\",\"PoW\",\"PoW\",\"PoW/PoS\",\"PoW\",\"PoW/PoS\",\"PoW/PoS\",\"PoW\",\"PoW/PoS\",\"PoW\",\"PoW\",\"PoW\",\"PoW/PoS\",\"PoW\",\"PoW/PoS\",\"PoW\",\"PoW\",\"PoW\",\"PoS\",\"PoW\",\"PoW/PoS\",\"PoW\",\"PoW/PoS\",\"PoS\",\"Proof of Authority\",\"PoW\",\"PoS\",\"PoW\",\"PoW\",\"PoW\",\"PoW\",\"PoW\",\"PoW/PoS\",\"PoW/PoS\",\"PoW\",\"PoS\",\"PoS\",\"PoW/PoS\",\"PoW\",\"PoW/PoS\",\"PoW\",\"PoW/PoS\",\"PoW\",\"PoS\",\"PoW\",\"PoW/PoS\",\"PoW/PoS\",\"PoW/PoS\",\"PoW/PoS\",\"PoW\",\"PoW/PoS\",\"PoW/PoS\",\"PoW\",\"PoS\",\"PoW/PoS\",\"PoS\",\"PoW\",\"PoW\",\"PoW\",\"PoW\",\"PoW/PoS\",\"DPoS\",\"PoW/PoS\",\"PoW/PoS\",\"PoW\",\"PoW/PoS\",\"PoW\",\"PoW\",\"PoW\",\"PoS\",\"PoS\",\"PoW\",\"PoW\",\"PoW/PoS\",\"PoW/PoS\",\"PoW\",\"PoW/PoS\",\"PoW\",\"PoW\",\"PoW\",\"PoS\",\"PoW\",\"PoW\",\"PoW/PoS\",\"PoW/PoS\",\"PoS\",\"PoW\",\"PoW\",\"PoW\",\"PoS\",\"PoS\",\"PoW and PoS\",\"PoW\",\"PoW\",\"PoW/PoS\",\"PoW\",\"PoW\",\"PoW\",\"PoW\",\"PoS\",\"POBh\",\"PoW + Hive\",\"PoW\",\"PoW\",\"PoW\",\"PoW/PoS\",\"PoA\",\"PoW/PoS\",\"PoW/PoS\",\"PoS\",\"PoS\",\"PoW\",\"PoW\",\"PoW\",\"PoW\",\"PoW/PoS\",\"PoW/PoS\",\"PoW/PoS\",\"PoW\",\"PoS\",\"PoW\",\"PoS\",\"PoS\",\"PoW/PoS\",\"DPoS\",\"PoW\",\"PoW/PoS\",\"PoS\",\"PoW\",\"PoS\",\"PoW/PoS\",\"PoW\",\"PoW\",\"PoS/PoW\",\"PoW\",\"PoS\",\"PoW\",\"PoW\",\"PoW\",\"PoW\",\"PoW/PoS\",\"PoS\",\"PoW\",\"PoW/PoS\",\"PoW\",\"PoW/PoS\",\"PoS\",\"HPoW\",\"PoS\",\"PoS\",\"PoS\",\"PoW\",\"PoW\",\"PoW\",\"PoW/PoS\",\"PoS\",\"PoW/PoS\",\"PoS\",\"PoW/PoS\",\"PoS\",\"PoW\",\"PoW/PoS\",\"PoW\",\"PoW\",\"PoW\",\"PoW\",\"PoS\",\"PoW/PoS\",\"PoS\",\"PoS\",\"PoW\",\"PoW/PoS\",\"PoS\",\"PoW\",\"PoW/PoS\",\"Zero-Knowledge Proof\",\"PoW\",\"DPOS\",\"PoW\",\"PoS\",\"PoW\",\"PoW\",\"Pos\",\"PoS\",\"PoW\",\"PoW/PoS\",\"PoW\",\"PoW\",\"PoS\",\"PoW\",\"PoW\",\"PoW/PoS\",\"PoW\",\"PoW/PoS\",\"PoW\",\"PoS\",\"PoW/PoS\",\"PoW\",\"PoS\",\"PoW/PoS\",\"PoW/PoS\",\"PoW/PoS\",\"PoW/PoS\",\"PoW\",\"PoW\",\"PoW\",\"PoW/PoS\",\"DPoS\",\"PoW/PoS\",\"PoW\",\"PoW/PoS\",\"PoW\",\"PoW/PoS\",\"PoW\",\"PoW/PoS\",\"PoS\",\"PoW/PoS\",\"PoW/PoS\",\"PoW\",\"PoW/PoS\",\"PoW/PoS\",\"PoW/PoS\",\"PoW\",\"PoW/PoS\",\"PoW\",\"PoW/PoS\",\"PoW\",\"PoW/PoS\",\"PoW/PoS\",\"PoS\",\"PoW\",\"PoW\",\"Proof of Trust\",\"PoW/PoS\",\"DPoS\",\"PoS\",\"PoW/PoS\",\"PoW/PoS\",\"PoW\",\"PoW/PoS\",\"PoW\",\"DPoS\",\"PoW\",\"DPoS\",\"PoS\",\"LPoS\",\"PoS\",\"DPoS\",\"PoS/LPoS\",\"DPoS\",\"PoW/PoS\",\"PoW\",\"PoW\",\"PoS\"],\"TotalCoinSupply\":[\"42\",\"532000000\",\"314159265359\",\"21000000\",\"0\",\"84000000\",\"22000000\",\"0\",\"210000000\",\"21000000\",\"3600570502\",\"21000000000\",\"22000000\",\"12500000\",\"21000000\",\"350000000\",\"20000000\",\"64000000\",\"16768584\",\"0\",\"2000000000\",\"384000000000\",\"169795588\",\"250000000\",\"100000000\",\"0\",\"247000000\",\"84000000\",\"48166000\",\"500000\",\"21000000 \",\"1000000\",\"13140000\",\"18000000\",\"40000000000\",\"4380000\",\"16555000000\",\"21000000000\",\"13500000000\",\"21000000 \",\"299792458\",\"32000000\",\"0\",\"0\",\"11235813\",\"336000000\",\"1420609614\",\"70000000\",\"72245700\",\"120000000\",\"0\",\"90600000000\",\"22000000\",\"21000000\",\"265420800\",\"20000000\",\"1350000\",\"100000000\",\"42000000\",\"200000000\",\"0\",\"10000000\",\"2419200000\",\"16180000\",\"0\",\"15000000000\",\"21000000\",\"337000000\",\"0\",\"3770000\",\"420000000\",\"98000000\",\"0\",\"21000000\",\"250000000\",\"51200000\",\"0\",\"1000\",\"888000000\",\"100000000\",\"47011968\",\"2300000000\",\"10000000\",\"42000000\",\"80000000\",\"250000\",\"0\",\"1600000000\",\"100000000\",\"23000000\",\"0\",\"84000000\",\"265420800\",\"5500000\",\"0\",\"45000000\",\"0\",\"1000000000\",\"184467440735\",\"10000000000\",\"2158812800\",\"500000000\",\"105120000\",\"68000000\",\"0\",\"1680000000\",\"0\",\"166386000\",\"12000000\",\"2628000\",\"500000000\",\"160000000\",\"0\",\"10000000\",\"1000000000\",\"1000000000\",\"20000000\",\"0\",\"0\",\"3371337\",\"20000000\",\"10000000000\",\"1840000000\",\"619478\",\"21000000\",\"92000000000\",\"0\",\"78000000\",\"33000000\",\"65789100\",\"53760000\",\"5060000\",\"21000000\",\"0\",\"210240000\",\"250000000\",\"100000000\",\"16906397\",\"50000000\",\"0\",\"1000000000\",\"26298000\",\"16000000\",\"21000000\",\"21000000\",\"210000000\",\"81962100\",\"22000000\",\"26550000000\",\"84000000\",\"10500000\",\"21626280000 \",\"0\",\"42000000\",\"221052632\",\"84000000\",\"30000000\",\"168351300\",\"24000000\",\"384000000\",\" 99000000000\",\"40000000\",\"2147483647\",\"20000000\",\"20000000\",\"25000000\",\"75000000\",\"222725000\",\"525000000\",\"90000000\",\"139000000\",\"616448\",\"33500000\",\"2000000000\",\"44333333\",\"100000000\",\"200000000\",\"25000000\",\"657000000\",\"200000000\",\"50000000\",\"90000000\",\"10000000\",\"21000000\",\"9736000\",\"3000000\",\"21000000\",\"1200000000\",\"0\",\"200000000\",\"0\",\"10638298\",\"3100000000\",\"30000000\",\"20000000000\",\"74000000\",\"0\",\"1500000000\",\"21400000\",\"39999898\",\"2500124\",\"100000000\",\"301000000\",\"7506000000\",\"26205539\",\"21000000\",\"125000000\",\"30000000\",\"10000000000\",\"500000000\",\"850000000\",\"3853326.77707314\",\"50000000\",\"38540000 \",\"42000000\",\"228000000\",\"20000000\",\"60000000\",\"20000000\",\"33000000\",\"76500000\",\"28000000\",\"650659833\",\"5000000\",\"21000000\",\"144000000\",\"32514916898\",\"13000000\",\"3315789\",\"15000000\",\"78835200\",\"2714286\",\"25000000\",\"9999999\",\"500000000\",\"21000000\",\"9354000\",\"20000000\",\"100000000000\",\"21933333\",\"185000000\",\"55000000\",\"110000000\",\"3360000\",\"14524851.4827\",\"1000000000\",\"17000000\",\"1000000000\",\"100000000 \",\"21000000\",\"34426423\",\"2232901\",\"100000000\",\"36900000\",\"110000000\",\"4000000000\",\"110290030\",\"100000000\",\"48252000\",\"400000000\",\"500000000\",\"21212121\",\"28600000\",\"1000000000\",\"75000000000\",\"40000000\",\"35520400\",\"2000000000\",\"2500000000\",\"30000000\",\"105000000\",\"90000000000\",\"200084200\",\"72000000\",\"100000000\",\"105000000\",\"50000000000\",\"0\",\"340282367\",\"30000000\",\"2000000000\",\"10000000\",\"100000000\",\"120000000\",\"100000000\",\"19276800\",\"30000000\",\" 75000000\",\"60000000\",\"18900000\",\"50000000000\",\"54000000\",\"18898187.6216583\",\"21000000\",\"200000000000\",\"5000000000\",\"137500000\",\"1100000000\",\"100000000\",\"21000000\",\"9507271\",\"17405891.19707116\",\"86712634466\",\"10500000000\",\"61599965\",\"0\",\"20000000\",\"84000000\",\"100000000\",\"100000000\",\"48252000\",\"4200000\",\"88888888\",\"91388946\",\"45000000000\",\"27000000\",\"21000000000\",\"400000000\",\"1800000000\",\"15733333\",\"27000000\",\"24000000\",\"21000000\",\"25000000000\",\"100000000\",\"1200000000\",\"60000000\",\"156306732.71\",\"21000000\",\"200000000\",\"100000000\",\"21000000\",\"14788275.991\",\"9000000000\",\"350000000\",\"45000000\",\"280000000\",\"31800000\",\"144000000\",\"500000000\",\"30000000000\",\"210000000\",\"660000000\",\"210000000\",\"85000000000\",\"12500000\",\"10000000000\",\"27716121\",\"20000000\",\"550000000\",\"999481516\",\"50000000000\",\"150000000\",\"4999999999\",\"50000000\",\" 90000000000\",\"19800000\",\"21000000\",\"120000000\",\"500000000\",\"64000000\",\"900000000\",\"4000000\",\"21000000\",\"23000000\",\"20166000\",\"23000000\",\"25000000\",\"1618033\",\"30000000\",\"1000000000000\",\"16600000\",\"232000000\",\"336000000\",\"10000000000\",\"100000000\",\"1100000000\",\"800000000\",\"5200000000\",\"840000000\",\"40000000\",\"18406979840\",\"500000000\",\"19340594\",\"252460800\",\"25000000\",\"60000000\",\"124000000\",\"1000000000\",\"6500000000\",\"1000000000\",\"21000000\",\"25000000\",\"50000000\",\"3000000\",\"5000000\",\"70000000\",\"500000000\",\"300000000\",\"21000000\",\"88000000\",\"30000000\",\"100000000\",\"100000000\",\"200000000\",\"80000000\",\"18400000\",\"45000000\",\"5121951220\",\"21000000\",\"26280000\",\"21000000\",\"18000000\",\"26000000\",\"10500000\",\"600000518\",\"150000000\",\"184000000000\",\"10200000000\",\"44000000\",\"168000000\",\"100000000\",\"1000000000\",\"84000000\",\"90000000\",\"92000000000\",\"650000000 \",\"100262205\",\"18081806 \",\"22075700\",\"21000000\",\"21000000\",\"82546564\",\"21000000\",\"5151000\",\"16880000000\",\"52500000\",\"100000000\",\"22105263\",\"1000000000\",\"1750000000\",\"88188888\",\"210000000\",\"184470000000\",\"55000000\",\"50000000\",\"260000000\",\"210000000\",\"2100000000\",\"366000000\",\"100000000\",\"25000000\",\"18000000000\",\"1000000000\",\"100000000\",\"1000000000\",\"7600000000\",\"50000000\",\"84000000\",\"21000000\",\"70000000000\",\"0\",\"8080000000\",\"54000000\",\"105120001.44\",\"25228800\",\"105000000\",\"21000000\",\"120000000\",\"21000000\",\"262800000\",\"19035999\",\"30886000\",\"13370000\",\"74800000000\",\"100000000\",\"19700000\",\"84000000\",\"500000000\",\"5000000000\",\"420000000\",\"64000000\",\"2100000\",\"168000000\",\"30000000\",\"1000000000\",\"35000000000\",\"98100000000\",\"0\",\"4000000000\",\"200000000\",\"7000000000\",\"54256119\",\"21000000\",\"0\",\"500000000\",\"1000000000\",\"10500000000\",\"190000000\",\"1000000000\",\"42000000\",\"15000000\",\"50000000000\",\"400000000\",\"105000000\",\"208000000\",\"160000000\",\"9000000\",\"5000000\",\"182000000\",\"16504333\",\"105000000\",\"159918400\",\"10008835635\",\"300000000\",\"60168145\",\"2800000\",\"120000\",\"2100000000\",\"0\",\"24487944\",\"0\",\"1000000000\",\"100000000\",\"8634140\",\"990000000000\",\"1000000000\",\"2000000000\",\"250000000\",\"1400222610\",\"21000000\",\"1000000\"],\"TotalCoinsMined\":{\"__ndarray__\":\"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\",\"dtype\":\"float64\",\"order\":\"little\",\"shape\":[532]}},\"selected\":{\"id\":\"1560\"},\"selection_policy\":{\"id\":\"1594\"}},\"id\":\"1559\",\"type\":\"ColumnDataSource\"},{\"attributes\":{},\"id\":\"1587\",\"type\":\"IntEditor\"},{\"attributes\":{\"editor\":{\"id\":\"1587\"},\"field\":\"Class\",\"formatter\":{\"id\":\"1586\"},\"title\":\"Class\"},\"id\":\"1588\",\"type\":\"TableColumn\"},{\"attributes\":{},\"id\":\"1561\",\"type\":\"StringFormatter\"},{\"attributes\":{},\"id\":\"1572\",\"type\":\"StringEditor\"},{\"attributes\":{\"source\":{\"id\":\"1559\"}},\"id\":\"1593\",\"type\":\"CDSView\"}],\"root_ids\":[\"1557\"]},\"title\":\"Bokeh Application\",\"version\":\"2.4.3\"}};\n",
       "    var render_items = [{\"docid\":\"7b4ea92d-4ae4-4bd6-9292-edcd1f7bc7ee\",\"root_ids\":[\"1557\"],\"roots\":{\"1557\":\"e1b7831c-b66b-4a5d-8fc6-e9b3d0db71d9\"}}];\n",
       "    root.Bokeh.embed.embed_items_notebook(docs_json, render_items);\n",
       "  }\n",
       "  if (root.Bokeh !== undefined && root.Bokeh.Panel !== undefined) {\n",
       "    embed_document(root);\n",
       "  } else {\n",
       "    var attempts = 0;\n",
       "    var timer = setInterval(function(root) {\n",
       "      if (root.Bokeh !== undefined && root.Bokeh.Panel !== undefined) {\n",
       "        clearInterval(timer);\n",
       "        embed_document(root);\n",
       "      } else if (document.readyState == \"complete\") {\n",
       "        attempts++;\n",
       "        if (attempts > 200) {\n",
       "          clearInterval(timer);\n",
       "          console.log(\"Bokeh: ERROR: Unable to run BokehJS code because BokehJS library is missing\");\n",
       "        }\n",
       "      }\n",
       "    }, 25, root)\n",
       "  }\n",
       "})(window);</script>"
      ],
      "text/plain": [
       ":Table   [CoinName,Algorithm,ProofType,TotalCoinSupply,TotalCoinsMined,Class]"
      ]
     },
     "execution_count": 60,
     "metadata": {
      "application/vnd.holoviews_exec.v0+json": {
       "id": "1557"
      }
     },
     "output_type": "execute_result"
    }
   ],
   "source": [
    "# Create a table with tradable cryptocurrencies.\n",
    "tradable_df = clustered_df.hvplot.table(columns=[\"CoinName\", \"Algorithm\",\"ProofType\", \"TotalCoinSupply\", \"TotalCoinsMined\", \"Class\"],sortable=True, selectable=True)\n",
    "tradable_df"
   ]
  },
  {
   "cell_type": "code",
   "execution_count": 61,
   "metadata": {},
   "outputs": [
    {
     "name": "stdout",
     "output_type": "stream",
     "text": [
      " There are 532 tradable cryptocurrencies\n"
     ]
    }
   ],
   "source": [
    "# Print the total number of tradable cryptocurrencies.\n",
    "print(f\" There are {len(tradable_df)} tradable cryptocurrencies\")"
   ]
  },
  {
   "cell_type": "code",
   "execution_count": 62,
   "metadata": {},
   "outputs": [
    {
     "data": {
      "text/plain": [
       "array([[4.20000000e-11, 0.00000000e+00],\n",
       "       [5.32000000e-04, 1.06585544e-03],\n",
       "       [3.14159265e-01, 2.95755135e-02],\n",
       "       ...,\n",
       "       [1.40022261e-03, 9.90135079e-04],\n",
       "       [2.10000000e-05, 7.37028150e-06],\n",
       "       [1.00000000e-06, 1.29582282e-07]])"
      ]
     },
     "execution_count": 62,
     "metadata": {},
     "output_type": "execute_result"
    }
   ],
   "source": [
    "# Scaling data to create the scatter plot with tradable cryptocurrencies.\n",
    "X_ = clustered_df[['TotalCoinSupply', 'TotalCoinsMined']].copy()\n",
    "\n",
    "X_scaled_df= MinMaxScaler().fit_transform(X_)\n",
    "X_scaled_df"
   ]
  },
  {
   "cell_type": "code",
   "execution_count": 63,
   "metadata": {},
   "outputs": [
    {
     "data": {
      "text/html": [
       "<div>\n",
       "<style scoped>\n",
       "    .dataframe tbody tr th:only-of-type {\n",
       "        vertical-align: middle;\n",
       "    }\n",
       "\n",
       "    .dataframe tbody tr th {\n",
       "        vertical-align: top;\n",
       "    }\n",
       "\n",
       "    .dataframe thead th {\n",
       "        text-align: right;\n",
       "    }\n",
       "</style>\n",
       "<table border=\"1\" class=\"dataframe\">\n",
       "  <thead>\n",
       "    <tr style=\"text-align: right;\">\n",
       "      <th></th>\n",
       "      <th>TotalCoinSupply</th>\n",
       "      <th>TotalCoinsMined</th>\n",
       "      <th>CoinName</th>\n",
       "      <th>Class</th>\n",
       "    </tr>\n",
       "  </thead>\n",
       "  <tbody>\n",
       "    <tr>\n",
       "      <th>42</th>\n",
       "      <td>4.200000e-11</td>\n",
       "      <td>0.000000</td>\n",
       "      <td>42 Coin</td>\n",
       "      <td>0</td>\n",
       "    </tr>\n",
       "    <tr>\n",
       "      <th>404</th>\n",
       "      <td>5.320000e-04</td>\n",
       "      <td>0.001066</td>\n",
       "      <td>404Coin</td>\n",
       "      <td>0</td>\n",
       "    </tr>\n",
       "    <tr>\n",
       "      <th>1337</th>\n",
       "      <td>3.141593e-01</td>\n",
       "      <td>0.029576</td>\n",
       "      <td>EliteCoin</td>\n",
       "      <td>0</td>\n",
       "    </tr>\n",
       "    <tr>\n",
       "      <th>BTC</th>\n",
       "      <td>2.100000e-05</td>\n",
       "      <td>0.000018</td>\n",
       "      <td>Bitcoin</td>\n",
       "      <td>0</td>\n",
       "    </tr>\n",
       "    <tr>\n",
       "      <th>ETH</th>\n",
       "      <td>0.000000e+00</td>\n",
       "      <td>0.000109</td>\n",
       "      <td>Ethereum</td>\n",
       "      <td>0</td>\n",
       "    </tr>\n",
       "    <tr>\n",
       "      <th>LTC</th>\n",
       "      <td>8.400000e-05</td>\n",
       "      <td>0.000064</td>\n",
       "      <td>Litecoin</td>\n",
       "      <td>0</td>\n",
       "    </tr>\n",
       "    <tr>\n",
       "      <th>DASH</th>\n",
       "      <td>2.200000e-05</td>\n",
       "      <td>0.000009</td>\n",
       "      <td>Dash</td>\n",
       "      <td>0</td>\n",
       "    </tr>\n",
       "    <tr>\n",
       "      <th>XMR</th>\n",
       "      <td>0.000000e+00</td>\n",
       "      <td>0.000017</td>\n",
       "      <td>Monero</td>\n",
       "      <td>0</td>\n",
       "    </tr>\n",
       "    <tr>\n",
       "      <th>ETC</th>\n",
       "      <td>2.100000e-04</td>\n",
       "      <td>0.000115</td>\n",
       "      <td>Ethereum Classic</td>\n",
       "      <td>0</td>\n",
       "    </tr>\n",
       "    <tr>\n",
       "      <th>ZEC</th>\n",
       "      <td>2.100000e-05</td>\n",
       "      <td>0.000007</td>\n",
       "      <td>ZCash</td>\n",
       "      <td>0</td>\n",
       "    </tr>\n",
       "  </tbody>\n",
       "</table>\n",
       "</div>"
      ],
      "text/plain": [
       "      TotalCoinSupply  TotalCoinsMined          CoinName  Class\n",
       "42       4.200000e-11         0.000000           42 Coin      0\n",
       "404      5.320000e-04         0.001066           404Coin      0\n",
       "1337     3.141593e-01         0.029576         EliteCoin      0\n",
       "BTC      2.100000e-05         0.000018           Bitcoin      0\n",
       "ETH      0.000000e+00         0.000109          Ethereum      0\n",
       "LTC      8.400000e-05         0.000064          Litecoin      0\n",
       "DASH     2.200000e-05         0.000009              Dash      0\n",
       "XMR      0.000000e+00         0.000017            Monero      0\n",
       "ETC      2.100000e-04         0.000115  Ethereum Classic      0\n",
       "ZEC      2.100000e-05         0.000007             ZCash      0"
      ]
     },
     "execution_count": 63,
     "metadata": {},
     "output_type": "execute_result"
    }
   ],
   "source": [
    "# Create a new DataFrame that has the scaled data with the clustered_df DataFrame index.\n",
    "X2_scaled_df=pd.DataFrame(X_scaled_df,columns=[\"TotalCoinSupply\", \"TotalCoinsMined\"], index=clustered_df.index)\n",
    "\n",
    "# Add the \"CoinName\" column from the clustered_df DataFrame to the new DataFrame.\n",
    "X2_scaled_df[\"CoinName\"] = clustered_df[\"CoinName\"].copy()\n",
    "\n",
    "# Add the \"Class\" column from the clustered_df DataFrame to the new DataFrame. \n",
    "X2_scaled_df[\"Class\"] = clustered_df[\"Class\"].copy()\n",
    "\n",
    "plot_df = X2_scaled_df.copy()\n",
    "plot_df.head(10)"
   ]
  },
  {
   "cell_type": "code",
   "execution_count": 64,
   "metadata": {},
   "outputs": [
    {
     "data": {},
     "metadata": {},
     "output_type": "display_data"
    },
    {
     "data": {
      "application/vnd.holoviews_exec.v0+json": "",
      "text/html": [
       "<div id='1608'>\n",
       "  <div class=\"bk-root\" id=\"e8e9645c-cd4d-4a56-8bd1-967648a8061c\" data-root-id=\"1608\"></div>\n",
       "</div>\n",
       "<script type=\"application/javascript\">(function(root) {\n",
       "  function embed_document(root) {\n",
       "    var docs_json = {\"fa3530f1-6e8f-4e5a-b259-11e0af0b7e62\":{\"defs\":[{\"extends\":null,\"module\":null,\"name\":\"ReactiveHTML1\",\"overrides\":[],\"properties\":[]},{\"extends\":null,\"module\":null,\"name\":\"FlexBox1\",\"overrides\":[],\"properties\":[{\"default\":\"flex-start\",\"kind\":null,\"name\":\"align_content\"},{\"default\":\"flex-start\",\"kind\":null,\"name\":\"align_items\"},{\"default\":\"row\",\"kind\":null,\"name\":\"flex_direction\"},{\"default\":\"wrap\",\"kind\":null,\"name\":\"flex_wrap\"},{\"default\":\"flex-start\",\"kind\":null,\"name\":\"justify_content\"}]},{\"extends\":null,\"module\":null,\"name\":\"GridStack1\",\"overrides\":[],\"properties\":[{\"default\":\"warn\",\"kind\":null,\"name\":\"mode\"},{\"default\":null,\"kind\":null,\"name\":\"ncols\"},{\"default\":null,\"kind\":null,\"name\":\"nrows\"},{\"default\":true,\"kind\":null,\"name\":\"allow_resize\"},{\"default\":true,\"kind\":null,\"name\":\"allow_drag\"},{\"default\":[],\"kind\":null,\"name\":\"state\"}]},{\"extends\":null,\"module\":null,\"name\":\"click1\",\"overrides\":[],\"properties\":[{\"default\":\"\",\"kind\":null,\"name\":\"terminal_output\"},{\"default\":\"\",\"kind\":null,\"name\":\"debug_name\"},{\"default\":0,\"kind\":null,\"name\":\"clears\"}]},{\"extends\":null,\"module\":null,\"name\":\"NotificationAreaBase1\",\"overrides\":[],\"properties\":[{\"default\":\"bottom-right\",\"kind\":null,\"name\":\"position\"},{\"default\":0,\"kind\":null,\"name\":\"_clear\"}]},{\"extends\":null,\"module\":null,\"name\":\"NotificationArea1\",\"overrides\":[],\"properties\":[{\"default\":[],\"kind\":null,\"name\":\"notifications\"},{\"default\":\"bottom-right\",\"kind\":null,\"name\":\"position\"},{\"default\":0,\"kind\":null,\"name\":\"_clear\"},{\"default\":[{\"background\":\"#ffc107\",\"icon\":{\"className\":\"fas fa-exclamation-triangle\",\"color\":\"white\",\"tagName\":\"i\"},\"type\":\"warning\"},{\"background\":\"#007bff\",\"icon\":{\"className\":\"fas fa-info-circle\",\"color\":\"white\",\"tagName\":\"i\"},\"type\":\"info\"}],\"kind\":null,\"name\":\"types\"}]},{\"extends\":null,\"module\":null,\"name\":\"Notification\",\"overrides\":[],\"properties\":[{\"default\":null,\"kind\":null,\"name\":\"background\"},{\"default\":3000,\"kind\":null,\"name\":\"duration\"},{\"default\":null,\"kind\":null,\"name\":\"icon\"},{\"default\":\"\",\"kind\":null,\"name\":\"message\"},{\"default\":null,\"kind\":null,\"name\":\"notification_type\"},{\"default\":false,\"kind\":null,\"name\":\"_destroyed\"}]},{\"extends\":null,\"module\":null,\"name\":\"TemplateActions1\",\"overrides\":[],\"properties\":[{\"default\":0,\"kind\":null,\"name\":\"open_modal\"},{\"default\":0,\"kind\":null,\"name\":\"close_modal\"}]},{\"extends\":null,\"module\":null,\"name\":\"MaterialTemplateActions1\",\"overrides\":[],\"properties\":[{\"default\":0,\"kind\":null,\"name\":\"open_modal\"},{\"default\":0,\"kind\":null,\"name\":\"close_modal\"}]}],\"roots\":{\"references\":[{\"attributes\":{\"below\":[{\"id\":\"1625\"}],\"center\":[{\"id\":\"1628\"},{\"id\":\"1632\"}],\"height\":300,\"left\":[{\"id\":\"1629\"}],\"margin\":[5,5,5,5],\"min_border_bottom\":10,\"min_border_left\":10,\"min_border_right\":10,\"min_border_top\":10,\"renderers\":[{\"id\":\"1658\"},{\"id\":\"1679\"},{\"id\":\"1701\"},{\"id\":\"1725\"}],\"right\":[{\"id\":\"1670\"}],\"sizing_mode\":\"fixed\",\"title\":{\"id\":\"1617\"},\"toolbar\":{\"id\":\"1639\"},\"width\":700,\"x_range\":{\"id\":\"1610\"},\"x_scale\":{\"id\":\"1621\"},\"y_range\":{\"id\":\"1611\"},\"y_scale\":{\"id\":\"1623\"}},\"id\":\"1616\",\"subtype\":\"Figure\",\"type\":\"Plot\"},{\"attributes\":{\"overlay\":{\"id\":\"1638\"}},\"id\":\"1636\",\"type\":\"BoxZoomTool\"},{\"attributes\":{},\"id\":\"1690\",\"type\":\"UnionRenderers\"},{\"attributes\":{\"source\":{\"id\":\"1673\"}},\"id\":\"1680\",\"type\":\"CDSView\"},{\"attributes\":{},\"id\":\"1667\",\"type\":\"UnionRenderers\"},{\"attributes\":{\"angle\":{\"value\":0.0},\"fill_alpha\":{\"value\":1.0},\"fill_color\":{\"value\":\"#30a2da\"},\"hatch_alpha\":{\"value\":1.0},\"hatch_color\":{\"value\":\"#30a2da\"},\"hatch_scale\":{\"value\":12.0},\"hatch_weight\":{\"value\":1.0},\"line_alpha\":{\"value\":1.0},\"line_cap\":{\"value\":\"butt\"},\"line_color\":{\"value\":\"#30a2da\"},\"line_dash\":{\"value\":[]},\"line_dash_offset\":{\"value\":0},\"line_join\":{\"value\":\"bevel\"},\"line_width\":{\"value\":1},\"marker\":{\"value\":\"circle\"},\"size\":{\"value\":5.477225575051661},\"x\":{\"field\":\"TotalCoinsMined\"},\"y\":{\"field\":\"TotalCoinSupply\"}},\"id\":\"1672\",\"type\":\"Scatter\"},{\"attributes\":{},\"id\":\"1637\",\"type\":\"ResetTool\"},{\"attributes\":{},\"id\":\"1630\",\"type\":\"BasicTicker\"},{\"attributes\":{\"tools\":[{\"id\":\"1612\"},{\"id\":\"1633\"},{\"id\":\"1634\"},{\"id\":\"1635\"},{\"id\":\"1636\"},{\"id\":\"1637\"}]},\"id\":\"1639\",\"type\":\"Toolbar\"},{\"attributes\":{\"fill_color\":{\"value\":\"#e5ae38\"},\"hatch_color\":{\"value\":\"#e5ae38\"},\"line_color\":{\"value\":\"#e5ae38\"},\"size\":{\"value\":5.477225575051661},\"x\":{\"field\":\"TotalCoinsMined\"},\"y\":{\"field\":\"TotalCoinSupply\"}},\"id\":\"1698\",\"type\":\"Scatter\"},{\"attributes\":{\"label\":{\"value\":\"3\"},\"renderers\":[{\"id\":\"1725\"}]},\"id\":\"1743\",\"type\":\"LegendItem\"},{\"attributes\":{\"bottom_units\":\"screen\",\"coordinates\":null,\"fill_alpha\":0.5,\"fill_color\":\"lightgrey\",\"group\":null,\"left_units\":\"screen\",\"level\":\"overlay\",\"line_alpha\":1.0,\"line_color\":\"black\",\"line_dash\":[4,4],\"line_width\":2,\"right_units\":\"screen\",\"syncable\":false,\"top_units\":\"screen\"},\"id\":\"1638\",\"type\":\"BoxAnnotation\"},{\"attributes\":{\"coordinates\":null,\"data_source\":{\"id\":\"1719\"},\"glyph\":{\"id\":\"1722\"},\"group\":null,\"hover_glyph\":null,\"muted_glyph\":{\"id\":\"1724\"},\"nonselection_glyph\":{\"id\":\"1723\"},\"selection_glyph\":{\"id\":\"1744\"},\"view\":{\"id\":\"1726\"}},\"id\":\"1725\",\"type\":\"GlyphRenderer\"},{\"attributes\":{},\"id\":\"1626\",\"type\":\"BasicTicker\"},{\"attributes\":{\"fill_alpha\":{\"value\":0.1},\"fill_color\":{\"value\":\"#e5ae38\"},\"hatch_alpha\":{\"value\":0.1},\"hatch_color\":{\"value\":\"#e5ae38\"},\"line_alpha\":{\"value\":0.1},\"line_color\":{\"value\":\"#e5ae38\"},\"size\":{\"value\":5.477225575051661},\"x\":{\"field\":\"TotalCoinsMined\"},\"y\":{\"field\":\"TotalCoinSupply\"}},\"id\":\"1699\",\"type\":\"Scatter\"},{\"attributes\":{\"fill_alpha\":{\"value\":0.2},\"fill_color\":{\"value\":\"#e5ae38\"},\"hatch_alpha\":{\"value\":0.2},\"hatch_color\":{\"value\":\"#e5ae38\"},\"line_alpha\":{\"value\":0.2},\"line_color\":{\"value\":\"#e5ae38\"},\"size\":{\"value\":5.477225575051661},\"x\":{\"field\":\"TotalCoinsMined\"},\"y\":{\"field\":\"TotalCoinSupply\"}},\"id\":\"1700\",\"type\":\"Scatter\"},{\"attributes\":{\"coordinates\":null,\"data_source\":{\"id\":\"1673\"},\"glyph\":{\"id\":\"1676\"},\"group\":null,\"hover_glyph\":null,\"muted_glyph\":{\"id\":\"1678\"},\"nonselection_glyph\":{\"id\":\"1677\"},\"selection_glyph\":{\"id\":\"1694\"},\"view\":{\"id\":\"1680\"}},\"id\":\"1679\",\"type\":\"GlyphRenderer\"},{\"attributes\":{\"children\":[{\"id\":\"1609\"},{\"id\":\"1616\"},{\"id\":\"1761\"}],\"margin\":[0,0,0,0],\"name\":\"Row01606\",\"tags\":[\"embedded\"]},\"id\":\"1608\",\"type\":\"Row\"},{\"attributes\":{\"fill_alpha\":{\"value\":0.2},\"fill_color\":{\"value\":\"#fc4f30\"},\"hatch_alpha\":{\"value\":0.2},\"hatch_color\":{\"value\":\"#fc4f30\"},\"line_alpha\":{\"value\":0.2},\"line_color\":{\"value\":\"#fc4f30\"},\"size\":{\"value\":5.477225575051661},\"x\":{\"field\":\"TotalCoinsMined\"},\"y\":{\"field\":\"TotalCoinSupply\"}},\"id\":\"1678\",\"type\":\"Scatter\"},{\"attributes\":{\"data\":{\"Class\":[2],\"CoinName\":[\"BitTorrent\"],\"TotalCoinSupply\":{\"__ndarray__\":\"rkfhehSu7z8=\",\"dtype\":\"float64\",\"order\":\"little\",\"shape\":[1]},\"TotalCoinsMined\":{\"__ndarray__\":\"AAAAAAAA8D8=\",\"dtype\":\"float64\",\"order\":\"little\",\"shape\":[1]}},\"selected\":{\"id\":\"1696\"},\"selection_policy\":{\"id\":\"1714\"}},\"id\":\"1695\",\"type\":\"ColumnDataSource\"},{\"attributes\":{\"data\":{\"Class\":[1],\"CoinName\":[\"LitecoinCash\"],\"TotalCoinSupply\":{\"__ndarray__\":\"vHmqQ26GSz8=\",\"dtype\":\"float64\",\"order\":\"little\",\"shape\":[1]},\"TotalCoinsMined\":{\"__ndarray__\":\"kKTF8kohRT8=\",\"dtype\":\"float64\",\"order\":\"little\",\"shape\":[1]}},\"selected\":{\"id\":\"1674\"},\"selection_policy\":{\"id\":\"1690\"}},\"id\":\"1673\",\"type\":\"ColumnDataSource\"},{\"attributes\":{\"label\":{\"value\":\"1\"},\"renderers\":[{\"id\":\"1679\"}]},\"id\":\"1693\",\"type\":\"LegendItem\"},{\"attributes\":{\"angle\":{\"value\":0.0},\"fill_alpha\":{\"value\":1.0},\"fill_color\":{\"value\":\"#fc4f30\"},\"hatch_alpha\":{\"value\":1.0},\"hatch_color\":{\"value\":\"#fc4f30\"},\"hatch_scale\":{\"value\":12.0},\"hatch_weight\":{\"value\":1.0},\"line_alpha\":{\"value\":1.0},\"line_cap\":{\"value\":\"butt\"},\"line_color\":{\"value\":\"#fc4f30\"},\"line_dash\":{\"value\":[]},\"line_dash_offset\":{\"value\":0},\"line_join\":{\"value\":\"bevel\"},\"line_width\":{\"value\":1},\"marker\":{\"value\":\"circle\"},\"size\":{\"value\":5.477225575051661},\"x\":{\"field\":\"TotalCoinsMined\"},\"y\":{\"field\":\"TotalCoinSupply\"}},\"id\":\"1694\",\"type\":\"Scatter\"},{\"attributes\":{\"margin\":[5,5,5,5],\"name\":\"HSpacer01610\",\"sizing_mode\":\"stretch_width\"},\"id\":\"1609\",\"type\":\"Spacer\"},{\"attributes\":{\"fill_alpha\":{\"value\":0.2},\"fill_color\":{\"value\":\"#6d904f\"},\"hatch_alpha\":{\"value\":0.2},\"hatch_color\":{\"value\":\"#6d904f\"},\"line_alpha\":{\"value\":0.2},\"line_color\":{\"value\":\"#6d904f\"},\"size\":{\"value\":5.477225575051661},\"x\":{\"field\":\"TotalCoinsMined\"},\"y\":{\"field\":\"TotalCoinSupply\"}},\"id\":\"1724\",\"type\":\"Scatter\"},{\"attributes\":{\"source\":{\"id\":\"1695\"}},\"id\":\"1702\",\"type\":\"CDSView\"},{\"attributes\":{\"source\":{\"id\":\"1719\"}},\"id\":\"1726\",\"type\":\"CDSView\"},{\"attributes\":{\"data\":{\"Class\":[0,0,0,0,0,0,0,0,0,0,0,0,0,0,0,0,0,0,0,0,0,0,0,0,0,0,0,0,0,0,0,0,0,0,0,0,0,0,0,0,0,0,0,0,0,0,0,0,0,0,0,0,0,0,0,0,0,0,0,0,0,0,0,0,0,0,0,0,0,0,0,0,0,0,0,0,0,0,0,0,0,0,0,0,0,0,0,0,0,0,0,0,0,0,0,0,0,0,0,0,0,0,0,0,0,0,0,0,0,0,0,0,0,0,0,0,0,0,0,0,0,0,0,0,0,0,0,0,0,0,0,0,0,0,0,0,0,0,0,0,0,0,0,0,0,0,0,0,0,0,0,0,0,0,0,0,0,0,0,0,0,0,0,0,0,0,0,0,0,0,0,0,0,0,0,0,0,0,0,0,0,0,0,0,0,0,0,0,0,0,0,0,0,0,0,0,0,0,0,0,0,0,0,0,0,0,0,0,0,0,0,0,0,0,0,0,0,0,0,0,0,0,0,0,0,0,0,0,0,0,0,0,0,0,0,0,0,0,0,0,0,0,0,0,0,0,0,0,0,0,0,0,0,0,0,0,0,0,0,0,0,0,0,0,0,0,0,0,0,0,0,0,0,0,0,0,0,0,0,0,0,0,0,0,0,0,0,0,0,0,0,0,0,0,0,0,0,0,0,0,0,0,0,0,0,0,0,0,0,0,0,0,0,0,0,0,0,0,0,0,0,0,0,0,0,0,0,0,0,0,0,0,0,0,0,0,0,0,0,0,0,0,0,0,0,0,0,0,0,0,0,0,0,0,0,0,0,0,0,0,0,0,0,0,0,0,0,0,0,0,0,0,0,0,0,0,0,0,0,0,0,0,0,0,0,0,0,0,0,0,0,0,0,0,0,0,0,0,0,0,0,0,0,0,0,0,0,0,0,0,0,0,0,0,0,0,0,0,0,0,0,0,0,0,0,0,0,0,0,0,0,0,0,0,0,0,0,0,0,0,0,0,0,0,0,0,0,0,0,0,0,0,0,0,0,0,0,0,0,0,0,0,0,0,0,0,0,0,0,0,0,0,0,0,0,0,0,0,0,0,0,0,0,0,0,0,0,0,0,0,0,0,0,0,0,0,0,0,0,0,0,0,0,0,0,0,0,0,0,0,0,0,0,0,0,0,0,0,0,0,0,0,0,0,0,0,0,0,0],\"CoinName\":[\"42 Coin\",\"404Coin\",\"EliteCoin\",\"Bitcoin\",\"Ethereum\",\"Litecoin\",\"Dash\",\"Monero\",\"Ethereum Classic\",\"ZCash\",\"Bitshares\",\"DigiByte\",\"BitcoinDark\",\"PayCoin\",\"ProsperCoin\",\"KoboCoin\",\"Spreadcoin\",\"Argentum\",\"Aurora Coin\",\"BlueCoin\",\"MyriadCoin\",\"MoonCoin\",\"ZetaCoin\",\"SexCoin\",\"Quatloo\",\"EnergyCoin\",\"QuarkCoin\",\"Riecoin\",\"Digitalcoin \",\"BitBar\",\"Catcoin\",\"CryptoBullion\",\"CannaCoin\",\"CryptCoin\",\"CasinoCoin\",\"Diamond\",\"Verge\",\"DevCoin\",\"EarthCoin\",\"E-Gulden\",\"Einsteinium\",\"Emerald\",\"Exclusive Coin\",\"FlutterCoin\",\"Franko\",\"FeatherCoin\",\"GrandCoin\",\"GlobalCoin\",\"GoldCoin\",\"HoboNickels\",\"HyperStake\",\"Infinite Coin\",\"IOCoin\",\"IXcoin\",\"KrugerCoin\",\"LuckyCoin\",\"Litebar \",\"MaxCoin\",\"MegaCoin\",\"MediterraneanCoin\",\"MintCoin\",\"MinCoin\",\"MazaCoin\",\"Nautilus Coin\",\"NavCoin\",\"NobleCoin\",\"Namecoin\",\"NyanCoin\",\"OpalCoin\",\"Orbitcoin\",\"PotCoin\",\"PhoenixCoin\",\"Reddcoin\",\"RonPaulCoin\",\"StableCoin\",\"SmartCoin\",\"SuperCoin\",\"SyncCoin\",\"SysCoin\",\"TeslaCoin\",\"TigerCoin\",\"TittieCoin\",\"TorCoin\",\"TerraCoin\",\"UnbreakableCoin\",\"Unobtanium\",\"UroCoin\",\"UnitaryStatus Dollar\",\"UltraCoin\",\"ViaCoin\",\"VeriCoin\",\"Vertcoin\",\"WorldCoin\",\"X11 Coin\",\"Crypti\",\"JouleCoin\",\"StealthCoin\",\"ZCC Coin\",\"ByteCoin\",\"DigitalNote \",\"BurstCoin\",\"StorjCoin\",\"MonaCoin\",\"Neutron\",\"FairCoin\",\"Gulden\",\"RubyCoin\",\"PesetaCoin\",\"Kore\",\"Wild Beast Coin\",\"Dnotes\",\"Flo\",\"8BIT Coin\",\"Sativa Coin\",\"ArtByte\",\"Folding Coin\",\"Ucoin\",\"Unitus\",\"CypherPunkCoin\",\"OmniCron\",\"Vtorrent\",\"GreenCoin\",\"Cryptonite\",\"MasterCoin\",\"SoonCoin\",\"1Credit\",\"IslaCoin\",\"Nexus\",\"MarsCoin \",\"Crypto\",\"Anarchists Prime\",\"Droidz\",\"BowsCoin\",\"Squall Coin\",\"Song Coin\",\"BitZeny\",\"Diggits\",\"Expanse\",\"Paycon\",\"Siacoin\",\"Emercoin\",\"EverGreenCoin\",\"MindCoin\",\"I0coin\",\"Decred\",\"Revolution VR\",\"HOdlcoin\",\"EDRCoin\",\"Hitcoin\",\"Gamecredits\",\"DubaiCoin\",\"CarpeDiemCoin\",\"PWR Coin\",\"BillaryCoin\",\"GPU Coin\",\"Adzcoin\",\"SoilCoin\",\"YoCoin\",\"SibCoin\",\"EuropeCoin\",\"ZeitCoin\",\"SwingCoin\",\"SafeExchangeCoin\",\"Nebuchadnezzar\",\"Francs\",\"BolivarCoin\",\"Ratecoin\",\"Revenu\",\"Clockcoin\",\"VIP Tokens\",\"BitSend\",\"Omni\",\"Let it Ride\",\"PutinCoin\",\"iBankCoin\",\"Frankywillcoin\",\"MudraCoin\",\"PizzaCoin\",\"Lutetium Coin\",\"Komodo\",\"GoldBlocks\",\"CarterCoin\",\"Karbo\",\"BitTokens\",\"ZayedCoin\",\"MustangCoin\",\"ZoneCoin\",\"Circuits of Value\",\"RootCoin\",\"DopeCoin\",\"BitCurrency\",\"DollarCoin\",\"Swiscoin\",\"Shilling\",\"BuzzCoin\",\"Opair\",\"PesoBit\",\"Halloween Coin\",\"ZCoin\",\"CoffeeCoin\",\"RoyalCoin\",\"GanjaCoin V2\",\"TeamUP\",\"LanaCoin\",\"Elementrem\",\"ZClassic\",\"ARK\",\"InsaneCoin\",\"KiloCoin\",\"ArtexCoin\",\"EmberCoin\",\"XenixCoin\",\"FreeCoin\",\"PLNCoin\",\"AquariusCoin\",\"Kurrent\",\"Creatio\",\"Eternity\",\"Eurocoin\",\"BitcoinFast\",\"Stakenet\",\"BitConnect Coin\",\"MoneyCoin\",\"Enigma\",\"Cannabis Industry Coin\",\"Russiacoin\",\"PandaCoin\",\"GameUnits\",\"GAKHcoin\",\"Allsafe\",\"LiteCreed\",\"OsmiumCoin\",\"Bikercoins\",\"HexxCoin\",\"Klingon Empire Darsek\",\"Internet of People\",\"KushCoin\",\"Printerium\",\"PacCoin\",\"Impeach\",\"Citadel\",\"Zilbercoin\",\"FirstCoin\",\"BeaverCoin\",\"FindCoin\",\"VaultCoin\",\"Zero\",\"OpenChat\",\"Canada eCoin\",\"Zoin\",\"RenosCoin\",\"DubaiCoin\",\"VirtacoinPlus\",\"TajCoin\",\"Impact\",\"EB3coin\",\"Atmos\",\"HappyCoin\",\"Coinonat\",\"MacronCoin\",\"Condensate\",\"Independent Money System\",\"ArgusCoin\",\"LomoCoin\",\"ProCurrency\",\"GoldReserve\",\"BenjiRolls\",\"GrowthCoin\",\"ILCoin\",\"Phreak\",\"Degas Coin\",\"HTML5 Coin\",\"Ultimate Secure Cash\",\"EquiTrader\",\"QTUM\",\"Quantum Resistant Ledger\",\"Espers\",\"Dynamic\",\"Nano\",\"ChanCoin\",\"Dinastycoin\",\"Denarius\",\"DigitalPrice\",\"Virta Unique Coin\",\"Bitcoin Planet\",\"Unify\",\"BritCoin\",\"SocialCoin\",\"ArcticCoin\",\"DAS\",\"Linda\",\"LeviarCoin\",\"DeepOnion\",\"Bitcore\",\"gCn Coin\",\"SmartCash\",\"Signatum\",\"Onix\",\"Cream\",\"Bitcoin Cash\",\"Monoeci\",\"Draftcoin\",\"Vechain\",\"Sojourn Coin\",\"Stakecoin\",\"NewYorkCoin\",\"FrazCoin\",\"Kronecoin\",\"AdCoin\",\"Linx\",\"CoinonatX\",\"Ethereum Dark\",\"Sumokoin\",\"Obsidian\",\"Cardano\",\"Regalcoin\",\"BitcoinZ\",\"TrezarCoin\",\"Elements\",\"TerraNovaCoin\",\"VIVO Coin\",\"Rupee\",\"Bitcoin Gold\",\"WomenCoin\",\"Theresa May Coin\",\"NamoCoin\",\"LUXCoin\",\"Pirl\",\"Xios\",\"Bitcloud 2.0\",\"eBoost\",\"KekCoin\",\"BlackholeCoin\",\"Infinity Economics\",\"Pura\",\"Innova\",\"Ellaism\",\"GoByte\",\"Magnet\",\"Lamden Tau\",\"Electra\",\"Bitcoin Diamond\",\"SHIELD\",\"Cash & Back Coin\",\"UltraNote\",\"BitCoal\",\"DaxxCoin\",\"Bulwark\",\"Kalkulus\",\"AC3\",\"Lethean\",\"GermanCoin\",\"LiteCoin Ultra\",\"PopularCoin\",\"PhantomX\",\"Photon\",\"Sucre\",\"SparksPay\",\"Digiwage\",\"GunCoin\",\"IrishCoin\",\"Trollcoin\",\"Litecoin Plus\",\"Monkey Project\",\"Pioneer Coin\",\"UnitedBitcoin\",\"Interzone\",\"TokenPay\",\"1717 Masonic Commemorative Token\",\"My Big Coin\",\"TurtleCoin\",\"MUNcoin\",\"Unified Society USDEX\",\"Niobio Cash\",\"ShareChain\",\"Travelflex\",\"KREDS\",\"Tokyo Coin\",\"BitFlip\",\"LottoCoin\",\"Crypto Improvement Fund\",\"Stipend\",\"Poa Network\",\"Pushi\",\"Ellerium\",\"Velox\",\"Ontology\",\"Callisto Network\",\"BitTube\",\"Poseidon\",\"Aidos Kuneen\",\"Bitspace\",\"Briacoin\",\"Ignition\",\"Bitrolium\",\"MedicCoin\",\"Alpenschillling\",\"Bitcoin Green\",\"Deviant Coin\",\"Abjcoin\",\"Semux\",\"FuturoCoin\",\"Carebit\",\"Zealium\",\"Monero Classic\",\"Proton\",\"iDealCash\",\"Jumpcoin\",\"Infinex\",\"Bitcoin Incognito\",\"KEYCO\",\"HollyWoodCoin\",\"GINcoin\",\"PlatinCoin\",\"Loki\",\"Newton Coin\",\"Swisscoin\",\"Xt3ch\",\"MassGrid\",\"TheVig\",\"PluraCoin\",\"EmaratCoin\",\"Dekado\",\"Lynx\",\"Poseidon Quark\",\"BitcoinWSpectrum\",\"Muse\",\"Motion\",\"PlusOneCoin\",\"Axe\",\"Trivechain\",\"Dystem\",\"Giant\",\"Peony Coin\",\"Absolute Coin\",\"Vitae\",\"HexCoin\",\"TPCash\",\"Webchain\",\"Ryo\",\"Urals Coin\",\"Qwertycoin\",\"ARENON\",\"EUNO\",\"MMOCoin\",\"Ketan\",\"Project Pai\",\"XDNA\",\"PAXEX\",\"Azart\",\"ThunderStake\",\"Kcash\",\"Xchange\",\"Acute Angle Cloud\",\"CrypticCoin\",\"Bettex coin\",\"Actinium\",\"Bitcoin SV\",\"BitMoney\",\"Junson Ming Chan Coin\",\"FREDEnergy\",\"HerbCoin\",\"Universal Molecule\",\"Lithium\",\"PirateCash\",\"Exosis\",\"Block-Logic\",\"Oduwa\",\"Beam\",\"Galilel\",\"Bithereum\",\"Crypto Sports\",\"Credit\",\"SLICE\",\"Dash Platinum\",\"Nasdacoin\",\"Beetle Coin\",\"Titan Coin\",\"Award\",\"BLAST\",\"Bitcoin Rhodium\",\"GlobalToken\",\"Insane Coin\",\"ALAX\",\"LiteDoge\",\"SolarCoin\",\"TruckCoin\",\"UFO Coin\",\"OrangeCoin\",\"BlakeCoin\",\"BitstarCoin\",\"NeosCoin\",\"HyperCoin\",\"PinkCoin\",\"Crypto Escudo\",\"AudioCoin\",\"IncaKoin\",\"Piggy Coin\",\"Crown Coin\",\"Genstake\",\"SmileyCoin\",\"XiaoMiCoin\",\"Groestlcoin\",\"CapriCoin\",\" ClubCoin\",\"Radium\",\"Bata\",\"Pakcoin\",\"Creditbit \",\"OKCash\",\"Lisk\",\"HiCoin\",\"WhiteCoin\",\"FriendshipCoin\",\"JoinCoin\",\"Triangles Coin\",\"Vollar\",\"EOS\",\"Reality Clash\",\"Oxycoin\",\"TigerCash\",\"Waves\",\"Particl\",\"Nxt\",\"ZEPHYR\",\"Gapcoin\",\"Beldex\",\"Horizen\",\"BitcoinPlus\"],\"TotalCoinSupply\":{\"__ndarray__\":\"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\",\"dtype\":\"float64\",\"order\":\"little\",\"shape\":[529]},\"TotalCoinsMined\":{\"__ndarray__\":\"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\",\"dtype\":\"float64\",\"order\":\"little\",\"shape\":[529]}},\"selected\":{\"id\":\"1653\"},\"selection_policy\":{\"id\":\"1667\"}},\"id\":\"1652\",\"type\":\"ColumnDataSource\"},{\"attributes\":{\"fill_alpha\":{\"value\":0.1},\"fill_color\":{\"value\":\"#30a2da\"},\"hatch_alpha\":{\"value\":0.1},\"hatch_color\":{\"value\":\"#30a2da\"},\"line_alpha\":{\"value\":0.1},\"line_color\":{\"value\":\"#30a2da\"},\"size\":{\"value\":5.477225575051661},\"x\":{\"field\":\"TotalCoinsMined\"},\"y\":{\"field\":\"TotalCoinSupply\"}},\"id\":\"1656\",\"type\":\"Scatter\"},{\"attributes\":{},\"id\":\"1714\",\"type\":\"UnionRenderers\"},{\"attributes\":{\"fill_alpha\":{\"value\":0.2},\"fill_color\":{\"value\":\"#30a2da\"},\"hatch_alpha\":{\"value\":0.2},\"hatch_color\":{\"value\":\"#30a2da\"},\"line_alpha\":{\"value\":0.2},\"line_color\":{\"value\":\"#30a2da\"},\"size\":{\"value\":5.477225575051661},\"x\":{\"field\":\"TotalCoinsMined\"},\"y\":{\"field\":\"TotalCoinSupply\"}},\"id\":\"1657\",\"type\":\"Scatter\"},{\"attributes\":{\"fill_color\":{\"value\":\"#fc4f30\"},\"hatch_color\":{\"value\":\"#fc4f30\"},\"line_color\":{\"value\":\"#fc4f30\"},\"size\":{\"value\":5.477225575051661},\"x\":{\"field\":\"TotalCoinsMined\"},\"y\":{\"field\":\"TotalCoinSupply\"}},\"id\":\"1676\",\"type\":\"Scatter\"},{\"attributes\":{\"label\":{\"value\":\"2\"},\"renderers\":[{\"id\":\"1701\"}]},\"id\":\"1717\",\"type\":\"LegendItem\"},{\"attributes\":{\"fill_alpha\":{\"value\":0.1},\"fill_color\":{\"value\":\"#fc4f30\"},\"hatch_alpha\":{\"value\":0.1},\"hatch_color\":{\"value\":\"#fc4f30\"},\"line_alpha\":{\"value\":0.1},\"line_color\":{\"value\":\"#fc4f30\"},\"size\":{\"value\":5.477225575051661},\"x\":{\"field\":\"TotalCoinsMined\"},\"y\":{\"field\":\"TotalCoinSupply\"}},\"id\":\"1677\",\"type\":\"Scatter\"},{\"attributes\":{\"fill_alpha\":{\"value\":0.1},\"fill_color\":{\"value\":\"#6d904f\"},\"hatch_alpha\":{\"value\":0.1},\"hatch_color\":{\"value\":\"#6d904f\"},\"line_alpha\":{\"value\":0.1},\"line_color\":{\"value\":\"#6d904f\"},\"size\":{\"value\":5.477225575051661},\"x\":{\"field\":\"TotalCoinsMined\"},\"y\":{\"field\":\"TotalCoinSupply\"}},\"id\":\"1723\",\"type\":\"Scatter\"},{\"attributes\":{\"click_policy\":\"mute\",\"coordinates\":null,\"group\":null,\"items\":[{\"id\":\"1671\"},{\"id\":\"1693\"},{\"id\":\"1717\"},{\"id\":\"1743\"}],\"location\":[0,0],\"title\":\"Class\"},\"id\":\"1670\",\"type\":\"Legend\"},{\"attributes\":{\"angle\":{\"value\":0.0},\"fill_alpha\":{\"value\":1.0},\"fill_color\":{\"value\":\"#e5ae38\"},\"hatch_alpha\":{\"value\":1.0},\"hatch_color\":{\"value\":\"#e5ae38\"},\"hatch_scale\":{\"value\":12.0},\"hatch_weight\":{\"value\":1.0},\"line_alpha\":{\"value\":1.0},\"line_cap\":{\"value\":\"butt\"},\"line_color\":{\"value\":\"#e5ae38\"},\"line_dash\":{\"value\":[]},\"line_dash_offset\":{\"value\":0},\"line_join\":{\"value\":\"bevel\"},\"line_width\":{\"value\":1},\"marker\":{\"value\":\"circle\"},\"size\":{\"value\":5.477225575051661},\"x\":{\"field\":\"TotalCoinsMined\"},\"y\":{\"field\":\"TotalCoinSupply\"}},\"id\":\"1718\",\"type\":\"Scatter\"},{\"attributes\":{},\"id\":\"1674\",\"type\":\"Selection\"},{\"attributes\":{\"fill_color\":{\"value\":\"#6d904f\"},\"hatch_color\":{\"value\":\"#6d904f\"},\"line_color\":{\"value\":\"#6d904f\"},\"size\":{\"value\":5.477225575051661},\"x\":{\"field\":\"TotalCoinsMined\"},\"y\":{\"field\":\"TotalCoinSupply\"}},\"id\":\"1722\",\"type\":\"Scatter\"},{\"attributes\":{\"coordinates\":null,\"data_source\":{\"id\":\"1695\"},\"glyph\":{\"id\":\"1698\"},\"group\":null,\"hover_glyph\":null,\"muted_glyph\":{\"id\":\"1700\"},\"nonselection_glyph\":{\"id\":\"1699\"},\"selection_glyph\":{\"id\":\"1718\"},\"view\":{\"id\":\"1702\"}},\"id\":\"1701\",\"type\":\"GlyphRenderer\"},{\"attributes\":{},\"id\":\"1621\",\"type\":\"LinearScale\"},{\"attributes\":{\"fill_color\":{\"value\":\"#30a2da\"},\"hatch_color\":{\"value\":\"#30a2da\"},\"line_color\":{\"value\":\"#30a2da\"},\"size\":{\"value\":5.477225575051661},\"x\":{\"field\":\"TotalCoinsMined\"},\"y\":{\"field\":\"TotalCoinSupply\"}},\"id\":\"1655\",\"type\":\"Scatter\"},{\"attributes\":{\"coordinates\":null,\"group\":null,\"text_color\":\"black\",\"text_font_size\":\"12pt\"},\"id\":\"1617\",\"type\":\"Title\"},{\"attributes\":{},\"id\":\"1740\",\"type\":\"UnionRenderers\"},{\"attributes\":{\"axis\":{\"id\":\"1625\"},\"coordinates\":null,\"grid_line_color\":null,\"group\":null,\"ticker\":null},\"id\":\"1628\",\"type\":\"Grid\"},{\"attributes\":{\"end\":1.1,\"reset_end\":1.1,\"reset_start\":-0.1,\"start\":-0.1,\"tags\":[[[\"TotalCoinSupply\",\"TotalCoinSupply\",null]]]},\"id\":\"1611\",\"type\":\"Range1d\"},{\"attributes\":{\"angle\":{\"value\":0.0},\"fill_alpha\":{\"value\":1.0},\"fill_color\":{\"value\":\"#6d904f\"},\"hatch_alpha\":{\"value\":1.0},\"hatch_color\":{\"value\":\"#6d904f\"},\"hatch_scale\":{\"value\":12.0},\"hatch_weight\":{\"value\":1.0},\"line_alpha\":{\"value\":1.0},\"line_cap\":{\"value\":\"butt\"},\"line_color\":{\"value\":\"#6d904f\"},\"line_dash\":{\"value\":[]},\"line_dash_offset\":{\"value\":0},\"line_join\":{\"value\":\"bevel\"},\"line_width\":{\"value\":1},\"marker\":{\"value\":\"circle\"},\"size\":{\"value\":5.477225575051661},\"x\":{\"field\":\"TotalCoinsMined\"},\"y\":{\"field\":\"TotalCoinSupply\"}},\"id\":\"1744\",\"type\":\"Scatter\"},{\"attributes\":{},\"id\":\"1623\",\"type\":\"LinearScale\"},{\"attributes\":{\"axis_label\":\"TotalCoinSupply\",\"coordinates\":null,\"formatter\":{\"id\":\"1650\"},\"group\":null,\"major_label_policy\":{\"id\":\"1651\"},\"ticker\":{\"id\":\"1630\"}},\"id\":\"1629\",\"type\":\"LinearAxis\"},{\"attributes\":{\"callback\":null,\"renderers\":[{\"id\":\"1658\"},{\"id\":\"1679\"},{\"id\":\"1701\"},{\"id\":\"1725\"}],\"tags\":[\"hv_created\"],\"tooltips\":[[\"Class\",\"@{Class}\"],[\"TotalCoinsMined\",\"@{TotalCoinsMined}\"],[\"TotalCoinSupply\",\"@{TotalCoinSupply}\"],[\"CoinName\",\"@{CoinName}\"]]},\"id\":\"1612\",\"type\":\"HoverTool\"},{\"attributes\":{},\"id\":\"1653\",\"type\":\"Selection\"},{\"attributes\":{\"axis_label\":\"TotalCoinsMined\",\"coordinates\":null,\"formatter\":{\"id\":\"1647\"},\"group\":null,\"major_label_policy\":{\"id\":\"1648\"},\"ticker\":{\"id\":\"1626\"}},\"id\":\"1625\",\"type\":\"LinearAxis\"},{\"attributes\":{\"axis\":{\"id\":\"1629\"},\"coordinates\":null,\"dimension\":1,\"grid_line_color\":null,\"group\":null,\"ticker\":null},\"id\":\"1632\",\"type\":\"Grid\"},{\"attributes\":{},\"id\":\"1696\",\"type\":\"Selection\"},{\"attributes\":{\"source\":{\"id\":\"1652\"}},\"id\":\"1659\",\"type\":\"CDSView\"},{\"attributes\":{},\"id\":\"1648\",\"type\":\"AllLabels\"},{\"attributes\":{\"margin\":[5,5,5,5],\"name\":\"HSpacer01611\",\"sizing_mode\":\"stretch_width\"},\"id\":\"1761\",\"type\":\"Spacer\"},{\"attributes\":{},\"id\":\"1651\",\"type\":\"AllLabels\"},{\"attributes\":{},\"id\":\"1720\",\"type\":\"Selection\"},{\"attributes\":{},\"id\":\"1650\",\"type\":\"BasicTickFormatter\"},{\"attributes\":{},\"id\":\"1633\",\"type\":\"SaveTool\"},{\"attributes\":{},\"id\":\"1634\",\"type\":\"PanTool\"},{\"attributes\":{},\"id\":\"1647\",\"type\":\"BasicTickFormatter\"},{\"attributes\":{\"end\":1.042857142857143,\"reset_end\":1.042857142857143,\"reset_start\":-0.04285714285714286,\"start\":-0.04285714285714286,\"tags\":[[[\"TotalCoinsMined\",\"TotalCoinsMined\",null]]]},\"id\":\"1610\",\"type\":\"Range1d\"},{\"attributes\":{\"data\":{\"Class\":[3],\"CoinName\":[\"BiblePay\"],\"TotalCoinSupply\":{\"__ndarray__\":\"lPYGX5hMdT8=\",\"dtype\":\"float64\",\"order\":\"little\",\"shape\":[1]},\"TotalCoinsMined\":{\"__ndarray__\":\"j1gNkdpTXT8=\",\"dtype\":\"float64\",\"order\":\"little\",\"shape\":[1]}},\"selected\":{\"id\":\"1720\"},\"selection_policy\":{\"id\":\"1740\"}},\"id\":\"1719\",\"type\":\"ColumnDataSource\"},{\"attributes\":{\"label\":{\"value\":\"0\"},\"renderers\":[{\"id\":\"1658\"}]},\"id\":\"1671\",\"type\":\"LegendItem\"},{\"attributes\":{\"coordinates\":null,\"data_source\":{\"id\":\"1652\"},\"glyph\":{\"id\":\"1655\"},\"group\":null,\"hover_glyph\":null,\"muted_glyph\":{\"id\":\"1657\"},\"nonselection_glyph\":{\"id\":\"1656\"},\"selection_glyph\":{\"id\":\"1672\"},\"view\":{\"id\":\"1659\"}},\"id\":\"1658\",\"type\":\"GlyphRenderer\"},{\"attributes\":{},\"id\":\"1635\",\"type\":\"WheelZoomTool\"}],\"root_ids\":[\"1608\"]},\"title\":\"Bokeh Application\",\"version\":\"2.4.3\"}};\n",
       "    var render_items = [{\"docid\":\"fa3530f1-6e8f-4e5a-b259-11e0af0b7e62\",\"root_ids\":[\"1608\"],\"roots\":{\"1608\":\"e8e9645c-cd4d-4a56-8bd1-967648a8061c\"}}];\n",
       "    root.Bokeh.embed.embed_items_notebook(docs_json, render_items);\n",
       "  }\n",
       "  if (root.Bokeh !== undefined && root.Bokeh.Panel !== undefined) {\n",
       "    embed_document(root);\n",
       "  } else {\n",
       "    var attempts = 0;\n",
       "    var timer = setInterval(function(root) {\n",
       "      if (root.Bokeh !== undefined && root.Bokeh.Panel !== undefined) {\n",
       "        clearInterval(timer);\n",
       "        embed_document(root);\n",
       "      } else if (document.readyState == \"complete\") {\n",
       "        attempts++;\n",
       "        if (attempts > 200) {\n",
       "          clearInterval(timer);\n",
       "          console.log(\"Bokeh: ERROR: Unable to run BokehJS code because BokehJS library is missing\");\n",
       "        }\n",
       "      }\n",
       "    }, 25, root)\n",
       "  }\n",
       "})(window);</script>"
      ],
      "text/plain": [
       ":NdOverlay   [Class]\n",
       "   :Scatter   [TotalCoinsMined]   (TotalCoinSupply,CoinName)"
      ]
     },
     "execution_count": 64,
     "metadata": {
      "application/vnd.holoviews_exec.v0+json": {
       "id": "1608"
      }
     },
     "output_type": "execute_result"
    }
   ],
   "source": [
    "# Create a hvplot.scatter plot using x=\"TotalCoinsMined\" and y=\"TotalCoinSupply\".\n",
    "plot_df.hvplot.scatter(\n",
    "    x=\"TotalCoinsMined\",\n",
    "    y=\"TotalCoinSupply\",\n",
    "    hover_cols=[\"CoinName\"],\n",
    "    by=\"Class\",\n",
    ")\n"
   ]
  },
  {
   "cell_type": "code",
   "execution_count": null,
   "metadata": {},
   "outputs": [],
   "source": []
  }
 ],
 "metadata": {
  "file_extension": ".py",
  "kernelspec": {
   "display_name": "mlenv",
   "language": "python",
   "name": "mlenv"
  },
  "language_info": {
   "codemirror_mode": {
    "name": "ipython",
    "version": 3
   },
   "file_extension": ".py",
   "mimetype": "text/x-python",
   "name": "python",
   "nbconvert_exporter": "python",
   "pygments_lexer": "ipython3",
   "version": "3.7.13"
  },
  "latex_envs": {
   "LaTeX_envs_menu_present": true,
   "autoclose": false,
   "autocomplete": true,
   "bibliofile": "biblio.bib",
   "cite_by": "apalike",
   "current_citInitial": 1,
   "eqLabelWithNumbers": true,
   "eqNumInitial": 1,
   "hotkeys": {
    "equation": "Ctrl-E",
    "itemize": "Ctrl-I"
   },
   "labels_anchors": false,
   "latex_user_defs": false,
   "report_style_numbering": false,
   "user_envs_cfg": false
  },
  "mimetype": "text/x-python",
  "name": "python",
  "npconvert_exporter": "python",
  "pygments_lexer": "ipython3",
  "version": 3
 },
 "nbformat": 4,
 "nbformat_minor": 2
}
